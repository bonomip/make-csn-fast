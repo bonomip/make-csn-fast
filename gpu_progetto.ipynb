{
  "nbformat": 4,
  "nbformat_minor": 0,
  "metadata": {
    "colab": {
      "name": "gpu_progetto.ipynb",
      "private_outputs": true,
      "provenance": [],
      "collapsed_sections": [
        "fZYqN0UwVLC_",
        "WoJbB3T5Vkw-",
        "_cGSqZovVkxK",
        "cReFlD-VRfZe",
        "EekCnoMemnZx",
        "Lk5Ub7-4jEAI",
        "DxTsQDwtCO_F",
        "pCafxg9iEe-a",
        "HjZ-DWEOYcJj",
        "sHYtG-_t4P6o",
        "VpLoo15PrK66"
      ],
      "include_colab_link": true
    },
    "kernelspec": {
      "name": "python3",
      "display_name": "Python 3"
    },
    "accelerator": "GPU",
    "gpuClass": "standard"
  },
  "cells": [
    {
      "cell_type": "markdown",
      "metadata": {
        "id": "view-in-github",
        "colab_type": "text"
      },
      "source": [
        "<a href=\"https://colab.research.google.com/github/bonomip/GPU/blob/master/gpu_progetto.ipynb\" target=\"_parent\"><img src=\"https://colab.research.google.com/assets/colab-badge.svg\" alt=\"Open In Colab\"/></a>"
      ]
    },
    {
      "cell_type": "markdown",
      "source": [
        "---\n",
        "# PROGETTO CLUSTER\n",
        "---"
      ],
      "metadata": {
        "id": "fZYqN0UwVLC_"
      }
    },
    {
      "cell_type": "markdown",
      "metadata": {
        "id": "WoJbB3T5Vkw-"
      },
      "source": [
        "# 🎬 CUDA setup"
      ]
    },
    {
      "cell_type": "code",
      "metadata": {
        "id": "Fht2Wy8wVkxJ"
      },
      "source": [
        "!nvcc --version"
      ],
      "execution_count": null,
      "outputs": []
    },
    {
      "cell_type": "code",
      "metadata": {
        "id": "0jP2H_YJVkxJ"
      },
      "source": [
        "!nvidia-smi"
      ],
      "execution_count": null,
      "outputs": []
    },
    {
      "cell_type": "markdown",
      "source": [
        "## [GPU Compute Capability](https://developer.nvidia.com/cuda-gpus)"
      ],
      "metadata": {
        "id": "VKbaxH9wWosO"
      }
    },
    {
      "cell_type": "markdown",
      "metadata": {
        "id": "_cGSqZovVkxK"
      },
      "source": [
        "## NVCC Plugin for Jupyter notebook\n",
        "\n",
        "*Usage*:\n",
        "\n",
        "\n",
        "*   Load Extension `%load_ext nvcc_plugin`\n",
        "*   Mark a cell to be treated as cuda cell\n",
        "`%%cuda --name example.cu --compile false`\n",
        "\n",
        "**NOTE**: The cell must contain either code or comments to be run successfully. It accepts 2 arguments. `-n | --name` - which is the name of either CUDA source or Header. The name parameter must have extension `.cu` or `.h`. Second argument -c | --compile; default value is false. The argument is a flag to specify if the cell will be compiled and run right away or not. It might be usefull if you're playing in the main function\n",
        "\n",
        "*  We are ready to run CUDA C/C++ code right in your Notebook. For this we need explicitly say to the interpreter, that we want to use the extension by adding `%%cu` at the beginning of each cell with CUDA code. \n",
        "\n",
        "\n"
      ]
    },
    {
      "cell_type": "code",
      "metadata": {
        "id": "RCVhMkqYVkxK"
      },
      "source": [
        "!pip install git+https://github.com/andreinechaev/nvcc4jupyter.git\n"
      ],
      "execution_count": null,
      "outputs": []
    },
    {
      "cell_type": "code",
      "metadata": {
        "id": "e6PDOytTVkxK"
      },
      "source": [
        "%load_ext nvcc_plugin"
      ],
      "execution_count": null,
      "outputs": []
    },
    {
      "cell_type": "code",
      "source": [
        "%pip install --target=$nb_path pycuda"
      ],
      "metadata": {
        "id": "WFlCquMbAjxi"
      },
      "execution_count": null,
      "outputs": []
    },
    {
      "cell_type": "code",
      "source": [
        "!mkdir -p src"
      ],
      "metadata": {
        "id": "niSfHiMqKEmW"
      },
      "execution_count": null,
      "outputs": []
    },
    {
      "cell_type": "code",
      "source": [
        "#@title Bash setup\n",
        "%%writefile /root/.bashrc\n",
        "\n",
        "# If not running interactively, don't do anything\n",
        "[ -z \"$PS1\" ] && return\n",
        "\n",
        "# don't put duplicate lines in the history. See bash(1) for more options\n",
        "# ... or force ignoredups and ignorespace\n",
        "HISTCONTROL=ignoredups:ignorespace\n",
        "\n",
        "# append to the history file, don't overwrite it\n",
        "shopt -s histappend\n",
        "\n",
        "# for setting history length see HISTSIZE and HISTFILESIZE in bash(1)\n",
        "HISTSIZE=10000\n",
        "HISTFILESIZE=20000\n",
        "\n",
        "# check the window size after each command and, if necessary,\n",
        "# update the values of LINES and COLUMNS.\n",
        "shopt -s checkwinsize\n",
        "\n",
        "# make less more friendly for non-text input files, see lesspipe(1)\n",
        "[ -x /usr/bin/lesspipe ] && eval \"$(SHELL=/bin/sh lesspipe)\"\n",
        "\n",
        "PS1='\\[\\033[01;34m\\]\\w\\[\\033[00m\\]\\$ '\n",
        "\n",
        "# enable color support of ls and also add handy aliases\n",
        "if [ -x /usr/bin/dircolors ]; then\n",
        "    test -r ~/.dircolors && eval \"$(dircolors -b ~/.dircolors)\" || eval \"$(dircolors -b)\"\n",
        "    alias ls='ls --color=auto'\n",
        "    #alias dir='dir --color=auto'\n",
        "    #alias vdir='vdir --color=auto'\n",
        "\n",
        "    alias grep='grep --color=auto'\n",
        "    alias fgrep='fgrep --color=auto'\n",
        "    alias egrep='egrep --color=auto'\n",
        "fi\n",
        "\n",
        "# some more ls aliases\n",
        "alias ll='ls -lF'\n",
        "alias la='ls -A'\n",
        "alias l='ls -CF'\n",
        "\n",
        "# path setup\n",
        "export PATH=\"./:/usr/local/cuda/bin:$PATH\""
      ],
      "metadata": {
        "id": "-t2fL8_jTfb_"
      },
      "execution_count": null,
      "outputs": []
    },
    {
      "cell_type": "markdown",
      "source": [
        "## 📦 Packages"
      ],
      "metadata": {
        "id": "EekCnoMemnZx"
      }
    },
    {
      "cell_type": "markdown",
      "source": [
        "C pkgs"
      ],
      "metadata": {
        "id": "7tesb4R7KhaG"
      }
    },
    {
      "cell_type": "code",
      "source": [
        "%%writefile src/common.h\n",
        "\n",
        "#include <sys/time.h>\n",
        "#include <stdio.h>\n",
        "\n",
        "#ifndef _COMMON_H\n",
        "#define _COMMON_H\n",
        "\n",
        "#define CHECK(call)                                                            \\\n",
        "{                                                                              \\\n",
        "    const cudaError_t error = call;                                            \\\n",
        "    if (error != cudaSuccess)                                                  \\\n",
        "    {                                                                          \\\n",
        "        fprintf(stderr, \"Error: %s:%d, \", __FILE__, __LINE__);                 \\\n",
        "        fprintf(stderr, \"code: %d, reason: %s\\n\", error,                       \\\n",
        "                cudaGetErrorString(error));                                    \\\n",
        "    }                                                                          \\\n",
        "}\n",
        "\n",
        "#define CHECK_CUBLAS(call)                                                     \\\n",
        "{                                                                              \\\n",
        "    cublasStatus_t err;                                                        \\\n",
        "    if ((err = (call)) != CUBLAS_STATUS_SUCCESS)                               \\\n",
        "    {                                                                          \\\n",
        "        fprintf(stderr, \"Got CUBLAS error %d at %s:%d\\n\", err, __FILE__,       \\\n",
        "                __LINE__);                                                     \\\n",
        "        exit(1);                                                               \\\n",
        "    }                                                                          \\\n",
        "}\n",
        "\n",
        "#define CHECK_CURAND(call)                                                     \\\n",
        "{                                                                              \\\n",
        "    curandStatus_t err;                                                        \\\n",
        "    if ((err = (call)) != CURAND_STATUS_SUCCESS)                               \\\n",
        "    {                                                                          \\\n",
        "        fprintf(stderr, \"Got CURAND error %d at %s:%d\\n\", err, __FILE__,       \\\n",
        "                __LINE__);                                                     \\\n",
        "        exit(1);                                                               \\\n",
        "    }                                                                          \\\n",
        "}\n",
        "\n",
        "#define CHECK_CUFFT(call)                                                      \\\n",
        "{                                                                              \\\n",
        "    cufftResult err;                                                           \\\n",
        "    if ( (err = (call)) != CUFFT_SUCCESS)                                      \\\n",
        "    {                                                                          \\\n",
        "        fprintf(stderr, \"Got CUFFT error %d at %s:%d\\n\", err, __FILE__,        \\\n",
        "                __LINE__);                                                     \\\n",
        "        exit(1);                                                               \\\n",
        "    }                                                                          \\\n",
        "}\n",
        "\n",
        "#define CHECK_CUSPARSE(call)                                                   \\\n",
        "{                                                                              \\\n",
        "    cusparseStatus_t err;                                                      \\\n",
        "    if ((err = (call)) != CUSPARSE_STATUS_SUCCESS)                             \\\n",
        "    {                                                                          \\\n",
        "        fprintf(stderr, \"Got error %d at %s:%d\\n\", err, __FILE__, __LINE__);   \\\n",
        "        cudaError_t cuda_err = cudaGetLastError();                             \\\n",
        "        if (cuda_err != cudaSuccess)                                           \\\n",
        "        {                                                                      \\\n",
        "            fprintf(stderr, \"  CUDA error \\\"%s\\\" also detected\\n\",             \\\n",
        "                    cudaGetErrorString(cuda_err));                             \\\n",
        "        }                                                                      \\\n",
        "        exit(1);                                                               \\\n",
        "    }                                                                          \\\n",
        "}\n",
        "\n",
        "cudaEvent_t start, stop;\n",
        "\n",
        "inline void tic(){\n",
        "  cudaEventCreate(&start);\n",
        "\tcudaEventCreate(&stop);\n",
        "  CHECK(cudaEventRecord(start));\n",
        "}\n",
        "\n",
        "inline void toc(){\n",
        "  CHECK(cudaEventRecord(stop));\n",
        "  CHECK(cudaEventSynchronize(stop));\n",
        "  \n",
        "  float milliseconds;\n",
        "  CHECK(cudaEventElapsedTime(&milliseconds, start, stop));\n",
        "  printf(\"    elapsed time: %.5f (sec)\\n\", milliseconds / 1000.0);\n",
        "}\n",
        "\n",
        "inline double seconds() {\n",
        "    struct timeval tp;\n",
        "    struct timezone tzp;\n",
        "    int i = gettimeofday(&tp, &tzp);\n",
        "    return ((double)tp.tv_sec + (double)tp.tv_usec * 1.e-6);\n",
        "}\n",
        "\n",
        "inline void device_name() {\n",
        "    // set up device\n",
        "    int dev = 0;\n",
        "    cudaDeviceProp deviceProp;\n",
        "    CHECK(cudaGetDeviceProperties(&deviceProp, dev));\n",
        "    printf(\"device %d: %s\\n\", dev, deviceProp.name);\n",
        "    CHECK(cudaSetDevice(dev));\n",
        "}\n",
        "\n",
        "typedef unsigned long ulong;\n",
        "typedef unsigned int uint;\n",
        "\n",
        "#endif // _COMMON_H"
      ],
      "metadata": {
        "id": "x9bynJCXKkqU"
      },
      "execution_count": null,
      "outputs": []
    },
    {
      "cell_type": "code",
      "source": [
        "from sklearn.metrics.pairwise import euclidean_distances\n",
        "from sklearn.preprocessing import StandardScaler\n",
        "from sklearn.metrics import pairwise_distances\n",
        "from sklearn.datasets import make_blobs\n",
        "from sklearn.decomposition import PCA\n",
        "import plotly.graph_objects as go\n",
        "import plotly.express as px\n",
        "import numpy\n",
        "import numba\n",
        "import time\n",
        "\n",
        "\n",
        "def get_chunks_of_size_until_empty(size, n):\n",
        "  #function that return n as an array of chunks\n",
        "  n_chunks = math.ceil(n/size)\n",
        "\n",
        "  chunks = [0] * (n_chunks)\n",
        "\n",
        "  for i in range(0, n_chunks-1):\n",
        "      chunks[i] = size\n",
        "\n",
        "  if(n_chunks == n/size):\n",
        "      chunks[n_chunks-1] = size\n",
        "  else:\n",
        "      chunks[n_chunks-1] = int(n-numpy.sum(chunks))\n",
        "\n",
        "  return chunks\n",
        "\n",
        "def TicTocGenerator():\n",
        "  # Generator that returns time differences\n",
        "  ti = 0           # initial time\n",
        "  tf = time.time() # final time\n",
        "  while True:\n",
        "    ti = tf\n",
        "    tf = time.time()\n",
        "    yield tf-ti # returns the time difference\n",
        "\n",
        "TicToc = TicTocGenerator() \n",
        "\n",
        "def toc(tempBool=True):\n",
        "  # Prints the time difference yielded by generator instance TicToc\n",
        "  tempTimeInterval = next(TicToc)\n",
        "  if tempBool:\n",
        "    print( \"Elapsed time: %f seconds.\" %tempTimeInterval )\n",
        "  return tempTimeInterval\n",
        "\n",
        "def tic():\n",
        "  # Records a time in TicToc, marks the beginning of a time interval\n",
        "  toc(False)\n",
        "\n",
        "# instance creation\n",
        "def rand_blobs(n, d, k=3, std=1, rstate=None, standard=True, display=True, threeD=False): \n",
        "  X, l = make_blobs(n_samples=n, centers=k, n_features=d, cluster_std=std, random_state=rstate)\n",
        "  if standard:\n",
        "    scaler = StandardScaler()\n",
        "    X = scaler.fit_transform(X)\n",
        "  W = euclidean_distances(X, X)\n",
        "\n",
        "  # plot\n",
        "  if display:\n",
        "    plot_blobs(X,l,threeD)\n",
        "  return X, l, W, n\n",
        "\n",
        "def histogram(theta, nbins=None, verb=True):\n",
        "  if nbins is None:\n",
        "    nbins = len(theta)\n",
        "  binsLIM = numpy.linspace(0,2*numpy.pi,nbins)\n",
        "  hist, bins = numpy.histogram(theta, binsLIM)\n",
        "\n",
        "  if verb:\n",
        "    print('Data size : %d' %len(theta))\n",
        "    print('Num bins  : %d' %nbins)\n",
        "\n",
        "  return hist, bins \n",
        "\n",
        "def plot_circle(theta, l=None, radius=500):\n",
        "  \"\"\"\n",
        "    Produce a plot with the locations of all poles and zeros\n",
        "  \"\"\"\n",
        "\n",
        "  x = numpy.cos(theta)\n",
        "  y = numpy.sin(theta)\n",
        "\n",
        "  fig = go.Figure()\n",
        "  fig.add_shape(type=\"circle\", xref=\"x\", yref=\"y\", x0=-1, y0=-1, x1=1, y1=1, line=dict(color=\"black\", width=1))\n",
        "  \n",
        "  if l is None:\n",
        "    fig.add_trace(go.Scatter(x=x, y=y,\n",
        "          mode='markers',\n",
        "          marker_symbol='circle',\n",
        "          marker_size=10))\n",
        "  else:\n",
        "    ul = numpy.unique(l)\n",
        "    cols = list(range(len(ul)))\n",
        "    for c,u in zip(cols,ul):\n",
        "      idx = numpy.where(u == l)\n",
        "      fig.add_trace(go.Scatter(x=x[idx], y=y[idx],\n",
        "          mode='markers',\n",
        "          marker_symbol='circle',\n",
        "          marker_color=cols[c], \n",
        "          marker_line_color=cols[c],\n",
        "          marker_line_width=0, \n",
        "          marker_size=10))\n",
        "  \n",
        "  M = 1.05\n",
        "  fig.update_xaxes(title='', range=[-M, M])\n",
        "  fig.update_yaxes(title='', range=[-M, M])\n",
        "  fig.update_layout(title='clusters', width=radius, height=radius)\n",
        "  fig.show()\n",
        "\n",
        "def plot_hist(hist, bins, mode=0, smooth_wlen=None):\n",
        "\n",
        "  if mode==0:\n",
        "    mode_line = 'lines'\n",
        "  elif mode == 1:\n",
        "    mode_line = 'markers'\n",
        "  else:\n",
        "    mode_line = 'lines+markers'\n",
        "  \n",
        "  if smooth_wlen is not None:\n",
        "    hist = smooth(hist, window_len=smooth_wlen, window='hanning')\n",
        "\n",
        "  figh = go.Figure(data=go.Scatter(x=bins, y=hist, mode=mode_line))\n",
        "  figh.show()\n",
        "\n",
        "def plot_blobs(X, labels=None, threeD=False, doPCA=True, sizex=1):\n",
        "\n",
        "  if threeD:\n",
        "    if PCA:\n",
        "      pca = PCA(n_components=3)\n",
        "      components = pca.fit_transform(X)\n",
        "    else:\n",
        "      components = X[:,0:3]  \n",
        "    if labels is None:\n",
        "      fig = px.scatter_3d(components, x=0, y=1, z=2, title='Blobs 3D',\n",
        "                          labels={'0': 'PC 1', '1': 'PC 2', '2': 'PC 3'})\n",
        "    else:\n",
        "      fig = px.scatter_3d(components, x=0, y=1, z=2, color=labels, title='Blobs 3D',\n",
        "                          labels={'0': 'PC 1', '1': 'PC 2', '2': 'PC 3'})\n",
        "  else:\n",
        "    if doPCA:\n",
        "      pca = PCA(n_components=2)\n",
        "      components = pca.fit_transform(X)\n",
        "    else:\n",
        "      components = X[:,0:2]  \n",
        "    if labels is None:\n",
        "      fig = px.scatter(components, x=0, y=1, title='Blobs 2D', labels={'0': 'PC 1', '1': 'PC 2'})\n",
        "    else:\n",
        "      fig = px.scatter(components, x=0, y=1, title='Blobs 2D', color=labels, labels={'0': 'PC 1', '1': 'PC 2'})\n",
        "  \n",
        "  fig.update_layout(\n",
        "    width = 800*sizex,\n",
        "    height = 800*sizex,\n",
        "    title = \"fixed-ratio axes\")\n",
        "  fig.update_yaxes(\n",
        "    scaleanchor = \"x\",\n",
        "    scaleratio = 1)\n",
        "  fig.show()\n",
        "\n",
        "\n",
        "def kmeans(X, k, niter=300, rstate=0, n_init=10):\n",
        "  kmeans = KMeans(n_clusters=k, n_init=n_init, max_iter=niter, random_state=rstate)\n",
        "  kmeans.fit(X)\n",
        "\n",
        "  return kmeans.labels_, kmeans.n_iter_, kmeans.inertia_ "
      ],
      "metadata": {
        "id": "Wup0k6_Xm_Su"
      },
      "execution_count": null,
      "outputs": []
    },
    {
      "cell_type": "markdown",
      "source": [
        "# 🪣 CSN Algorithms"
      ],
      "metadata": {
        "id": "EBR69K526Jeb"
      }
    },
    {
      "cell_type": "markdown",
      "source": [
        "## 📟 Legacy Code"
      ],
      "metadata": {
        "id": "gCTzGb4dR4up"
      }
    },
    {
      "cell_type": "markdown",
      "source": [
        "### CPU\n"
      ],
      "metadata": {
        "id": "LUJWU-7Yj9nd"
      }
    },
    {
      "cell_type": "code",
      "source": [
        "@numba.jit\n",
        "def CSN_LEGACY(W, eps=0.01, theta0=None, normalize=True, seed=1):\n",
        "\n",
        "  # general vars\n",
        "  PI = numpy.pi #numpy.pi\n",
        "  n = W.shape[0]\n",
        "\n",
        "  # param check\n",
        "  if normalize:\n",
        "    W = W / numpy.linalg.norm(W) #linear algebra norm\n",
        "  if theta0 is None: # if theta is not defined\n",
        "    numpy.random.seed(seed)\n",
        "    theta = 2*PI*numpy.random.rand(n)  # init. values in [0, 2*PI] # cudarandom\n",
        "  else:\n",
        "    theta = theta0\n",
        "\n",
        "  # preliminar computations \n",
        "  sin_t = numpy.sin(theta)\n",
        "  cos_t = numpy.cos(theta)\n",
        "  A = numpy.dot(W, cos_t)\n",
        "  B = numpy.dot(W, sin_t)\n",
        "\n",
        "  # main loop\n",
        "  ok = True\n",
        "  rounds = 0\n",
        "  while ok:\n",
        "    ok = False\n",
        "    rounds += 1\n",
        "    nchanges = 0\n",
        "    # loop on angles\n",
        "    for i in range(n):\n",
        "      old = theta[i]\n",
        "\n",
        "      # change i-th theta\n",
        "      theta[i] = numpy.arctan(B[i]/A[i])    # within [-PI/2, PI/2]\n",
        "\n",
        "      if A[i] >= 0:\n",
        "        theta[i] += PI\n",
        "      elif B[i] > 0:\n",
        "        theta[i] += 2*PI\n",
        "\n",
        "      # update Ak & Bk by elementwise product and diff\n",
        "      A += numpy.multiply(W[i,:], numpy.repeat(numpy.cos(theta[i]) - numpy.cos(old), n))\n",
        "      B += numpy.multiply(W[i,:], numpy.repeat(numpy.sin(theta[i]) - numpy.sin(old), n)) \n",
        "\n",
        "      if min(abs(old-theta[i]),abs(2*PI-old+theta[i])) > eps:\n",
        "        ok = True\n",
        "        nchanges += 1\n",
        "\n",
        "  print(\"rounds=\"+str(rounds))\n",
        "\n",
        "  return theta"
      ],
      "metadata": {
        "id": "_LIsbM_EkCLm"
      },
      "execution_count": null,
      "outputs": []
    },
    {
      "cell_type": "markdown",
      "source": [
        "### GPU\n"
      ],
      "metadata": {
        "id": "Lk5Ub7-4jEAI"
      }
    },
    {
      "cell_type": "code",
      "source": [
        "def CSN1_legacy(W, eps=0.01, theta0=None, verb=0):\n",
        "\n",
        "  n = W.shape[0]\n",
        "  W = (W / numpy.linalg.norm(W)).astype('float32')\n",
        "  PI = numpy.pi\n",
        "  if theta0 is None:\n",
        "    theta = 2*PI*numpy.random.rand(n)  # init. values in [0, 2*PI]\n",
        "  else:\n",
        "    theta = theta0\n",
        "\n",
        "  TxB = 32      # number of threads in a block\n",
        "  BxG = (n + (TxB - 1)) // TxB    # number of thread blocks in the grid\n",
        " \n",
        "  sin_t = numpy.sin(theta)\n",
        "  cos_t = numpy.cos(theta)\n",
        "  A = numpy.dot(W, cos_t).astype('float32')\n",
        "  B = numpy.dot(W, sin_t).astype('float32')\n",
        "\n",
        "  # main loop\n",
        "  ok = True\n",
        "  rounds = 0\n",
        "  while ok:\n",
        "    ok = False\n",
        "    rounds += 1\n",
        "    nchanges = 0\n",
        "    # loop on angles\n",
        "    for i in range(n):\n",
        "      old = theta[i]\n",
        "\n",
        "      # change i-th theta\n",
        "      theta[i] = numpy.arctan(B[i]/A[i])    # within [-PI/2, PI/2]\n",
        "      if A[i] >= 0:\n",
        "        theta[i] += PI\n",
        "      elif B[i] > 0:\n",
        "        theta[i] += 2*PI\n",
        "\n",
        "      # update Ak & Bk using GPU\n",
        "      dc = numpy.cos(theta[i]) - numpy.cos(old)\n",
        "      ds = numpy.sin(theta[i]) - numpy.sin(old)\n",
        "      #func[BxG, TxB](A, B, W, dc, ds, i)\n",
        "      dot_GPU[BxG, TxB](A, W, dc.astype('float32'), n)  # start the kernel\n",
        "      dot_GPU[BxG, TxB](B, W, ds.astype('float32'), n)  # start the kernel\n",
        "\n",
        "      if min(abs(old-theta[i]),abs(2*PI-old+theta[i])) > eps:\n",
        "        ok = True\n",
        "        nchanges += 1\n",
        "\n",
        "  if verb > 0:\n",
        "    print('  Size : %d' %n)\n",
        "    print('Rounds : %d' %rounds)\n",
        " \n",
        "  return theta\n",
        "\n",
        "#@cuda.jit\n",
        "def dot_GPU(A, W, d, n):\n",
        "  tx = cuda.threadIdx.x  # Thread id in a 1D block\n",
        "  bw = cuda.blockDim.x   # Block width\n",
        "\n",
        "  # shared memory\n",
        "  sW = cuda.shared.array(bw, dtype=numpy.float32)\n",
        "\n",
        "  # index inside the array\n",
        "  pos = cuda.grid(1)\n",
        "  if pos >= W.shape[0]:\n",
        "    return\n",
        "\n",
        "  gw = cuda.gridDim.x     # num blocks per grid\n",
        "\n",
        "  # The dot product is chunked into dot products of TPB-long vectors.\n",
        "  res = 0.\n",
        "  for i in range(gw):\n",
        "    # Preload data into shared memory\n",
        "    sW[tx] = W[tx + i * bw,:]\n",
        "    # Wait until all threads finish preloading\n",
        "    cuda.syncthreads()\n",
        "    # Computes partial product on the shared memory\n",
        "    for j in range(bw):\n",
        "        res += A[tx] * d\n",
        "    # Wait until all threads finish computing\n",
        "    cuda.syncthreads()\n",
        "\n",
        "  return res"
      ],
      "metadata": {
        "id": "li60J_ZSjWYL"
      },
      "execution_count": null,
      "outputs": []
    },
    {
      "cell_type": "markdown",
      "source": [
        "## 🪜 My Solutions\n"
      ],
      "metadata": {
        "id": "p-1miwT-cT6-"
      }
    },
    {
      "cell_type": "markdown",
      "source": [
        "### CUDA C"
      ],
      "metadata": {
        "id": "JqF9-j1HJv5O"
      }
    },
    {
      "cell_type": "code",
      "source": [
        "%%writefile src/structs.h\n",
        "\n",
        "#ifndef STRUCTS\n",
        "#define STRUCTS\n",
        "\n",
        "struct gtv { //gpu theta values\n",
        "    float *theta, *sin_theta, *cos_theta;\n",
        "};\n",
        "\n",
        "#endif"
      ],
      "metadata": {
        "id": "nfV09P5yFQf0"
      },
      "execution_count": null,
      "outputs": []
    },
    {
      "cell_type": "markdown",
      "source": [
        "#### Theta, sin, cos"
      ],
      "metadata": {
        "id": "L6JLTkUTeqIH"
      }
    },
    {
      "cell_type": "code",
      "source": [
        "%%writefile src/thetaModule.cu\n",
        "\n",
        "#include <stdio.h>\n",
        "#include <stdlib.h>\n",
        "#include \"../src/common.h\"\n",
        "#include \"../src/structs.h\"\n",
        "#include <cuda.h>\n",
        "#include <curand.h>\n",
        "\n",
        "#define N 10000\n",
        "#define ALPHA 2*M_PI\n",
        "#define BLOCK_SIZE 128\n",
        "\n",
        "__global__ void Kernel_1(float *theta, float* cosTheta, float* sinTheta)\n",
        "{\n",
        "  unsigned int tid = threadIdx.x + blockIdx.x * blockDim.x;\n",
        "  \n",
        "  if (tid < N)\n",
        "  {\n",
        "    float x = ALPHA * theta[tid];\n",
        "    theta[tid] = x;\n",
        "    cosTheta[tid] = cos(x);\n",
        "    sinTheta[tid] = sin(x);\n",
        "  }\n",
        "}\n",
        "\n",
        "gtv theta_sin_cos()\n",
        "{\n",
        "  //# curand\n",
        "  curandGenerator_t gen;\n",
        "  \n",
        "  float *dTheta, *dSinTheta, *dCosTheta;\n",
        "\n",
        "  /* # CREATE RANDOM VECTOR # */\n",
        "\n",
        "  /* Allocate n floats on device */\n",
        "  CHECK(cudaMalloc((void **) & dTheta, N*sizeof ( float )));\n",
        "  \n",
        "  /* Create pseudo - random number generator */\n",
        "  CHECK_CURAND(curandCreateGenerator (&gen, CURAND_RNG_PSEUDO_DEFAULT));\n",
        "  \n",
        "  /* Set seed */\n",
        "  CHECK_CURAND(curandSetPseudoRandomGeneratorSeed(gen, 1234ULL));\n",
        "  \n",
        "  /* Generate N floats on device */\n",
        "  CHECK_CURAND(curandGenerateUniform (gen , dTheta, N));\n",
        "  \n",
        "  /* # CALL KERNEL 1 # */\n",
        "\n",
        "  /* Allocate n floats on device */\n",
        "  CHECK(cudaMalloc((void **) & dCosTheta, N*sizeof ( float )));\n",
        "  /* Allocate n floats on device */\n",
        "  CHECK(cudaMalloc((void **) & dSinTheta, N*sizeof ( float )));\n",
        "\n",
        "  dim3 block(BLOCK_SIZE, 1, 1);\n",
        "\tdim3 grid((N + block.x - 1) / block.x, 1, 1);\n",
        "\n",
        "  printf(\"Strating Kernel 1 -- N: %d, GRID_SIZE: %d, BLOCK_SIZE: %d\\n\", N, grid.x, BLOCK_SIZE);\n",
        "  Kernel_1<<<block, grid>>>(dTheta, dCosTheta, dSinTheta);\n",
        "\n",
        "\tCHECK_CURAND(curandDestroyGenerator(gen));\n",
        "\n",
        "  struct gtv s;\n",
        "  s.theta = dTheta;\n",
        "  s.sin_theta = dSinTheta;\n",
        "  s.cos_theta = dCosTheta;\n",
        "\n",
        "  return s;\n",
        "}"
      ],
      "metadata": {
        "id": "35ABC2aP-SDP"
      },
      "execution_count": null,
      "outputs": []
    },
    {
      "cell_type": "code",
      "source": [
        "%%writefile src/matrixModule.cu\n",
        "\n",
        "#include <stdio.h>\n",
        "#include <stdlib.h>\n",
        "#include \"../src/common.h\"\n",
        "#include <cuda.h>\n",
        "#include \"cublas_v2.h\"\n",
        "\n",
        "#define N 10000  \n",
        "#define BLOCK_SIZE 128\n",
        "\n",
        "void matrix_norm(float *matrix)\n",
        "{\n",
        "  float *d_matrix;\n",
        "  float norm;\n",
        "  int n = N*N;\n",
        " \n",
        "  dim3 block(BLOCK_SIZE, 1, 1);\n",
        "  dim3 grid((N*N + block.x - 1) / block.x, 1, 1);\n",
        "\n",
        "  cublasHandle_t handle;\n",
        "  CHECK_CUBLAS(cublasCreate(&handle));\n",
        "\n",
        "  CHECK(cudaMalloc(&d_matrix, N*N*sizeof(float)));\n",
        "  CHECK_CUBLAS(cublasSetVector(N*N, sizeof(float), matrix, 1, d_matrix, 1));\n",
        "  CHECK_CUBLAS(cublasSnrm2(handle, n, d_matrix, 1, &norm));\n",
        "  norm = 1/norm;\n",
        "  //multi matrix per norm.\n",
        "\n",
        "}"
      ],
      "metadata": {
        "id": "pDBd9Mo0JvLF"
      },
      "execution_count": null,
      "outputs": []
    },
    {
      "cell_type": "code",
      "source": [
        "%%writefile src/cudaMain.cu\n",
        "\n",
        "#include <stdio.h>\n",
        "#include <stdlib.h>\n",
        "#include \"../src/matrixModule.cu\"\n",
        "#include \"../src/thetaModule.cu\"\n",
        "#include \"../src/structs.h\"\n",
        "\n",
        "#define N 10000\n",
        "\n",
        "/*\n",
        "* MAIN\n",
        "*/\n",
        "\n",
        "int main()\n",
        "{\n",
        "  //allocate matrix on heap\n",
        "  float *matrix;\n",
        "  matrix = (float *) malloc(sizeof(float) * N*N);\n",
        "  for(long i=0;i<N*N;i++)\n",
        "    matrix[i]=rand()%100;\n",
        " \n",
        "  struct gtv s;\n",
        "  s = theta_sin_cos();\n",
        "\n",
        "  matrix_norm(matrix);\n",
        "\n",
        "  CHECK(cudaDeviceSynchronize());\n",
        "}"
      ],
      "metadata": {
        "id": "Vc1YRYzF_ArY"
      },
      "execution_count": null,
      "outputs": []
    },
    {
      "cell_type": "code",
      "source": [
        "!nvcc -o /content/main /content/src/cudaMain.cu -lcurand -lcublas\n",
        "!./main"
      ],
      "metadata": {
        "id": "cGzm7P9CM7CM"
      },
      "execution_count": null,
      "outputs": []
    },
    {
      "cell_type": "markdown",
      "source": [
        "N: 10000\n",
        "\n",
        "GRID_SIZE: 79, BLOCK_SIZE: 128, 0.01246 (sec)\n",
        "\n",
        "GRID_SIZE: 40, BLOCK_SIZE: 256, 0.01200 (sec)\n",
        "\n",
        "GRID_SIZE: 157, BLOCK_SIZE: 64, 0.01234 (sec) "
      ],
      "metadata": {
        "id": "w22mSK6TcJZ-"
      }
    },
    {
      "cell_type": "markdown",
      "source": [
        "#### Matrix Normalization"
      ],
      "metadata": {
        "id": "nIajnhBQe0UF"
      }
    },
    {
      "cell_type": "code",
      "source": [
        ""
      ],
      "metadata": {
        "id": "M05R9Be7OG24"
      },
      "execution_count": null,
      "outputs": []
    },
    {
      "cell_type": "markdown",
      "source": [
        "### CPU"
      ],
      "metadata": {
        "id": "DxTsQDwtCO_F"
      }
    },
    {
      "cell_type": "code",
      "source": [
        "import numpy\n",
        "\n",
        "@numba.jit\n",
        "def CSN_CPU(W, eps=0.01, seed=1):\n",
        "  n = W.shape[0]\n",
        "  PI = numpy.pi\n",
        "  \n",
        "  # W is reshaped in a vector using the column major order\n",
        "  # than the norm-2 (euclidean norm) is computed\n",
        "  # this is Frobenius norm\n",
        "  W = W / numpy.linalg.norm(W) # Frobenius_norm(W)\n",
        "  \n",
        "  numpy.random.seed(seed)\n",
        "  theta = 2*PI*numpy.random.rand(n)\n",
        "  \n",
        "  sin_t = numpy.sin(theta)\n",
        "  cos_t = numpy.cos(theta)\n",
        "  \n",
        "  A = numpy.dot(W, cos_t) # W @ cos_t\n",
        "  B = numpy.dot(W, sin_t) # W @ sin_t\n",
        "\n",
        "  ok = True\n",
        "  rounds = 0\n",
        "\n",
        "  while ok:\n",
        "    ok = False\n",
        "    rounds += 1\n",
        "    nchanges = 0\n",
        "\n",
        "    # loop on angles\n",
        "    for i in range(n):\n",
        "      theta, A, B, ok, nchanges = loop_fun(i, theta, A, B, eps, W, n, nchanges, PI, ok)\n",
        "\n",
        "  print(\"rounds=\"+str(rounds))\n",
        "\n",
        "  return theta\n",
        "\n",
        "@numba.jit\n",
        "def loop_fun(i, theta, A, B, eps, W, n, nchanges, PI, ok):\n",
        "  old = theta[i]\n",
        "\n",
        "  # change i-th theta\n",
        "  theta[i] = numpy.arctan(B[i]/A[i])    # within [-PI/2, PI/2]\n",
        "  \n",
        "  if A[i] >= 0:\n",
        "    theta[i] += PI\n",
        "  elif B[i] > 0:\n",
        "    theta[i] += 2*PI\n",
        "\n",
        "  # update Ak & Bk by elementwise product and diff\n",
        "  A, B = updateAB(A, B, W, i, theta, old, n)\n",
        "\n",
        "  if min(abs(old-theta[i]),abs(2*PI-old+theta[i])) > eps:\n",
        "    ok = True\n",
        "    nchanges += 1\n",
        "\n",
        "  return theta, A, B, ok, nchanges\n",
        "\n",
        "@numba.jit\n",
        "def updateAB(A, B, W, i, theta, old, n):\n",
        "  # A += W[i,:] * numpy.cos(theta[i]) - numpy.cos(old)\n",
        "  A += numpy.multiply(W[i,:], numpy.cos(theta[i]) - numpy.cos(old))\n",
        "  B += numpy.multiply(W[i,:], numpy.sin(theta[i]) - numpy.sin(old)) \n",
        "  return A, B\n"
      ],
      "metadata": {
        "id": "3mw9jdWxhfpg"
      },
      "execution_count": null,
      "outputs": []
    },
    {
      "cell_type": "code",
      "source": [
        "import numpy\n",
        "\n",
        "@numba.jit\n",
        "def CSN_CPU_2(W, eps=0.01, seed=1):\n",
        "  n = W.shape[0]\n",
        "  PI = numpy.pi\n",
        "  \n",
        "  W = W / numpy.linalg.norm(W) # Frobenius_norm(W) # cuSolver?\n",
        "  \n",
        "  numpy.random.seed(seed)\n",
        "  theta = 2*PI*numpy.random.rand(n)\n",
        "  \n",
        "  old = numpy.copy(theta)\n",
        "  sin_t = numpy.sin(theta)\n",
        "  cos_t = numpy.cos(theta)\n",
        "  \n",
        "  A = numpy.dot(W, cos_t)\n",
        "  B = numpy.dot(W, sin_t)\n",
        "\n",
        "  ok = True\n",
        "  rounds = 0\n",
        "\n",
        "  while ok:\n",
        "    ok = False\n",
        "    rounds += 1\n",
        "    nchanges = 0\n",
        "\n",
        "    if rounds > 1:\n",
        "      old = numpy.copy(theta)\n",
        "      sin_t = numpy.sin(theta)\n",
        "      cos_t = numpy.cos(theta)\n",
        "\n",
        "    # loop on angles\n",
        "    for i in range(n):\n",
        "      theta, A, B, ok, nchanges = loop_fun_2(i, theta, A, B, eps, W, n, nchanges, PI, ok, sin_t, cos_t, old)\n",
        "\n",
        "  print(\"rounds=\"+str(rounds))\n",
        "\n",
        "  return theta\n",
        "\n",
        "@numba.jit\n",
        "def loop_fun_2(i, theta, A, B, eps, W, n, nchanges, PI, ok, sin_t, cos_t, old):\n",
        "  # change i-th theta\n",
        "  theta[i] = numpy.arctan(B[i]/A[i])    # within [-PI/2, PI/2]\n",
        "  \n",
        "  if A[i] >= 0:\n",
        "    theta[i] += PI\n",
        "  elif B[i] > 0:\n",
        "    theta[i] += 2*PI\n",
        "\n",
        "  # update Ak & Bk by elementwise product and diff\n",
        "  A, B = updateAB(A, B, W, i, theta, n)\n",
        "\n",
        "  if min(abs(old[i]-theta[i]),abs(2*PI-old[i]+theta[i])) > eps:\n",
        "    ok = True\n",
        "    nchanges += 1\n",
        "\n",
        "  return theta, A, B, ok, nchanges\n",
        "\n",
        "@numba.jit\n",
        "def updateAB_2(A, B, W, i, theta, n, sin_t, cos_t):\n",
        "  #this are all vectors with length n\n",
        "  A += numpy.multiply(W[i,:], numpy.cos(theta[i]) - cos_t[i])\n",
        "  B += numpy.multiply(W[i,:], numpy.sin(theta[i]) - sin_t[i]) \n",
        "  return A, B"
      ],
      "metadata": {
        "id": "JwHVTytSWfSL"
      },
      "execution_count": null,
      "outputs": []
    },
    {
      "cell_type": "markdown",
      "source": [
        "### GPU_CUPY"
      ],
      "metadata": {
        "id": "JhOhWaDnCaNa"
      }
    },
    {
      "cell_type": "code",
      "source": [
        "import cupy\n",
        "\n",
        "@numba.jit\n",
        "def CSN_CUPY(W_, eps=0.01, seed=1, same_random=True):\n",
        "  \n",
        "  n = W_.shape[0]\n",
        "  PI = cupy.pi\n",
        "  \n",
        "  W = cupy.array(W_)\n",
        "\n",
        "  W = W / cupy.linalg.norm(W)\n",
        "\n",
        "  if same_random: ## only to check corectness\n",
        "    numpy.random.seed(seed)\n",
        "    theta = (2*PI)*numpy.random.rand(n)\n",
        "    theta = cupy.asarray(theta)\n",
        "  else:\n",
        "    cupy.random.seed(seed)\n",
        "    theta = (2*PI)*cupy.random.rand(n)\n",
        "\n",
        "  old = cupy.copy(theta)\n",
        "  sin_t = cupy.sin(theta)\n",
        "  cos_t = cupy.cos(theta)\n",
        "\n",
        "  A = cupy.dot(W, cos_t)\n",
        "  B = cupy.dot(W, sin_t)\n",
        "\n",
        "  #main loop\n",
        "  ok = True\n",
        "  rounds = 0\n",
        "  while ok:\n",
        "    ok = False\n",
        "    rounds += 1\n",
        "    nchanges = 0\n",
        "\n",
        "    if rounds > 1:\n",
        "      old = cupy.copy(theta)\n",
        "      sin_t = numpy.sin(theta)\n",
        "      cos_t = numpy.cos(theta)\n",
        "\n",
        "    #loop on angles\n",
        "    for i in range(n):\n",
        "      theta[i] = cupy.arctan(B[i]/A[i])    # within [-PI/2, PI/2]\n",
        "\n",
        "      if A[i] >= 0:\n",
        "        theta[i] += PI\n",
        "      elif B[i] > 0:\n",
        "        theta[i] += 2*PI\n",
        "\n",
        "      if min(abs(old[i]-theta[i]),abs(2*PI-old[i]+theta[i])) > eps:\n",
        "        ok = True\n",
        "        nchanges += 1\n",
        "\n",
        "      A += cupy.multiply(W[i,:], cupy.cos(theta[i]) - cos_t[i])\n",
        "      B += cupy.multiply(W[i,:], cupy.sin(theta[i]) - sin_t[i])\n",
        "\n",
        "  print(\"rounds=\"+str(rounds))\n",
        "\n",
        "  return cupy.asnumpy(theta)"
      ],
      "metadata": {
        "id": "lLhUHTskFGP4"
      },
      "execution_count": null,
      "outputs": []
    },
    {
      "cell_type": "markdown",
      "source": [
        "### 🐍 GPU pyCuda"
      ],
      "metadata": {
        "id": "qa4x7WeZUM82"
      }
    },
    {
      "cell_type": "code",
      "source": [
        "from pycuda.compiler import SourceModule\n",
        "from numba.cuda.api import stream\n",
        "import pycuda.driver as cuda\n",
        "import pycuda.autoinit\n",
        "import numpy\n",
        "import math"
      ],
      "metadata": {
        "id": "QCDuRskK0a_c"
      },
      "execution_count": null,
      "outputs": []
    },
    {
      "cell_type": "code",
      "source": [
        "def block_grid_mem_chunks_setup(n, n_streams, txb, rf=1, padding=False):\n",
        "  n_chunk = n/n_streams\n",
        "\n",
        "  assert(math.floor(n_chunk)==(n_chunk))\n",
        "  assert(n_chunk*n_streams == n)\n",
        "\n",
        "  grid = ( math.ceil( n_chunk / txb / rf ), 1, 1 )\n",
        "  block = ( txb, 1, 1 )\n",
        "  txs = grid[0]*block[0]\n",
        "\n",
        "  assert(txs*n_streams*rf >= n)\n",
        "\n",
        "  if(padding):\n",
        "    padding = txs*n_streams*rf - n\n",
        "    n = txs*n_streams*rf\n",
        "    return block_grid_mem_chunks_setup(n, n_streams, txb, rf)+(padding,)\n",
        "\n",
        "  mem_chunks = get_chunks_of_size_until_empty(txs*rf, n)\n",
        "\n",
        "  assert ( len(mem_chunks) == n_streams)\n",
        "  assert ( numpy.sum(mem_chunks) >= n), \"\"+str(numpy.sum(mem_chunks))\n",
        "\n",
        "  return block, grid, mem_chunks"
      ],
      "metadata": {
        "id": "mBvyBy-pGJDu"
      },
      "execution_count": null,
      "outputs": []
    },
    {
      "cell_type": "markdown",
      "source": [
        "#### Theta Module"
      ],
      "metadata": {
        "id": "oQEYfeASp2MC"
      }
    },
    {
      "cell_type": "code",
      "source": [
        "theta_module = \"\"\" \n",
        "#include <curand_kernel.h>\n",
        "\n",
        " extern \"C\" { \n",
        "  __global__ void initCurand(curandState* states, unsigned int n, unsigned int seed)\n",
        "  {\n",
        "      unsigned int tid = threadIdx.x + blockDim.x * blockIdx.x;\n",
        "      \n",
        "      if (tid < n)\n",
        "      {\n",
        "        curand_init(seed, tid, 0, &states[tid]);\n",
        "      }\n",
        "    }\n",
        "\n",
        "  __global__ void genVector( curandState* states, float *theta, float* cos_theta,\n",
        "                   float* sin_theta, unsigned int n, float a)\n",
        "  {\n",
        "    unsigned int tid = threadIdx.x + blockIdx.x * blockDim.x;\n",
        "    \n",
        "    if (tid < n)\n",
        "    {\n",
        "      float x = a * curand_uniform(&states[tid]);\n",
        "      theta[tid] = x;\n",
        "      cos_theta[tid] = cos(x);\n",
        "      sin_theta[tid] = sin(x);\n",
        "    }\n",
        "  }\n",
        "}\n",
        "\n",
        "\"\"\"\n",
        "\n",
        "def load_theta_module():\n",
        "  global theta_module\n",
        "  mod = SourceModule(theta_module, keep=False, no_extern_c=True)\n",
        "  init_curand = mod.get_function(\"initCurand\")\n",
        "  gen_vector = mod.get_function(\"genVector\")\n",
        "  return init_curand, gen_vector\n",
        "\n",
        "def launch_theta_module(init_curand, gen_vector, n, n_streams=64, conv=False):\n",
        "  # set up streams, chunks size, block size, grid size\n",
        "  float_size = numpy.dtype(numpy.float32).itemsize\n",
        "  txb = 128\n",
        "  block, grid, mem_chunks = block_grid_mem_chunks_setup(n, n_streams, txb)\n",
        "\n",
        "  # Define HOST streams and curand states\n",
        "  streams = [None] * n_streams\n",
        "  states = [None] * n_streams\n",
        "  # Define DEVICE Algorithms variables\n",
        "  d_theta = [numpy.ndarray] * n_streams\n",
        "  d_cos_theta = [numpy.ndarray] * n_streams\n",
        "  d_sin_theta = [numpy.ndarray] * n_streams\n",
        "  \n",
        "  if(conv):\n",
        "    # Define HOST Algorithms variables\n",
        "    theta = [numpy.ndarray] * n_streams\n",
        "    cos_theta = [numpy.ndarray] * n_streams\n",
        "    sin_theta = [numpy.ndarray] * n_streams\n",
        "\n",
        "    for i in range(0, n_streams):\n",
        "      theta[i] = numpy.empty(mem_chunks[i], dtype=numpy.float32)\n",
        "      cos_theta[i] = numpy.empty(mem_chunks[i], dtype=numpy.float32)\n",
        "      sin_theta[i] = numpy.empty(mem_chunks[i], dtype=numpy.float32)\n",
        "\n",
        "  # launch Init Curand\n",
        "  for i in range(0, n_streams):\n",
        "    streams[i] = cuda.Stream()\n",
        "    states[i] = cuda.mem_alloc(mem_chunks[i] * pycuda.characterize.sizeof('curandStateXORWOW', '#include <curand_kernel.h>'))\n",
        "    init_curand(states[i], numpy.uint32(mem_chunks[i]), numpy.uint32(i), grid=grid, block=block, stream=streams[i])\n",
        "\n",
        "  for i in range(0, n_streams):\n",
        "    #Allocate DEVICE Algorithms variables\n",
        "    d_theta[i] = cuda.mem_alloc(mem_chunks[i]*float_size)\n",
        "    d_cos_theta[i] = cuda.mem_alloc(mem_chunks[i]*float_size)\n",
        "    d_sin_theta[i] = cuda.mem_alloc(mem_chunks[i]*float_size)\n",
        "    \n",
        "    # Launch kernel\n",
        "    gen_vector(\n",
        "          states[i], d_theta[i], d_cos_theta[i], d_sin_theta[i], \n",
        "          numpy.uint32(mem_chunks[i]), numpy.float32(numpy.pi*2), \n",
        "          grid=grid, block=block, stream=streams[i])\n",
        "\n",
        "    if(conv):\n",
        "      # Copy data back to HOST\n",
        "      cuda.memcpy_dtoh_async(theta[i], d_theta[i], streams[i])\n",
        "      cuda.memcpy_dtoh_async(cos_theta[i], d_cos_theta[i], streams[i])\n",
        "      cuda.memcpy_dtoh_async(sin_theta[i], d_sin_theta[i], streams[i])\n",
        "\n",
        "  if(conv):\n",
        "    cuda.Context.synchronize()\n",
        "\n",
        "    # Convert Device data\n",
        "    theta = numpy.array(theta)\n",
        "    theta = numpy.concatenate(theta[:])\n",
        "    cos_theta = numpy.array(cos_theta)\n",
        "    cos_theta = numpy.concatenate(cos_theta[:])\n",
        "    sin_theta = numpy.array(sin_theta)\n",
        "    sin_theta = numpy.concatenate(sin_theta[:])\n",
        "    return theta, cos_theta, sin_theta\n",
        "\n",
        "  return d_theta, d_cos_theta, d_sin_theta, mem_chunks"
      ],
      "metadata": {
        "id": "oJ8nVCmlyJok"
      },
      "execution_count": null,
      "outputs": []
    },
    {
      "cell_type": "code",
      "source": [
        "n = 1000*1000\n",
        "n_streams = 64\n",
        "init, gen = load_theta_module()\n",
        "tic()\n",
        "t, c, s = launch_theta_module(init, gen, n, n_streams, conv=True)\n",
        "toc()\n",
        "tic()\n",
        "t, c, s, m = launch_theta_module(init, gen, n, n_streams, conv=False)\n",
        "toc()\n"
      ],
      "metadata": {
        "id": "DZEeEhTNnPb2"
      },
      "execution_count": null,
      "outputs": []
    },
    {
      "cell_type": "markdown",
      "source": [
        "n size = 1.000.000 \n",
        "\n",
        "THETA TxB=128 n_streams=10 = 0.079370 seconds. (with DtoH)\n",
        "\n",
        "THETA, COS, SIN: 0.055484 seconds. (with DtoH)\n",
        "TxB=128 n_streams=64"
      ],
      "metadata": {
        "id": "lsABxQvR14YA"
      }
    },
    {
      "cell_type": "markdown",
      "source": [
        "#### Matrix Normalization Module"
      ],
      "metadata": {
        "id": "Y3eOqzDNp_T-"
      }
    },
    {
      "cell_type": "markdown",
      "source": [
        "The Frobenius norm of a Matrix M is the euclidean norm (norm-2) of vector V that is obtained by flattening M in column major order.\n",
        "In other words al the entries of M are multiplied for itself, summed all toghether and then the square root is applied to the result."
      ],
      "metadata": {
        "id": "v6liR-r9u50C"
      }
    },
    {
      "cell_type": "code",
      "source": [
        "matrix_module = \"\"\"\n",
        "extern \"C\"\n",
        "{ \n",
        "  __global__ void squaredReduction(float* W, float* V, unsigned long n)\n",
        "  {\n",
        "    extern __shared__ float sV[];\n",
        "\n",
        "    unsigned int tid = threadIdx.x;\n",
        "    unsigned int i = blockIdx.x*(blockDim.x*2) + threadIdx.x;\n",
        "\n",
        "    if( i+blockDim.x < n )\n",
        "    {\n",
        "      sV[tid] = pow(W[i],2)+pow(W[i+blockDim.x],2);\n",
        "\n",
        "      __syncthreads();\n",
        "\n",
        "      for (unsigned int s=blockDim.x/2; s>0; s>>=1)\n",
        "      {\n",
        "        if (tid < s)\n",
        "        {\n",
        "          sV[tid] += sV[tid + s];\n",
        "        }\n",
        "        __syncthreads();\n",
        "      }\n",
        "      if (tid == 0) V[blockIdx.x] = sV[0];\n",
        "    } \n",
        "  }\n",
        "\n",
        "  __global__ void reduce(float* W, float* V, unsigned int n)\n",
        "  {\n",
        "    extern __shared__ float sW[];\n",
        "\n",
        "    unsigned int tid = threadIdx.x;\n",
        "    unsigned int i = blockIdx.x*(blockDim.x*2) + threadIdx.x;\n",
        "\n",
        "    if( i+blockDim.x < n )\n",
        "    {\n",
        "      sW[tid] = W[i]+V[i+blockDim.x];\n",
        "\n",
        "      __syncthreads();\n",
        "\n",
        "      for (unsigned int s=blockDim.x/2; s>0; s>>=1)\n",
        "      {\n",
        "        if (tid < s)\n",
        "        {\n",
        "          sW[tid] += sW[tid + s];\n",
        "        }\n",
        "        __syncthreads();\n",
        "      }\n",
        "      if (tid == 0) W[blockIdx.x] = sW[0];\n",
        "    }\n",
        "  }\n",
        "}\n",
        "\"\"\""
      ],
      "metadata": {
        "id": "U_E_uHar0IeM"
      },
      "execution_count": null,
      "outputs": []
    },
    {
      "cell_type": "code",
      "source": [
        "def load_matrix_module():\n",
        "  global matrix_module\n",
        "  mod = SourceModule(matrix_module, keep=False, no_extern_c=True)\n",
        "  sqrt_reduce = mod.get_function(\"squaredReduction\")\n",
        "  s_reduce = mod.get_function(\"reduce\")\n",
        "  return sqrt_reduce, s_reduce\n",
        "\n",
        "def launch_matrix_normalization(W):\n",
        "  sqrt_reduce, s_reduce = load_matrix_module()\n",
        "\n",
        "  ####################################################################################################\n",
        "\n",
        "  float_size = numpy.dtype(numpy.float32).itemsize\n",
        "\n",
        "  k = W.shape[0] #matrix order\n",
        "  W = W.flatten()\n",
        "  n = W.shape[0]\n",
        "\n",
        "  txb = 128\n",
        "  n_streams = 64\n",
        "  rf = 2\n",
        "\n",
        "  block, grid, mem_chunks, padding = block_grid_mem_chunks_setup(n, n_streams, txb, rf=rf, padding=True)\n",
        "\n",
        "  if(padding > 0):\n",
        "    W = numpy.float32(numpy.append(W, numpy.zeros(padding)))\n",
        "  \n",
        "  assert(grid[0]*block[0]*n_streams == W.shape[0] / 2)\n",
        "\n",
        "  # HOST \n",
        "  streams = [None] * n_streams\n",
        "  h_V = [None] * n_streams\n",
        "  h_W = [None] * n_streams\n",
        "\n",
        "  # DEVICE\n",
        "  d_W = [None] * n_streams\n",
        "  d_V = [None] * n_streams\n",
        "\n",
        "  V_size = grid[0]\n",
        "\n",
        "  for i in range(0, n_streams):\n",
        "    streams[i] = cuda.Stream()\n",
        "\n",
        "    s =  i*mem_chunks[i]\n",
        "    f = (i+1)*mem_chunks[i]\n",
        "    \n",
        "    # Allocate on GPU Matrix\n",
        "    d_W[i] = cuda.mem_alloc(mem_chunks[i] * float_size)\n",
        "\n",
        "    assert mem_chunks[i] == W[s:f].shape[0]\n",
        "    assert mem_chunks[i]*float_size == W[s:f].nbytes, \"W elemnts type \"+str(W.dtype)\n",
        "\n",
        "    cuda.memcpy_htod_async(d_W[i], W[s:f], streams[i])\n",
        "\n",
        "    # Allocate on GPU vector where result is put in\n",
        "    d_V[i] = cuda.mem_alloc(V_size * float_size)\n",
        "\n",
        "    # define shared memory size\n",
        "    smem = block[0]*float_size\n",
        "\n",
        "    #launch kernel\n",
        "    sqrt_reduce(d_W[i], d_V[i], numpy.uint(mem_chunks[i]),\n",
        "                grid=grid, block=block, shared=smem, stream=streams[i])\n",
        "\n",
        "  cuda.Context.synchronize()\n",
        "\n",
        "  ###############################################################################################################\n",
        "  \n",
        "  #ogni stream i gli passo h_V[i*2] e h_V[i*2 + 1]\n",
        "  # faccio reduction su queste due porzioni di vettore\n",
        "  # il risulto si trova sommando il primo valore su tutte le h_V pari\n",
        "\n",
        "  n = V_size * len(h_V)\n",
        "  txb = int(txb/2)\n",
        "  n_streams = int(n_streams/2)\n",
        "\n",
        "  assert txb%2==0\n",
        "  assert n_streams%2==0\n",
        "\n",
        "  block, grid, mem_chunks = block_grid_mem_chunks_setup(n, n_streams, txb, rf=rf)\n",
        "  \n",
        "  assert(grid[0]*block[0]*n_streams == n / 2)\n",
        "  assert(V_size >= grid[0])\n",
        "\n",
        "  # HOST \n",
        "  streams = [None] * n_streams\n",
        "  h_V = [None] * n_streams\n",
        "\n",
        "  for i in range(0, n_streams):\n",
        "    streams[i] = cuda.Stream()\n",
        "\n",
        "    # define shared memory size\n",
        "    smem = block[0]*float_size\n",
        "    \n",
        "    #launch kernel\n",
        "    s_reduce(d_V[i*2], d_V[i*2+1], numpy.uint32(V_size),\n",
        "                grid=grid, block=block, shared=smem, stream=streams[i])\n",
        "\n",
        "    h_V[i] = numpy.zeros(grid[0], dtype=numpy.float32)\n",
        "    cuda.memcpy_dtoh_async(h_V[i], d_V[i].as_buffer(grid[0]*float_size, 0), streams[i])\n",
        "\n",
        "  cuda.Context.synchronize()\n",
        "\n",
        "  ####NOW the cpu summ the h_V, compute sqrt\n",
        "  ##### then the gpu normalize the matrix\n",
        "  ##### that is already on GPU memory\n",
        "\n",
        "\n",
        "  return h_V"
      ],
      "metadata": {
        "id": "9c7108-sEL-l"
      },
      "execution_count": null,
      "outputs": []
    },
    {
      "cell_type": "code",
      "source": [
        "\n",
        "k = 8192\n",
        "W = numpy.float32(numpy.random.rand(k, k) + 2 )\n",
        "\n",
        "result = W / numpy.linalg.norm(W)\n",
        "\n",
        "\n",
        "w = launch_matrix_normalization(W)\n",
        "\n"
      ],
      "metadata": {
        "id": "44MpAg63CRGk"
      },
      "execution_count": null,
      "outputs": []
    },
    {
      "cell_type": "code",
      "source": [
        "import numpy\n",
        "import math\n",
        "\n",
        "## ORIGINAL W\n",
        "k = 10\n",
        "W = numpy.zeros((k, k))\n",
        "W += 2\n",
        "W[0,:] += 2\n",
        "\n",
        "n = W.shape[0]*W.shape[0]\n",
        "W_0 = W.flatten()\n",
        "\n",
        "n_streams = 2\n",
        "chunk = int(n / 2)\n",
        "\n",
        "assert chunk*n_streams == n\n",
        "\n",
        "W_c = [None] * n_streams\n",
        "for i in range(0, n_streams): \n",
        "  s =  i*chunk\n",
        "  f = (i+1)*chunk\n",
        "  W_c[i] = W_0[s:f]\n",
        "\n",
        "W_0 = numpy.array(W_c)\n",
        "W_0 = numpy.concatenate(W_0[:])\n",
        "W_0 = W.reshape((k,k))\n",
        "\n",
        "assert (W==W_0).any"
      ],
      "metadata": {
        "id": "JOYxFzDFBTqY"
      },
      "execution_count": null,
      "outputs": []
    },
    {
      "cell_type": "code",
      "source": [
        "n = 3\n",
        "numpy.random.seed(0)\n",
        "W = numpy.random.rand(n, n)\n",
        "fW = W.flatten(order=\"F\") #column major order\n",
        "e_norm = numpy.linalg.norm(fW)\n",
        "f_norm = numpy.linalg.norm(W)\n",
        "\n",
        "assert e_norm == f_norm\n",
        "\n",
        "assert (W / e_norm ==  W / f_norm).all"
      ],
      "metadata": {
        "id": "_1xFepQSp8S9"
      },
      "execution_count": null,
      "outputs": []
    },
    {
      "cell_type": "markdown",
      "source": [
        "# ⚠️ TESTS"
      ],
      "metadata": {
        "id": "VQe0Iq55YUGp"
      }
    },
    {
      "cell_type": "markdown",
      "source": [
        "## 🏎 Speed Tests"
      ],
      "metadata": {
        "id": "XoT2SfGHh3sS"
      }
    },
    {
      "cell_type": "code",
      "source": [
        "@numba.jit\n",
        "def avg_time_of(f, w, name, r=10):\n",
        "\n",
        "  t = 0\n",
        "  for i in range(0, int(r-1)):\n",
        "    tic()\n",
        "    if use_w:\n",
        "      f(w)\n",
        "    t += toc(False)\n",
        "  \n",
        "  tic()\n",
        "  theta = f(w)\n",
        "  t += toc(False)\n",
        "\n",
        "  print( \"Average time of %s: \\t\\t %f seconds.\\n\" %(name, (t/r)) )\n",
        "  \n",
        "  return theta"
      ],
      "metadata": {
        "id": "-QG3Zfhxwiyf"
      },
      "execution_count": null,
      "outputs": []
    },
    {
      "cell_type": "markdown",
      "source": [
        "### Malloc with(out[hybrid]) streams"
      ],
      "metadata": {
        "id": "_GdwEl7vgJn1"
      }
    },
    {
      "cell_type": "code",
      "source": [
        "%%writefile with_stream.cu\n",
        "\n",
        "#include <stdio.h>\n",
        "#include <stdlib.h>\n",
        "#include <cuda.h>\n",
        "\n",
        "#define N 100000\n",
        "#define BLOCK_SIZE 128\n",
        "\n",
        "__global__ void kernel(float *x, int n)\n",
        "{\n",
        "    int tid = threadIdx.x + blockIdx.x * blockDim.x;\n",
        "    for (int i = tid; i < n; i += blockDim.x * gridDim.x)\n",
        "      x[i] = sqrt(pow(3.14159,i));\n",
        "}\n",
        "\n",
        "\n",
        "int main()\n",
        "{\n",
        "    const int num_streams = 10;\n",
        "    const int n_stream = N/num_streams;\n",
        "\n",
        "    cudaStream_t streams[num_streams];\n",
        "    float *data[num_streams];\n",
        "\n",
        "    dim3 block(BLOCK_SIZE, 1, 1);\n",
        "\t  dim3 grid((n_stream + block.x - 1) / block.x, 1, 1);\n",
        "\n",
        "    for (int i = 0; i < num_streams; i++) {\n",
        "        cudaStreamCreate(&streams[i]);\n",
        " \n",
        "        cudaMalloc(&data[i], n_stream * sizeof(float));\n",
        "        \n",
        "        // launch one worker kernel per stream\n",
        "        kernel<<<grid, block, 0, streams[i]>>>(data[i], n_stream);\n",
        "    }\n",
        "\n",
        "\n",
        "    cudaDeviceSynchronize();\n",
        "    cudaDeviceReset();\n",
        "\n",
        "    return 0;\n",
        "}"
      ],
      "metadata": {
        "id": "hT3P71g5e9u7"
      },
      "execution_count": null,
      "outputs": []
    },
    {
      "cell_type": "code",
      "source": [
        "%%writefile hyb_stream.cu\n",
        "\n",
        "#include <stdio.h>\n",
        "#include <stdlib.h>\n",
        "#include <cuda.h>\n",
        "\n",
        "#define N 100000\n",
        "#define BLOCK_SIZE 128\n",
        "\n",
        "__global__ void kernel(float *x, int n, int offset)\n",
        "{\n",
        "    int tid = threadIdx.x + blockIdx.x * blockDim.x + offset;\n",
        "    for (int i = tid; i < n; i += blockDim.x * gridDim.x)\n",
        "      x[i] = sqrt(pow(3.14159,i));\n",
        "}\n",
        "\n",
        "\n",
        "int main()\n",
        "{\n",
        "    const int num_streams = 10;\n",
        "    const int off_stream = N/num_streams;\n",
        "\n",
        "    cudaStream_t streams[num_streams];\n",
        "    float *data;\n",
        "\n",
        "    cudaMalloc(&data, N * sizeof(float));\n",
        "\n",
        "    dim3 block(BLOCK_SIZE, 1, 1);\n",
        "\t  dim3 grid((off_stream + block.x - 1) / block.x, 1, 1);\n",
        "\n",
        "    for (int i = 0; i < num_streams; i++) {\n",
        "        cudaStreamCreate(&streams[i]);\n",
        " \n",
        "        // launch one worker kernel per stream\n",
        "        kernel<<<grid, block, 0, streams[i]>>>(data, N, i*off_stream);\n",
        "    }\n",
        "\n",
        "\n",
        "    cudaDeviceSynchronize();\n",
        "    cudaDeviceReset();\n",
        "\n",
        "    return 0;\n",
        "}"
      ],
      "metadata": {
        "id": "7OOgxpsXkk6H"
      },
      "execution_count": null,
      "outputs": []
    },
    {
      "cell_type": "code",
      "source": [
        "%%writefile no_stream.cu\n",
        "\n",
        "#include <stdio.h>\n",
        "#include <stdlib.h>\n",
        "#include <cuda.h>\n",
        "#include \"src/common.h\"\n",
        "\n",
        "#define N 100000\n",
        "#define BLOCK_SIZE 128\n",
        "\n",
        "__global__ void kernel(float *x, int n)\n",
        "{\n",
        "    int tid = threadIdx.x + blockIdx.x * blockDim.x;\n",
        "    for (int i = tid; i < n; i += blockDim.x * gridDim.x)\n",
        "      x[i] = sqrt(pow(3.14159,i));\n",
        "}\n",
        "\n",
        "\n",
        "int main()\n",
        "{\n",
        "    float *data;\n",
        "    CHECK(cudaMalloc(&data, N * sizeof(float)));\n",
        "    \n",
        "    dim3 block(BLOCK_SIZE, 1, 1);\n",
        "\t  dim3 grid((N + block.x - 1) / block.x, 1, 1);\n",
        "\n",
        "    // launch one worker kernel per stream\n",
        "    kernel<<<block, grid>>>(data, N);\n",
        "\n",
        "    CHECK(cudaDeviceSynchronize());\n",
        "    cudaDeviceReset();\n",
        "\n",
        "    return 0;\n",
        "}"
      ],
      "metadata": {
        "id": "rb5wYDl6gTJ6"
      },
      "execution_count": null,
      "outputs": []
    },
    {
      "cell_type": "code",
      "source": [
        "!nvcc -o /content/no_stream /content/no_stream.cu\n",
        "!nvcc -o /content/hyb_stream /content/hyb_stream.cu\n",
        "!nvcc -o /content/with_stream /content/with_stream.cu"
      ],
      "metadata": {
        "id": "H6apgrAhifc7"
      },
      "execution_count": null,
      "outputs": []
    },
    {
      "cell_type": "code",
      "source": [
        "!nvprof ./no_stream"
      ],
      "metadata": {
        "id": "4X4NsdfxjRVo"
      },
      "execution_count": null,
      "outputs": []
    },
    {
      "cell_type": "code",
      "source": [
        "!nvprof ./hyb_stream"
      ],
      "metadata": {
        "id": "eJlR_06mlf_G"
      },
      "execution_count": null,
      "outputs": []
    },
    {
      "cell_type": "code",
      "source": [
        "!nvprof ./with_stream"
      ],
      "metadata": {
        "id": "fMbEiIYcjZOa"
      },
      "execution_count": null,
      "outputs": []
    },
    {
      "cell_type": "code",
      "source": [
        "!time ./hyb_stream"
      ],
      "metadata": {
        "id": "H1iLlOhDlnKQ"
      },
      "execution_count": null,
      "outputs": []
    },
    {
      "cell_type": "code",
      "source": [
        "!time ./no_stream"
      ],
      "metadata": {
        "id": "w1Yw7SrojEoO"
      },
      "execution_count": null,
      "outputs": []
    },
    {
      "cell_type": "code",
      "source": [
        "!time ./with_stream"
      ],
      "metadata": {
        "id": "V1Y-T0PUjE7i"
      },
      "execution_count": null,
      "outputs": []
    },
    {
      "cell_type": "markdown",
      "source": [
        "### Theta, sin, cos"
      ],
      "metadata": {
        "id": "06drvFY5_skh"
      }
    },
    {
      "cell_type": "code",
      "source": [
        "%%cuda --name theta_test.cu\n",
        "\n",
        "#include <stdio.h>\n",
        "#include <stdlib.h>\n",
        "#include \"../src/common.h\"\n",
        "#include <cuda.h>\n",
        "#include <curand.h>\n",
        "#include \"cublas_v2.h\"\n",
        "#include <math.h>\n",
        "\n",
        "#define ALPHA 2*M_PI\n",
        "#define N 10000\n",
        "#define BLOCK_SIZE 128\n",
        "\n",
        "\n",
        "__global__ void Kernel_1(float *theta, float* cosTheta, float* sinTheta)\n",
        "{\n",
        "  unsigned int tid = threadIdx.x + blockIdx.x * blockDim.x;\n",
        "  \n",
        "  if (tid < N)\n",
        "  {\n",
        "    float x = ALPHA * theta[tid];\n",
        "    theta[tid] = x;\n",
        "    cosTheta[tid] = cos(x);\n",
        "    sinTheta[tid] = sin(x);\n",
        "  }\n",
        "}\n",
        "\n",
        "/**\n",
        "* MAIN\n",
        "*/\n",
        "int main() {\n",
        "  //# curand\n",
        "  curandGenerator_t gen;\n",
        "  \n",
        "  \n",
        "  float *dTheta, *dSinTheta, *dCosTheta;\n",
        "\n",
        "  /* # CREATE RANDOM VECTOR # */\n",
        "\n",
        "  /* Allocate n floats on device */\n",
        "  CHECK(cudaMalloc((void **) & dTheta, N*sizeof ( float )));\n",
        "  \n",
        "  /* Create pseudo - random number generator */\n",
        "  CHECK_CURAND(curandCreateGenerator (&gen, CURAND_RNG_PSEUDO_XORWOW));\n",
        "  \n",
        "  /* Set seed */\n",
        "  CHECK_CURAND(curandSetPseudoRandomGeneratorSeed(gen, 1234ULL));\n",
        "  \n",
        "  /* Generate N floats on device */\n",
        "  CHECK_CURAND(curandGenerateUniform (gen , dTheta, N));\n",
        "  \n",
        "  /* # CALL KERNEL 1 # */\n",
        "\n",
        "  /* Allocate n floats on device */\n",
        "  CHECK(cudaMalloc((void **) & dCosTheta, N*sizeof ( float )));\n",
        "  /* Allocate n floats on device */\n",
        "  CHECK(cudaMalloc((void **) & dSinTheta, N*sizeof ( float )));\n",
        "\n",
        "  dim3 block(BLOCK_SIZE, 1, 1);\n",
        "\tdim3 grid((N + block.x - 1) / block.x, 1, 1);\n",
        "\n",
        "  Kernel_1<<<block, grid>>>(dTheta, dCosTheta, dSinTheta);\n",
        "\n",
        "  CHECK(cudaDeviceSynchronize());\n",
        "\tCHECK_CURAND(curandDestroyGenerator(gen)); \n",
        "}"
      ],
      "metadata": {
        "id": "aRMTk1HU_pri"
      },
      "execution_count": null,
      "outputs": []
    },
    {
      "cell_type": "code",
      "source": [
        "!nvcc -o /content/theta_test_cuda /content/src/theta_test.cu -lcurand -lcublas\n",
        "#!./theta_test_cuda"
      ],
      "metadata": {
        "id": "Ym3aKWW3_6v7"
      },
      "execution_count": null,
      "outputs": []
    },
    {
      "cell_type": "code",
      "source": [
        "%%writefile src/theta_test_pycuda.py\n",
        "import numpy\n",
        "import pycuda.driver as cuda\n",
        "import pycuda.autoinit\n",
        "from pycuda.compiler import SourceModule\n",
        "import math\n",
        "\n",
        "def get_chunks_of_size_until_empty(size, n):\n",
        "  #function that return n as an array of chunks\n",
        "  n_chunks = math.ceil(n/size)\n",
        "\n",
        "  chunks = [0] * (n_chunks)\n",
        "\n",
        "  for i in range(0, n_chunks-1):\n",
        "      chunks[i] = size\n",
        "\n",
        "  if(n_chunks == n/size):\n",
        "      chunks[n_chunks-1] = size\n",
        "  else:\n",
        "      chunks[n_chunks-1] = int(n-numpy.sum(chunks))\n",
        "\n",
        "  return chunks\n",
        "\n",
        "def block_grid_mem_chunks_setup(n, n_streams, txb, rf=1):\n",
        "  n_chunk = n/n_streams\n",
        "\n",
        "  assert(math.floor(n_chunk)==(n_chunk))\n",
        "  assert(n_chunk*n_streams == n)\n",
        "\n",
        "  grid = ( math.ceil( n_chunk / txb / rf ), 1, 1 )\n",
        "  block = ( txb, 1, 1 )\n",
        "  txs = grid[0]*block[0]\n",
        "\n",
        "  assert(txs*n_streams*rf >= n)\n",
        "\n",
        "  mem_chunks = get_chunks_of_size_until_empty(txs*rf, n)\n",
        "\n",
        "  assert ( len(mem_chunks) == n_streams)\n",
        "  assert ( numpy.sum(mem_chunks) >= n), \"\"+str(numpy.sum(mem_chunks))\n",
        "\n",
        "  return block, grid, mem_chunks\n",
        "\n",
        "theta_module = \"\"\" \n",
        "#include <curand_kernel.h>\n",
        "\n",
        " extern \"C\" { \n",
        "  __global__ void initCurand(curandState* states, unsigned int n, unsigned int seed)\n",
        "  {\n",
        "      unsigned int tid = threadIdx.x + blockDim.x * blockIdx.x;\n",
        "      \n",
        "      if (tid < n)\n",
        "      {\n",
        "        curand_init(seed, tid, 0, &states[tid]);\n",
        "      }\n",
        "    }\n",
        "\n",
        "  __global__ void genVector( curandState* states, float *theta, float* cos_theta,\n",
        "                   float* sin_theta, unsigned int n, float a)\n",
        "  {\n",
        "    unsigned int tid = threadIdx.x + blockIdx.x * blockDim.x;\n",
        "    \n",
        "    if (tid < n)\n",
        "    {\n",
        "      float x = a * curand_uniform(&states[tid]);\n",
        "      theta[tid] = x;\n",
        "      cos_theta[tid] = cos(x);\n",
        "      sin_theta[tid] = sin(x);\n",
        "    }\n",
        "  }\n",
        "}\n",
        "\n",
        "\"\"\"\n",
        "\n",
        "def load_theta_module():\n",
        "  global theta_module\n",
        "  mod = SourceModule(theta_module, keep=False, no_extern_c=True)\n",
        "  init_curand = mod.get_function(\"initCurand\")\n",
        "  gen_vector = mod.get_function(\"genVector\")\n",
        "  return init_curand, gen_vector\n",
        "\n",
        "def launch_theta_module(init_curand, gen_vector, n, n_streams=64):\n",
        "  # set up streams, chunks size, block size, grid size\n",
        "  float_size = numpy.dtype(numpy.float32).itemsize\n",
        "  txb = 128\n",
        "  block, grid, mem_chunks = block_grid_mem_chunks_setup(n, n_streams, txb)\n",
        "\n",
        "  # Define HOST streams and curand states\n",
        "  streams = [None] * n_streams\n",
        "  states = [None] * n_streams\n",
        "  # Define DEVICE Algorithms variables\n",
        "  d_theta = [numpy.ndarray] * n_streams\n",
        "  d_cos_theta = [numpy.ndarray] * n_streams\n",
        "  d_sin_theta = [numpy.ndarray] * n_streams\n",
        "\n",
        "  # launch Init Curand\n",
        "  for i in range(0, n_streams):\n",
        "    streams[i] = cuda.Stream()\n",
        "    states[i] = cuda.mem_alloc(mem_chunks[i] * pycuda.characterize.sizeof('curandStateXORWOW', '#include <curand_kernel.h>'))\n",
        "    init_curand(states[i], numpy.uint32(mem_chunks[i]), numpy.uint32(i), grid=grid, block=block, stream=streams[i])\n",
        "\n",
        "  for i in range(0, n_streams):\n",
        "    #Allocate DEVICE Algorithms variables\n",
        "    d_theta[i] = cuda.mem_alloc(mem_chunks[i]*float_size)\n",
        "    d_cos_theta[i] = cuda.mem_alloc(mem_chunks[i]*float_size)\n",
        "    d_sin_theta[i] = cuda.mem_alloc(mem_chunks[i]*float_size)\n",
        "    \n",
        "    # Launch kernel\n",
        "    gen_vector(\n",
        "          states[i], d_theta[i], d_cos_theta[i], d_sin_theta[i], \n",
        "          numpy.uint32(mem_chunks[i]), numpy.float32(numpy.pi*2), \n",
        "          grid=grid, block=block, stream=streams[i])\n",
        "\n",
        "    cuda.Context.synchronize()\n",
        "\n",
        "  return d_theta, d_cos_theta, d_sin_theta, mem_chunks\n",
        "\n",
        "\n",
        "n = 1000000\n",
        "n_streams = 64\n",
        "init, gen = load_theta_module()\n",
        "launch_theta_module(init, gen, n, n_streams)\n",
        "exit(0)"
      ],
      "metadata": {
        "id": "rghISthVDFv5"
      },
      "execution_count": null,
      "outputs": []
    },
    {
      "cell_type": "code",
      "source": [
        "%%writefile src/theta_test_numpy.py\n",
        "import numpy\n",
        "numpy.random.seed(0)\n",
        "theta = numpy.pi*2*numpy.random.rand(1000000)\n",
        "sin_theta = numpy.sin(theta)\n",
        "cos_theta = numpy.cos(theta)"
      ],
      "metadata": {
        "id": "OwLEsDKXFoDw"
      },
      "execution_count": null,
      "outputs": []
    },
    {
      "cell_type": "markdown",
      "source": [
        "Execution under NVPROF"
      ],
      "metadata": {
        "id": "3pDmFWeeHSP_"
      }
    },
    {
      "cell_type": "code",
      "source": [
        "#!nvprof --print-gpu-summary ./theta_test_cuda\n",
        "#!nvprof --print-gpu-trace ./theta_test_cuda\n",
        "!nvprof ./theta_test_cuda"
      ],
      "metadata": {
        "id": "xvVC_ApkAKC3"
      },
      "execution_count": null,
      "outputs": []
    },
    {
      "cell_type": "code",
      "source": [
        "!nvprof python src/theta_test_pycuda.py"
      ],
      "metadata": {
        "id": "bmUREv3hDcRq"
      },
      "execution_count": null,
      "outputs": []
    },
    {
      "cell_type": "markdown",
      "source": [
        "Timing\n",
        "\n",
        "---------------------\n",
        "\n",
        "`real` is the time from start to finish of the call. It is the time from the moment you hit the Enter key until the moment the wget command is completed.\n",
        "`user` amount of CPU time spent in user mode.\n",
        "`sys` amount of CPU time spent in kernel mode."
      ],
      "metadata": {
        "id": "KeuePUFdLEvc"
      }
    },
    {
      "cell_type": "code",
      "source": [
        "!time python ./src/theta_test_pycuda.py"
      ],
      "metadata": {
        "id": "AFMMBMToHMRI"
      },
      "execution_count": null,
      "outputs": []
    },
    {
      "cell_type": "code",
      "source": [
        "!time python ./src/theta_test_numpy.py"
      ],
      "metadata": {
        "id": "3fELrf-BKwl7"
      },
      "execution_count": null,
      "outputs": []
    },
    {
      "cell_type": "code",
      "source": [
        "!time ./theta_test_cuda"
      ],
      "metadata": {
        "id": "2Gwonl3KLCnZ"
      },
      "execution_count": null,
      "outputs": []
    },
    {
      "cell_type": "markdown",
      "source": [
        "### Between Whole Functions"
      ],
      "metadata": {
        "id": "MyctdrX5EVDg"
      }
    },
    {
      "cell_type": "markdown",
      "source": [
        "Warm up befor real tests"
      ],
      "metadata": {
        "id": "7qYH9moA-Ry2"
      }
    },
    {
      "cell_type": "code",
      "source": [
        "%%capture\n",
        "X, l, W, n = rand_blobs(5, d=28*28, k=5, std=5, standard=False, display=False)\n",
        "W = pairwise_distances(X,X, metric='cosine')\n",
        "trial = 1\n",
        "\n",
        "avg_time_of(CSN_LEGACY, W, \"CSN Legacy\", trial)\n",
        "avg_time_of(CSN_CPU, W, \"CSN CPU\", trial)\n",
        "avg_time_of(CSN_CPU_2, W, \"CSN CPU 2\", trial)\n",
        "#avg_time_of(CSN_CUPY, W, \"CSN CUPY\", trial) # too slo\n",
        "\n",
        "#W = None\n",
        "#W_CUPY = None"
      ],
      "metadata": {
        "id": "Lm9hXjWv-QE1"
      },
      "execution_count": null,
      "outputs": []
    },
    {
      "cell_type": "markdown",
      "source": [
        "Real tests"
      ],
      "metadata": {
        "id": "Sd0DMBL2_8hI"
      }
    },
    {
      "cell_type": "code",
      "source": [
        "X, l, W, n = rand_blobs(10000, d=28*28, k=5, std=5, standard=False, display=False)\n",
        "W = pairwise_distances(X,X, metric='cosine')\n",
        "trial = 3\n",
        "\n",
        "avg_time_of(CSN_LEGACY, W, \"CSN Legacy\", trial)\n",
        "avg_time_of(CSN_CPU, W, \"CSN CPU\", trial)\n",
        "avg_time_of(CSN_CPU_2, W, \"CSN CPU 2\", trial)\n",
        "#avg_time_of(CSN_CUPY, W, \"CSN CUPY\", trial) # too slow\n",
        "\n",
        "print(\"\")"
      ],
      "metadata": {
        "id": "lNprhLdHh8XN"
      },
      "execution_count": null,
      "outputs": []
    },
    {
      "cell_type": "markdown",
      "source": [
        "RESULTS on Tesla T4\n",
        "\n",
        "rounds=21\n",
        "Average time of CSN Legacy: \t\t 8.325038 seconds.\n",
        "\n",
        "rounds=21\n",
        "Average time of CSN CPU: \t\t 6.899417 seconds.\n",
        "\n",
        "rounds=21\n",
        "Average time of CSN CPU 2: \t\t 6.752142 seconds.\n",
        "\n",
        "rounds=21\n",
        "Average time of CSN CUPY: \t\t 109.777244 seconds.\n",
        "\n",
        "rounds=21\n",
        "Average time of CSN CUPY 2: \t\t 112.692553 seconds.\n",
        "\n",
        "\n",
        "\n",
        "\n",
        "\n",
        "\n",
        "\n",
        "\n",
        "\n",
        "\n",
        "\n"
      ],
      "metadata": {
        "id": "LQAd6u63Aor8"
      }
    },
    {
      "cell_type": "markdown",
      "source": [
        "### Between single fuctions"
      ],
      "metadata": {
        "id": "pCafxg9iEe-a"
      }
    },
    {
      "cell_type": "markdown",
      "source": [
        "#### cuRand - numpy"
      ],
      "metadata": {
        "id": "HjZ-DWEOYcJj"
      }
    },
    {
      "cell_type": "code",
      "source": [
        "#%%writefile cuRand_test.py\n",
        "\n",
        "import numpy\n",
        "import pycuda.driver as cuda\n",
        "import pycuda.autoinit\n",
        "from pycuda.compiler import SourceModule\n",
        "import math\n",
        "\n",
        "cuRand = \"\"\" \n",
        "#include <curand_kernel.h>\n",
        "\n",
        " extern \"C\" { \n",
        "  __global__ void initCurand(curandState* states, unsigned int n)\n",
        "  {\n",
        "      unsigned int tid = threadIdx.x + blockDim.x * blockIdx.x;\n",
        "      \n",
        "      if (tid < n)\n",
        "      {\n",
        "        curand_init(1234, tid, 0, &states[tid]);\n",
        "      }\n",
        "    }\n",
        "\n",
        "  __global__ void genVector(curandState* states, float *result, float *result2, unsigned int n, float a)\n",
        "  {\n",
        "    unsigned int tid = threadIdx.x + blockIdx.x * blockDim.x;\n",
        "    \n",
        "    if (tid < n)\n",
        "    {\n",
        "      result[tid] = a * curand_uniform(&states[tid]);\n",
        "      result2[tid] = a * curand_uniform(&states[tid]);\n",
        "    }\n",
        "  }\n",
        "}\n",
        "\n",
        "\"\"\"\n",
        "\n",
        "def loadKernels():\n",
        "  mod = SourceModule(cuRand, keep=False, no_extern_c=True)\n",
        "  init_curand = mod.get_function(\"initCurand\")\n",
        "  gen_vector = mod.get_function(\"genVector\")\n",
        "  return init_curand, gen_vector\n",
        "\n",
        "def init(n, h_n, grid, block):\n",
        "  # Curand States generation\n",
        "  states = cuda.mem_alloc(n * pycuda.characterize.sizeof('curandStateXORWOW', '#include <curand_kernel.h>'))\n",
        "  init_curand(states, h_n, grid=grid, block=block)\n",
        "  return states\n",
        "\n",
        "def generate_vector(states, n, h_n, h_pi2, grid, block):\n",
        "  # Curand vector generation\n",
        "  h_theta = numpy.zeros(n, dtype=numpy.float32)\n",
        "  h_theta2 = numpy.zeros(n, dtype=numpy.float32)\n",
        "  d_theta = cuda.mem_alloc(h_theta.nbytes)\n",
        "  d_theta2 = cuda.mem_alloc(h_theta.nbytes)\n",
        "  gen_vector(states, d_theta, d_theta2, h_n, h_pi2, grid=grid, block=block)\n",
        "\n",
        "  # get result\n",
        "  cuda.memcpy_dtoh(h_theta, d_theta)\n",
        "  cuda.memcpy_dtoh(h_theta2, d_theta2)\n",
        "\n",
        "  return h_theta, h_theta2 \n",
        "\n",
        "init_curand, gen_vector = loadKernels()\n",
        "\n",
        "#vector size\n",
        "n = 1000\n",
        "#threads per block\n",
        "threadsperblock = 128\n",
        "pi2 = numpy.pi*2\n",
        "\n",
        "#host costant\n",
        "h_n = numpy.uint32(n)\n",
        "h_pi2 = numpy.float32(pi2)\n",
        "\n",
        "#grid size definition\n",
        "grid = (math.floor((n + threadsperblock - 1) / threadsperblock), 1, 1)\n",
        "block = (threadsperblock,1,1)\n",
        "\n",
        "states = init(n, h_n, grid, block)\n",
        "v, v1 = generate_vector(states, n, h_n, h_pi2, grid, block)\n",
        "\n",
        "print(v[0:5])\n",
        "print(v1[0:5])\n",
        "\n",
        "#print(v[0:20])"
      ],
      "metadata": {
        "id": "9KS1n28nyyU5"
      },
      "execution_count": null,
      "outputs": []
    },
    {
      "cell_type": "markdown",
      "source": [
        "size = 1.000.000\n",
        "\n",
        "Elapsed time: 3.738552 seconds."
      ],
      "metadata": {
        "id": "_Pijt5KW4rwF"
      }
    },
    {
      "cell_type": "code",
      "source": [
        "!rm cuRand_test.nvvp\n",
        "!nvprof -s -o cuRand_test.nvvp python cuRand_test.py"
      ],
      "metadata": {
        "id": "FGNk0UpOf4Ex"
      },
      "execution_count": null,
      "outputs": []
    },
    {
      "cell_type": "code",
      "source": [
        "#### REMOVE FROM PREVIUS CELL <<%%writefile ...>> AND ADD THIS CELL AT THE BOTTOM\n",
        "#### TO TEST CURAND AND NUMPY\n",
        "\n",
        "print(\"curand\")\n",
        "tic()\n",
        "theta_gpu = generate_vector(n, h_n, h_pi2, grid, block)\n",
        "toc()\n",
        "\n",
        "print(\"numpy.random.rand\")\n",
        "tic()\n",
        "numpy.random.seed(0)\n",
        "theta_cpu = numpy.pi*2*numpy.random.rand(n)\n",
        "toc()\n",
        "\n",
        "#print(\"theta gpu shape\"+str(theta_gpu.shape))\n",
        "#print(\"theta cpu shape\"+str(theta_cpu.shape))"
      ],
      "metadata": {
        "id": "Rn6DyoAyezHt"
      },
      "execution_count": null,
      "outputs": []
    },
    {
      "cell_type": "markdown",
      "source": [
        "#### numpy - cupy"
      ],
      "metadata": {
        "id": "sHYtG-_t4P6o"
      }
    },
    {
      "cell_type": "code",
      "source": [
        "import numpy\n",
        "import cupy\n",
        "\n",
        "def np(n):\n",
        "  numpy.random.seed(0)\n",
        "  theta = 2*numpy.pi*numpy.random.rand(n)\n",
        "\n",
        "  sin_t = numpy.sin(theta)\n",
        "  cos_t = numpy.cos(theta)\n",
        "\n",
        "  print(theta.shape)\n",
        "  print(sin_t.shape)\n",
        "  print(cos_t.shape)\n",
        "\n",
        "def cp(n):\n",
        "  cupy.random.seed(0)\n",
        "  theta = 2*cupy.pi*cupy.random.rand(n)\n",
        "\n",
        "  sin_t = cupy.sin(theta)\n",
        "  cos_t = cupy.cos(theta)\n",
        "\n",
        "  cupy.asnumpy(theta)\n",
        "  cupy.asnumpy(sin_t)\n",
        "  cupy.asnumpy(cos_t)\n",
        "\n",
        "  return"
      ],
      "metadata": {
        "id": "DXM0ZuUK6JXw"
      },
      "execution_count": null,
      "outputs": []
    },
    {
      "cell_type": "code",
      "source": [
        "n = 20\n",
        "\n",
        "np(n)\n",
        "cp(n)\n",
        "\n",
        "k=1000\n",
        "n = 1000*k\n",
        "\n",
        "tic()\n",
        "np(n)\n",
        "t0 = toc()\n",
        "\n",
        "tic()\n",
        "cp(n)\n",
        "t1 = toc()\n",
        "\n",
        "\n"
      ],
      "metadata": {
        "id": "9-XY6XP1IuB6"
      },
      "execution_count": null,
      "outputs": []
    },
    {
      "cell_type": "markdown",
      "source": [
        "## ✔ Correctness Tests"
      ],
      "metadata": {
        "id": "pCOJzNVcE5al"
      }
    },
    {
      "cell_type": "code",
      "source": [
        "X, l, W, n = rand_blobs(100, d=28*28, k=5, std=5, standard=False, display=False)\n",
        "W = pairwise_distances(X,X, metric='cosine')"
      ],
      "metadata": {
        "id": "jKc7rUTuFIdE"
      },
      "execution_count": null,
      "outputs": []
    },
    {
      "cell_type": "code",
      "source": [
        "#%%capture\n",
        "eps = 0.00001\n",
        "\n",
        "t0 = CSN_LEGACY(W)\n",
        "t1 = CSN_CPU(W)\n",
        "t2 = CSN_CPU_2(W)\n",
        "t3 = CSN_CUPY(W_CUPY)\n"
      ],
      "metadata": {
        "id": "PAEUE-iGFT3L"
      },
      "execution_count": null,
      "outputs": []
    },
    {
      "cell_type": "code",
      "source": [
        "print(\" CSN_CPU is %s\" % numpy.allclose(t0, t1, atol=eps))\n",
        "print(\" CSN_CPU_2 is %s\" % numpy.allclose(t0, t2, atol=eps))\n",
        "print(\" CSN_CPU_CUPY is %s\" % numpy.allclose(t0, t3, atol=eps))"
      ],
      "metadata": {
        "id": "HFcWMe80V6QT"
      },
      "execution_count": null,
      "outputs": []
    },
    {
      "cell_type": "markdown",
      "source": [
        "# 🏞 SHOW RESULT"
      ],
      "metadata": {
        "id": "VpLoo15PrK66"
      }
    },
    {
      "cell_type": "code",
      "source": [
        "X, l, W, n = rand_blobs(10, d=28*28, k=5, std=5, standard=False)\n",
        "W = pairwise_distances(X,X, metric='cosine')"
      ],
      "metadata": {
        "id": "jJ99xpeQmTa1"
      },
      "execution_count": null,
      "outputs": []
    },
    {
      "cell_type": "code",
      "source": [
        "theta = CSN_CPU(W)"
      ],
      "metadata": {
        "id": "0PDM_wZJhpZ6"
      },
      "execution_count": null,
      "outputs": []
    },
    {
      "cell_type": "code",
      "source": [
        "hist, bins = histogram(theta, nbins=256)\n",
        "plot_circle(theta,l)\n",
        "plot_hist(hist, bins, mode=0)"
      ],
      "metadata": {
        "id": "zRIjWe7AxWZ1"
      },
      "execution_count": null,
      "outputs": []
    },
    {
      "cell_type": "markdown",
      "source": [
        "# scratch"
      ],
      "metadata": {
        "id": "o_pVabRUxY2_"
      }
    },
    {
      "cell_type": "code",
      "source": [
        "void matrix_norm(float *matrix)\n",
        "{\n",
        "  const uint num_streams = 100;\n",
        "  const uint chunk = (N*N)/num_streams;\n",
        "\n",
        "  cublasHandle_t handles[num_streams];\n",
        "  cudaStream_t streams[num_streams];\n",
        "  float *data[num_streams];\n",
        "\n",
        "  dim3 block(BLOCK_SIZE, 1, 1);\n",
        "  dim3 grid((chunk + block.x - 1) / block.x, 1, 1);\n",
        "\n",
        "  for (int i = 0; i < num_streams; i++) {\n",
        "      CHECK(cudaStreamCreate(&streams[i]));\n",
        "      CHECK_CUBLAS(cublasCreate(&handle[i]));\n",
        "      CHECK_CUBLAS(cublasSetStream(handle[i],stream[i]));\n",
        "\n",
        "      CHECK(cudaMalloc(&data[i], chunk * sizeof(float)));\n",
        "      CHECK(cuda)\n",
        "  }\n",
        " \n",
        "  \n",
        "}"
      ],
      "metadata": {
        "id": "Jw8Air3exYHu"
      },
      "execution_count": null,
      "outputs": []
    }
  ]
}