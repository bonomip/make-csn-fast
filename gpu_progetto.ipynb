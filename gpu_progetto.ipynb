{
  "nbformat": 4,
  "nbformat_minor": 0,
  "metadata": {
    "colab": {
      "name": "gpu_progetto.ipynb",
      "private_outputs": true,
      "provenance": [],
      "collapsed_sections": [
        "fZYqN0UwVLC_",
        "WoJbB3T5Vkw-",
        "_cGSqZovVkxK",
        "cReFlD-VRfZe",
        "EekCnoMemnZx",
        "Lk5Ub7-4jEAI",
        "DxTsQDwtCO_F",
        "pCafxg9iEe-a",
        "HjZ-DWEOYcJj",
        "sHYtG-_t4P6o",
        "VpLoo15PrK66"
      ],
      "include_colab_link": true
    },
    "kernelspec": {
      "name": "python3",
      "display_name": "Python 3"
    },
    "accelerator": "GPU",
    "gpuClass": "standard"
  },
  "cells": [
    {
      "cell_type": "markdown",
      "metadata": {
        "id": "view-in-github",
        "colab_type": "text"
      },
      "source": [
        "<a href=\"https://colab.research.google.com/github/bonomip/GPU/blob/master/gpu_progetto.ipynb\" target=\"_parent\"><img src=\"https://colab.research.google.com/assets/colab-badge.svg\" alt=\"Open In Colab\"/></a>"
      ]
    },
    {
      "cell_type": "markdown",
      "source": [
        "---\n",
        "# PROGETTO CLUSTER\n",
        "---"
      ],
      "metadata": {
        "id": "fZYqN0UwVLC_"
      }
    },
    {
      "cell_type": "markdown",
      "metadata": {
        "id": "WoJbB3T5Vkw-"
      },
      "source": [
        "# 🎬 CUDA setup"
      ]
    },
    {
      "cell_type": "code",
      "metadata": {
        "id": "Fht2Wy8wVkxJ"
      },
      "source": [
        "!nvcc --version"
      ],
      "execution_count": null,
      "outputs": []
    },
    {
      "cell_type": "code",
      "metadata": {
        "id": "0jP2H_YJVkxJ"
      },
      "source": [
        "!nvidia-smi"
      ],
      "execution_count": null,
      "outputs": []
    },
    {
      "cell_type": "markdown",
      "source": [
        "## [GPU Compute Capability](https://developer.nvidia.com/cuda-gpus)"
      ],
      "metadata": {
        "id": "VKbaxH9wWosO"
      }
    },
    {
      "cell_type": "markdown",
      "metadata": {
        "id": "_cGSqZovVkxK"
      },
      "source": [
        "## NVCC Plugin for Jupyter notebook\n",
        "\n",
        "*Usage*:\n",
        "\n",
        "\n",
        "*   Load Extension `%load_ext nvcc_plugin`\n",
        "*   Mark a cell to be treated as cuda cell\n",
        "`%%cuda --name example.cu --compile false`\n",
        "\n",
        "**NOTE**: The cell must contain either code or comments to be run successfully. It accepts 2 arguments. `-n | --name` - which is the name of either CUDA source or Header. The name parameter must have extension `.cu` or `.h`. Second argument -c | --compile; default value is false. The argument is a flag to specify if the cell will be compiled and run right away or not. It might be usefull if you're playing in the main function\n",
        "\n",
        "*  We are ready to run CUDA C/C++ code right in your Notebook. For this we need explicitly say to the interpreter, that we want to use the extension by adding `%%cu` at the beginning of each cell with CUDA code. \n",
        "\n",
        "\n"
      ]
    },
    {
      "cell_type": "code",
      "metadata": {
        "id": "RCVhMkqYVkxK"
      },
      "source": [
        "!pip install git+https://github.com/andreinechaev/nvcc4jupyter.git\n"
      ],
      "execution_count": null,
      "outputs": []
    },
    {
      "cell_type": "code",
      "metadata": {
        "id": "e6PDOytTVkxK"
      },
      "source": [
        "%load_ext nvcc_plugin"
      ],
      "execution_count": null,
      "outputs": []
    },
    {
      "cell_type": "code",
      "source": [
        "%pip install --target=$nb_path pycuda"
      ],
      "metadata": {
        "id": "WFlCquMbAjxi"
      },
      "execution_count": null,
      "outputs": []
    },
    {
      "cell_type": "markdown",
      "source": [
        "## ⛔️ NOT WORKING INSIDE CELLS pyCuda"
      ],
      "metadata": {
        "id": "KHT048VFzycw"
      }
    },
    {
      "cell_type": "code",
      "source": [
        "#import os, sys\n",
        "#from google.colab import drive\n",
        "\n",
        "#try:\n",
        "#  drive.mount('/content/drive')\n",
        "#  nb_path = '/content/notebooks'\n",
        "#  os.symlink(\"/content/drive/My Drive/Colab_Notebooks\", nb_path)\n",
        "#  sys.path.insert(0,nb_path)\n",
        "#except FileExistsError:\n",
        "#  print(\"\")"
      ],
      "metadata": {
        "id": "qPCoXKtayAkM"
      },
      "execution_count": null,
      "outputs": []
    },
    {
      "cell_type": "markdown",
      "source": [
        "Run this command only once"
      ],
      "metadata": {
        "id": "Nai71HQl01gX"
      }
    },
    {
      "cell_type": "code",
      "source": [
        "#!pip install --target=$nb_path pycuda"
      ],
      "metadata": {
        "id": "tsdDsYD-yJpF"
      },
      "execution_count": null,
      "outputs": []
    },
    {
      "cell_type": "markdown",
      "source": [
        "## 📦 Packages"
      ],
      "metadata": {
        "id": "EekCnoMemnZx"
      }
    },
    {
      "cell_type": "code",
      "source": [
        "from sklearn.metrics.pairwise import euclidean_distances\n",
        "from sklearn.preprocessing import StandardScaler\n",
        "from sklearn.metrics import pairwise_distances\n",
        "from sklearn.datasets import make_blobs\n",
        "from sklearn.decomposition import PCA\n",
        "import plotly.graph_objects as go\n",
        "import plotly.express as px\n",
        "import numpy\n",
        "import numba\n",
        "import time\n",
        "  \n",
        "\n",
        "def TicTocGenerator():\n",
        "  # Generator that returns time differences\n",
        "  ti = 0           # initial time\n",
        "  tf = time.time() # final time\n",
        "  while True:\n",
        "    ti = tf\n",
        "    tf = time.time()\n",
        "    yield tf-ti # returns the time difference\n",
        "\n",
        "TicToc = TicTocGenerator() \n",
        "\n",
        "def toc(tempBool=True):\n",
        "  # Prints the time difference yielded by generator instance TicToc\n",
        "  tempTimeInterval = next(TicToc)\n",
        "  if tempBool:\n",
        "    print( \"Elapsed time: %f seconds.\" %tempTimeInterval )\n",
        "  return tempTimeInterval\n",
        "\n",
        "def tic():\n",
        "  # Records a time in TicToc, marks the beginning of a time interval\n",
        "  toc(False)\n",
        "\n",
        "# instance creation\n",
        "def rand_blobs(n, d, k=3, std=1, rstate=None, standard=True, display=True, threeD=False): \n",
        "  X, l = make_blobs(n_samples=n, centers=k, n_features=d, cluster_std=std, random_state=rstate)\n",
        "  if standard:\n",
        "    scaler = StandardScaler()\n",
        "    X = scaler.fit_transform(X)\n",
        "  W = euclidean_distances(X, X)\n",
        "\n",
        "  # plot\n",
        "  if display:\n",
        "    plot_blobs(X,l,threeD)\n",
        "  return X, l, W, n\n",
        "\n",
        "def histogram(theta, nbins=None, verb=True):\n",
        "  if nbins is None:\n",
        "    nbins = len(theta)\n",
        "  binsLIM = numpy.linspace(0,2*numpy.pi,nbins)\n",
        "  hist, bins = numpy.histogram(theta, binsLIM)\n",
        "\n",
        "  if verb:\n",
        "    print('Data size : %d' %len(theta))\n",
        "    print('Num bins  : %d' %nbins)\n",
        "\n",
        "  return hist, bins \n",
        "\n",
        "def plot_circle(theta, l=None, radius=500):\n",
        "  \"\"\"\n",
        "    Produce a plot with the locations of all poles and zeros\n",
        "  \"\"\"\n",
        "\n",
        "  x = numpy.cos(theta)\n",
        "  y = numpy.sin(theta)\n",
        "\n",
        "  fig = go.Figure()\n",
        "  fig.add_shape(type=\"circle\", xref=\"x\", yref=\"y\", x0=-1, y0=-1, x1=1, y1=1, line=dict(color=\"black\", width=1))\n",
        "  \n",
        "  if l is None:\n",
        "    fig.add_trace(go.Scatter(x=x, y=y,\n",
        "          mode='markers',\n",
        "          marker_symbol='circle',\n",
        "          marker_size=10))\n",
        "  else:\n",
        "    ul = numpy.unique(l)\n",
        "    cols = list(range(len(ul)))\n",
        "    for c,u in zip(cols,ul):\n",
        "      idx = numpy.where(u == l)\n",
        "      fig.add_trace(go.Scatter(x=x[idx], y=y[idx],\n",
        "          mode='markers',\n",
        "          marker_symbol='circle',\n",
        "          marker_color=cols[c], \n",
        "          marker_line_color=cols[c],\n",
        "          marker_line_width=0, \n",
        "          marker_size=10))\n",
        "  \n",
        "  M = 1.05\n",
        "  fig.update_xaxes(title='', range=[-M, M])\n",
        "  fig.update_yaxes(title='', range=[-M, M])\n",
        "  fig.update_layout(title='clusters', width=radius, height=radius)\n",
        "  fig.show()\n",
        "\n",
        "def plot_hist(hist, bins, mode=0, smooth_wlen=None):\n",
        "\n",
        "  if mode==0:\n",
        "    mode_line = 'lines'\n",
        "  elif mode == 1:\n",
        "    mode_line = 'markers'\n",
        "  else:\n",
        "    mode_line = 'lines+markers'\n",
        "  \n",
        "  if smooth_wlen is not None:\n",
        "    hist = smooth(hist, window_len=smooth_wlen, window='hanning')\n",
        "\n",
        "  figh = go.Figure(data=go.Scatter(x=bins, y=hist, mode=mode_line))\n",
        "  figh.show()\n",
        "\n",
        "def plot_blobs(X, labels=None, threeD=False, doPCA=True, sizex=1):\n",
        "\n",
        "  if threeD:\n",
        "    if PCA:\n",
        "      pca = PCA(n_components=3)\n",
        "      components = pca.fit_transform(X)\n",
        "    else:\n",
        "      components = X[:,0:3]  \n",
        "    if labels is None:\n",
        "      fig = px.scatter_3d(components, x=0, y=1, z=2, title='Blobs 3D',\n",
        "                          labels={'0': 'PC 1', '1': 'PC 2', '2': 'PC 3'})\n",
        "    else:\n",
        "      fig = px.scatter_3d(components, x=0, y=1, z=2, color=labels, title='Blobs 3D',\n",
        "                          labels={'0': 'PC 1', '1': 'PC 2', '2': 'PC 3'})\n",
        "  else:\n",
        "    if doPCA:\n",
        "      pca = PCA(n_components=2)\n",
        "      components = pca.fit_transform(X)\n",
        "    else:\n",
        "      components = X[:,0:2]  \n",
        "    if labels is None:\n",
        "      fig = px.scatter(components, x=0, y=1, title='Blobs 2D', labels={'0': 'PC 1', '1': 'PC 2'})\n",
        "    else:\n",
        "      fig = px.scatter(components, x=0, y=1, title='Blobs 2D', color=labels, labels={'0': 'PC 1', '1': 'PC 2'})\n",
        "  \n",
        "  fig.update_layout(\n",
        "    width = 800*sizex,\n",
        "    height = 800*sizex,\n",
        "    title = \"fixed-ratio axes\")\n",
        "  fig.update_yaxes(\n",
        "    scaleanchor = \"x\",\n",
        "    scaleratio = 1)\n",
        "  fig.show()\n",
        "\n",
        "\n",
        "def kmeans(X, k, niter=300, rstate=0, n_init=10):\n",
        "  kmeans = KMeans(n_clusters=k, n_init=n_init, max_iter=niter, random_state=rstate)\n",
        "  kmeans.fit(X)\n",
        "\n",
        "  return kmeans.labels_, kmeans.n_iter_, kmeans.inertia_ "
      ],
      "metadata": {
        "id": "Wup0k6_Xm_Su"
      },
      "execution_count": null,
      "outputs": []
    },
    {
      "cell_type": "markdown",
      "source": [
        "# 🪣 CSN Algorithms"
      ],
      "metadata": {
        "id": "EBR69K526Jeb"
      }
    },
    {
      "cell_type": "markdown",
      "source": [
        "## 📟 Legacy Code"
      ],
      "metadata": {
        "id": "gCTzGb4dR4up"
      }
    },
    {
      "cell_type": "markdown",
      "source": [
        "### CPU\n"
      ],
      "metadata": {
        "id": "LUJWU-7Yj9nd"
      }
    },
    {
      "cell_type": "code",
      "source": [
        "@numba.jit\n",
        "def CSN_LEGACY(W, eps=0.01, theta0=None, normalize=True, seed=1):\n",
        "\n",
        "  # general vars\n",
        "  PI = numpy.pi #numpy.pi\n",
        "  n = W.shape[0]\n",
        "\n",
        "  # param check\n",
        "  if normalize:\n",
        "    W = W / numpy.linalg.norm(W) #linear algebra norm\n",
        "  if theta0 is None: # if theta is not defined\n",
        "    numpy.random.seed(seed)\n",
        "    theta = 2*PI*numpy.random.rand(n)  # init. values in [0, 2*PI] # cudarandom\n",
        "  else:\n",
        "    theta = theta0\n",
        "\n",
        "  # preliminar computations \n",
        "  sin_t = numpy.sin(theta)\n",
        "  cos_t = numpy.cos(theta)\n",
        "  A = numpy.dot(W, cos_t)\n",
        "  B = numpy.dot(W, sin_t)\n",
        "\n",
        "  # main loop\n",
        "  ok = True\n",
        "  rounds = 0\n",
        "  while ok:\n",
        "    ok = False\n",
        "    rounds += 1\n",
        "    nchanges = 0\n",
        "    # loop on angles\n",
        "    for i in range(n):\n",
        "      old = theta[i]\n",
        "\n",
        "      # change i-th theta\n",
        "      theta[i] = numpy.arctan(B[i]/A[i])    # within [-PI/2, PI/2]\n",
        "\n",
        "      if A[i] >= 0:\n",
        "        theta[i] += PI\n",
        "      elif B[i] > 0:\n",
        "        theta[i] += 2*PI\n",
        "\n",
        "      # update Ak & Bk by elementwise product and diff\n",
        "      A += numpy.multiply(W[i,:], numpy.repeat(numpy.cos(theta[i]) - numpy.cos(old), n))\n",
        "      B += numpy.multiply(W[i,:], numpy.repeat(numpy.sin(theta[i]) - numpy.sin(old), n)) \n",
        "\n",
        "      if min(abs(old-theta[i]),abs(2*PI-old+theta[i])) > eps:\n",
        "        ok = True\n",
        "        nchanges += 1\n",
        "\n",
        "  print(\"rounds=\"+str(rounds))\n",
        "\n",
        "  return theta"
      ],
      "metadata": {
        "id": "_LIsbM_EkCLm"
      },
      "execution_count": null,
      "outputs": []
    },
    {
      "cell_type": "markdown",
      "source": [
        "### GPU\n"
      ],
      "metadata": {
        "id": "Lk5Ub7-4jEAI"
      }
    },
    {
      "cell_type": "code",
      "source": [
        "def CSN1_legacy(W, eps=0.01, theta0=None, verb=0):\n",
        "\n",
        "  n = W.shape[0]\n",
        "  W = (W / numpy.linalg.norm(W)).astype('float32')\n",
        "  PI = numpy.pi\n",
        "  if theta0 is None:\n",
        "    theta = 2*PI*numpy.random.rand(n)  # init. values in [0, 2*PI]\n",
        "  else:\n",
        "    theta = theta0\n",
        "\n",
        "  TxB = 32      # number of threads in a block\n",
        "  BxG = (n + (TxB - 1)) // TxB    # number of thread blocks in the grid\n",
        " \n",
        "  sin_t = numpy.sin(theta)\n",
        "  cos_t = numpy.cos(theta)\n",
        "  A = numpy.dot(W, cos_t).astype('float32')\n",
        "  B = numpy.dot(W, sin_t).astype('float32')\n",
        "\n",
        "  # main loop\n",
        "  ok = True\n",
        "  rounds = 0\n",
        "  while ok:\n",
        "    ok = False\n",
        "    rounds += 1\n",
        "    nchanges = 0\n",
        "    # loop on angles\n",
        "    for i in range(n):\n",
        "      old = theta[i]\n",
        "\n",
        "      # change i-th theta\n",
        "      theta[i] = numpy.arctan(B[i]/A[i])    # within [-PI/2, PI/2]\n",
        "      if A[i] >= 0:\n",
        "        theta[i] += PI\n",
        "      elif B[i] > 0:\n",
        "        theta[i] += 2*PI\n",
        "\n",
        "      # update Ak & Bk using GPU\n",
        "      dc = numpy.cos(theta[i]) - numpy.cos(old)\n",
        "      ds = numpy.sin(theta[i]) - numpy.sin(old)\n",
        "      #func[BxG, TxB](A, B, W, dc, ds, i)\n",
        "      dot_GPU[BxG, TxB](A, W, dc.astype('float32'), n)  # start the kernel\n",
        "      dot_GPU[BxG, TxB](B, W, ds.astype('float32'), n)  # start the kernel\n",
        "\n",
        "      if min(abs(old-theta[i]),abs(2*PI-old+theta[i])) > eps:\n",
        "        ok = True\n",
        "        nchanges += 1\n",
        "\n",
        "  if verb > 0:\n",
        "    print('  Size : %d' %n)\n",
        "    print('Rounds : %d' %rounds)\n",
        " \n",
        "  return theta\n",
        "\n",
        "#@cuda.jit\n",
        "def dot_GPU(A, W, d, n):\n",
        "  tx = cuda.threadIdx.x  # Thread id in a 1D block\n",
        "  bw = cuda.blockDim.x   # Block width\n",
        "\n",
        "  # shared memory\n",
        "  sW = cuda.shared.array(bw, dtype=numpy.float32)\n",
        "\n",
        "  # index inside the array\n",
        "  pos = cuda.grid(1)\n",
        "  if pos >= W.shape[0]:\n",
        "    return\n",
        "\n",
        "  gw = cuda.gridDim.x     # num blocks per grid\n",
        "\n",
        "  # The dot product is chunked into dot products of TPB-long vectors.\n",
        "  res = 0.\n",
        "  for i in range(gw):\n",
        "    # Preload data into shared memory\n",
        "    sW[tx] = W[tx + i * bw,:]\n",
        "    # Wait until all threads finish preloading\n",
        "    cuda.syncthreads()\n",
        "    # Computes partial product on the shared memory\n",
        "    for j in range(bw):\n",
        "        res += A[tx] * d\n",
        "    # Wait until all threads finish computing\n",
        "    cuda.syncthreads()\n",
        "\n",
        "  return res"
      ],
      "metadata": {
        "id": "li60J_ZSjWYL"
      },
      "execution_count": null,
      "outputs": []
    },
    {
      "cell_type": "markdown",
      "source": [
        "## 🪜 My Solutions\n"
      ],
      "metadata": {
        "id": "p-1miwT-cT6-"
      }
    },
    {
      "cell_type": "markdown",
      "source": [
        "### CPU"
      ],
      "metadata": {
        "id": "DxTsQDwtCO_F"
      }
    },
    {
      "cell_type": "code",
      "source": [
        "import numpy\n",
        "\n",
        "@numba.jit\n",
        "def CSN_CPU(W, eps=0.01, seed=1):\n",
        "  n = W.shape[0]\n",
        "  PI = numpy.pi\n",
        "  \n",
        "  W = W / numpy.linalg.norm(W) # Frobenius_norm(W)\n",
        "  \n",
        "  numpy.random.seed(seed)\n",
        "  theta = 2*PI*numpy.random.rand(n)\n",
        "  \n",
        "  sin_t = numpy.sin(theta)\n",
        "  cos_t = numpy.cos(theta)\n",
        "  \n",
        "  A = numpy.dot(W, cos_t)\n",
        "  B = numpy.dot(W, sin_t)\n",
        "\n",
        "  ok = True\n",
        "  rounds = 0\n",
        "\n",
        "  while ok:\n",
        "    ok = False\n",
        "    rounds += 1\n",
        "    nchanges = 0\n",
        "\n",
        "    # loop on angles\n",
        "    for i in range(n):\n",
        "      theta, A, B, ok, nchanges = loop_fun(i, theta, A, B, eps, W, n, nchanges, PI, ok)\n",
        "\n",
        "  print(\"rounds=\"+str(rounds))\n",
        "\n",
        "  return theta\n",
        "\n",
        "@numba.jit\n",
        "def loop_fun(i, theta, A, B, eps, W, n, nchanges, PI, ok):\n",
        "  old = theta[i]\n",
        "\n",
        "  # change i-th theta\n",
        "  theta[i] = numpy.arctan(B[i]/A[i])    # within [-PI/2, PI/2]\n",
        "  \n",
        "  if A[i] >= 0:\n",
        "    theta[i] += PI\n",
        "  elif B[i] > 0:\n",
        "    theta[i] += 2*PI\n",
        "\n",
        "  # update Ak & Bk by elementwise product and diff\n",
        "  A, B = updateAB(A, B, W, i, theta, old, n)\n",
        "\n",
        "  if min(abs(old-theta[i]),abs(2*PI-old+theta[i])) > eps:\n",
        "    ok = True\n",
        "    nchanges += 1\n",
        "\n",
        "  return theta, A, B, ok, nchanges\n",
        "\n",
        "@numba.jit\n",
        "def updateAB(A, B, W, i, theta, old, n):\n",
        "  A += numpy.multiply(W[i,:], numpy.cos(theta[i]) - numpy.cos(old))\n",
        "  B += numpy.multiply(W[i,:], numpy.sin(theta[i]) - numpy.sin(old)) \n",
        "  return A, B\n"
      ],
      "metadata": {
        "id": "3mw9jdWxhfpg"
      },
      "execution_count": null,
      "outputs": []
    },
    {
      "cell_type": "code",
      "source": [
        "import numpy\n",
        "\n",
        "@numba.jit\n",
        "def CSN_CPU_2(W, eps=0.01, seed=1):\n",
        "  n = W.shape[0]\n",
        "  PI = numpy.pi\n",
        "  \n",
        "  W = W / numpy.linalg.norm(W) # Frobenius_norm(W) # cuSolver?\n",
        "  \n",
        "  numpy.random.seed(seed)\n",
        "  theta = 2*PI*numpy.random.rand(n)\n",
        "  \n",
        "  old = numpy.copy(theta)\n",
        "  sin_t = numpy.sin(theta)\n",
        "  cos_t = numpy.cos(theta)\n",
        "  \n",
        "  A = numpy.dot(W, cos_t)\n",
        "  B = numpy.dot(W, sin_t)\n",
        "\n",
        "  ok = True\n",
        "  rounds = 0\n",
        "\n",
        "  while ok:\n",
        "    ok = False\n",
        "    rounds += 1\n",
        "    nchanges = 0\n",
        "\n",
        "    if rounds > 1:\n",
        "      old = numpy.copy(theta)\n",
        "      sin_t = numpy.sin(theta)\n",
        "      cos_t = numpy.cos(theta)\n",
        "\n",
        "    # loop on angles\n",
        "    for i in range(n):\n",
        "      theta, A, B, ok, nchanges = loop_fun_2(i, theta, A, B, eps, W, n, nchanges, PI, ok, sin_t, cos_t, old)\n",
        "\n",
        "  print(\"rounds=\"+str(rounds))\n",
        "\n",
        "  return theta\n",
        "\n",
        "@numba.jit\n",
        "def loop_fun_2(i, theta, A, B, eps, W, n, nchanges, PI, ok, sin_t, cos_t, old):\n",
        "  # change i-th theta\n",
        "  theta[i] = numpy.arctan(B[i]/A[i])    # within [-PI/2, PI/2]\n",
        "  \n",
        "  if A[i] >= 0:\n",
        "    theta[i] += PI\n",
        "  elif B[i] > 0:\n",
        "    theta[i] += 2*PI\n",
        "\n",
        "  # update Ak & Bk by elementwise product and diff\n",
        "  A, B = updateAB(A, B, W, i, theta, n)\n",
        "\n",
        "  if min(abs(old[i]-theta[i]),abs(2*PI-old[i]+theta[i])) > eps:\n",
        "    ok = True\n",
        "    nchanges += 1\n",
        "\n",
        "  return theta, A, B, ok, nchanges\n",
        "\n",
        "@numba.jit\n",
        "def updateAB_2(A, B, W, i, theta, n, sin_t, cos_t):\n",
        "  #this are all vectors with length n\n",
        "  A += numpy.multiply(W[i,:], numpy.cos(theta[i]) - cos_t[i])\n",
        "  B += numpy.multiply(W[i,:], numpy.sin(theta[i]) - sin_t[i]) \n",
        "  return A, B"
      ],
      "metadata": {
        "id": "JwHVTytSWfSL"
      },
      "execution_count": null,
      "outputs": []
    },
    {
      "cell_type": "markdown",
      "source": [
        "### GPU_CUPY"
      ],
      "metadata": {
        "id": "JhOhWaDnCaNa"
      }
    },
    {
      "cell_type": "code",
      "source": [
        "import cupy\n",
        "\n",
        "@numba.jit\n",
        "def CSN_CUPY(W_, eps=0.01, seed=1, same_random=True):\n",
        "  \n",
        "  n = W_.shape[0]\n",
        "  PI = cupy.pi\n",
        "  \n",
        "  W = cupy.array(W_)\n",
        "\n",
        "  W = W / cupy.linalg.norm(W)\n",
        "\n",
        "  if same_random: ## only to check corectness\n",
        "    numpy.random.seed(seed)\n",
        "    theta = (2*PI)*numpy.random.rand(n)\n",
        "    theta = cupy.asarray(theta)\n",
        "  else:\n",
        "    cupy.random.seed(seed)\n",
        "    theta = (2*PI)*cupy.random.rand(n)\n",
        "\n",
        "  old = cupy.copy(theta)\n",
        "  sin_t = cupy.sin(theta)\n",
        "  cos_t = cupy.cos(theta)\n",
        "\n",
        "  A = cupy.dot(W, cos_t)\n",
        "  B = cupy.dot(W, sin_t)\n",
        "\n",
        "  #main loop\n",
        "  ok = True\n",
        "  rounds = 0\n",
        "  while ok:\n",
        "    ok = False\n",
        "    rounds += 1\n",
        "    nchanges = 0\n",
        "\n",
        "    if rounds > 1:\n",
        "      old = cupy.copy(theta)\n",
        "      sin_t = numpy.sin(theta)\n",
        "      cos_t = numpy.cos(theta)\n",
        "\n",
        "    #loop on angles\n",
        "    for i in range(n):\n",
        "      theta[i] = cupy.arctan(B[i]/A[i])    # within [-PI/2, PI/2]\n",
        "\n",
        "      if A[i] >= 0:\n",
        "        theta[i] += PI\n",
        "      elif B[i] > 0:\n",
        "        theta[i] += 2*PI\n",
        "\n",
        "      if min(abs(old[i]-theta[i]),abs(2*PI-old[i]+theta[i])) > eps:\n",
        "        ok = True\n",
        "        nchanges += 1\n",
        "\n",
        "      A += cupy.multiply(W[i,:], cupy.cos(theta[i]) - cos_t[i])\n",
        "      B += cupy.multiply(W[i,:], cupy.sin(theta[i]) - sin_t[i])\n",
        "\n",
        "  print(\"rounds=\"+str(rounds))\n",
        "\n",
        "  return cupy.asnumpy(theta)"
      ],
      "metadata": {
        "id": "lLhUHTskFGP4"
      },
      "execution_count": null,
      "outputs": []
    },
    {
      "cell_type": "markdown",
      "source": [
        "### GPU pyCuda"
      ],
      "metadata": {
        "id": "qa4x7WeZUM82"
      }
    },
    {
      "cell_type": "code",
      "source": [
        "from pycuda.compiler import SourceModule\n",
        "import pycuda.driver as cuda\n",
        "import pycuda.autoinit\n",
        "import numpy\n",
        "import math\n",
        "\n",
        "cuRand = \"\"\" \n",
        "#include <curand_kernel.h>\n",
        "\n",
        " extern \"C\" { \n",
        "  __global__ void initCurand(curandState* states, unsigned int n)\n",
        "  {\n",
        "      unsigned int tid = threadIdx.x + blockDim.x * blockIdx.x;\n",
        "      \n",
        "      if (tid < n)\n",
        "      {\n",
        "        curand_init(1234, tid, 0, &states[tid]);\n",
        "      }\n",
        "    }\n",
        "\n",
        "  __global__ void genVector(curandState* states, float *result, unsigned int n, float a)\n",
        "  {\n",
        "    unsigned int tid = threadIdx.x + blockIdx.x * blockDim.x;\n",
        "    \n",
        "    if (tid < n)\n",
        "    {\n",
        "      result[tid] = a * curand_uniform(&states[tid]);\n",
        "    }\n",
        "  }\n",
        "}\n",
        "\n",
        "\"\"\""
      ],
      "metadata": {
        "id": "YlhUDcrd_M8I"
      },
      "execution_count": null,
      "outputs": []
    },
    {
      "cell_type": "code",
      "source": [
        "import cupy\n",
        "from numba import cuda\n",
        "\n",
        "@numba.jit\n",
        "def CSN_GPU(W, eps=0.01, seed=0, same_random=False):\n",
        "  #w must be cupy ndarray\n",
        "  n = W.shape[0]\n",
        "  PI = cupy.pi\n",
        "  \n",
        "  W = W / cupy.linalg.norm(W)\n",
        "\n",
        "  if same_random:\n",
        "    numpy.random.seed(seed)\n",
        "    theta = (2*PI)*numpy.random.rand(n)\n",
        "    theta = cupy.asarray(theta)\n",
        "  else:\n",
        "    cupy.random.seed(seed)\n",
        "    theta = (2*PI)*cupy.random.rand(n)\n",
        "\n",
        "  sin_t = cupy.sin(theta)\n",
        "  cos_t = cupy.cos(theta)\n",
        "  A = cupy.dot(W, cos_t)\n",
        "  B = cupy.dot(W, sin_t)\n",
        "\n",
        "  TxB = 32                        # number of threads in a block\n",
        "  BxG = (n + (TxB - 1)) // TxB    # number of thread blocks in the grid\n",
        "\n",
        "  ok = True\n",
        "  rounds = 0\n",
        "  while ok:\n",
        "    ok = False\n",
        "    rounds += 1\n",
        "    nchanges = 0\n",
        "    for i in range(n):\n",
        "      theta, A, B, ok, nchanges = loop_func_GPU(i, theta, A, B, W, ok, nchanges, eps, PI, n, TxB, BxG)\n",
        " \n",
        "  return theta\n",
        "\n",
        "@numba.jit\n",
        "def loop_func_GPU(i, theta, A, B, W, ok, nchanges, eps, PI, n, TxB, BxG):\n",
        "  old = theta[i]\n",
        "\n",
        "  theta[i] = cupy.arctan(B[i]/A[i])    # within [-PI/2, PI/2]\n",
        "  if A[i] >= 0:\n",
        "    theta[i] += PI\n",
        "  elif B[i] > 0:\n",
        "    theta[i] += 2*PI\n",
        "\n",
        "  # update Ak & Bk using GPU\n",
        "  dc = cupy.cos(theta[i]) - cupy.cos(old)\n",
        "  ds = cupy.sin(theta[i]) - cupy.sin(old)\n",
        "  ##init shared mem\n",
        "  sm_size = TxB * theta.dtype.itemsize\n",
        "  #func[BxG, TxB, stream, sm_byte_size](A, B, W, dc, ds, i)\n",
        "  dot_CSN_GPU[BxG, TxB, 0, sm_size](A, W, n, dc.astype('float32'), BxG)  # start the kernel\n",
        "  dot_CSN_GPU[BxG, TxB, 0, sm_size](B, W, n, ds.astype('float32'), BxG)  # start the kernel\n",
        "\n",
        "  if min(abs(old-theta[i]),abs(2*PI-old+theta[i])) > eps:\n",
        "    ok = True\n",
        "    nchanges += 1\n",
        "  \n",
        "  return theta, A, B, ok, nchanges\n",
        "\n",
        "@cuda.jit()\n",
        "def dot_CSN_GPU(A, W, n, d):\n",
        "  tx = cuda.threadIdx.x  # Thread id in a 1D block\n",
        "  bw = cuda.blockDim.x   # Block width\n",
        "\n",
        "  # shared memory\n",
        "  sW = cuda.shared.array(shape=0, dtype=cupy.float32)\n",
        "\n",
        "  # index inside the array\n",
        "  pos = cuda.grid(1)\n",
        "  if pos >= n:\n",
        "    return\n",
        "\n",
        "  gw = cuda.gridDim.x     # num blocks per grid\n",
        "\n",
        "  # The dot product is chunked into dot products of TPB-long vectors.\n",
        "  res = 0.\n",
        "  for i in range(gw):\n",
        "    # Preload data into shared memory\n",
        "    sW[tx] = W[tx + i * bw, :]\n",
        "    # Wait until all threads finish preloading\n",
        "    cuda.syncthreads()\n",
        "    # Computes partial product on the shared memory\n",
        "    for j in range(bw):\n",
        "        res += A[tx] * d\n",
        "    # Wait until all threads finish computing\n",
        "    cuda.syncthreads()\n",
        "  return res"
      ],
      "metadata": {
        "id": "U9YLrYodUJ7U"
      },
      "execution_count": null,
      "outputs": []
    },
    {
      "cell_type": "code",
      "source": [
        "#X, l, W, n = rand_blobs(5, d=28*28, k=5, std=5, standard=False, display=False)\n",
        "#W = pairwise_distances(X,X, metric='cosine')\n",
        "#W_CUPY = cupy.array(W)\n",
        "#CSN_GPU(W_CUPY)"
      ],
      "metadata": {
        "id": "dnH79cXAiRez"
      },
      "execution_count": null,
      "outputs": []
    },
    {
      "cell_type": "markdown",
      "source": [
        "# ⚠️ TESTS"
      ],
      "metadata": {
        "id": "VQe0Iq55YUGp"
      }
    },
    {
      "cell_type": "markdown",
      "source": [
        "## 🏎 Speed Tests"
      ],
      "metadata": {
        "id": "XoT2SfGHh3sS"
      }
    },
    {
      "cell_type": "markdown",
      "source": [
        "### Between Whole Functions"
      ],
      "metadata": {
        "id": "MyctdrX5EVDg"
      }
    },
    {
      "cell_type": "code",
      "source": [
        "@numba.jit\n",
        "def avg_time_of(f, w, name, r=10):\n",
        "\n",
        "  t = 0\n",
        "  for i in range(0, int(r-1)):\n",
        "    tic()\n",
        "    f(w)\n",
        "    t += toc(False)\n",
        "  \n",
        "  tic()\n",
        "  theta = f(w)\n",
        "  t += toc(False)\n",
        "\n",
        "  print( \"Average time of %s: \\t\\t %f seconds.\\n\" %(name, (t/r)) )\n",
        "  \n",
        "  return theta"
      ],
      "metadata": {
        "id": "-QG3Zfhxwiyf"
      },
      "execution_count": null,
      "outputs": []
    },
    {
      "cell_type": "markdown",
      "source": [
        "Warm up befor real tests"
      ],
      "metadata": {
        "id": "7qYH9moA-Ry2"
      }
    },
    {
      "cell_type": "code",
      "source": [
        "%%capture\n",
        "X, l, W, n = rand_blobs(5, d=28*28, k=5, std=5, standard=False, display=False)\n",
        "W = pairwise_distances(X,X, metric='cosine')\n",
        "trial = 1\n",
        "\n",
        "avg_time_of(CSN_LEGACY, W, \"CSN Legacy\", trial)\n",
        "avg_time_of(CSN_CPU, W, \"CSN CPU\", trial)\n",
        "avg_time_of(CSN_CPU_2, W, \"CSN CPU 2\", trial)\n",
        "#avg_time_of(CSN_CUPY, W, \"CSN CUPY\", trial) # too slo\n",
        "\n",
        "#W = None\n",
        "#W_CUPY = None"
      ],
      "metadata": {
        "id": "Lm9hXjWv-QE1"
      },
      "execution_count": null,
      "outputs": []
    },
    {
      "cell_type": "markdown",
      "source": [
        "Real tests"
      ],
      "metadata": {
        "id": "Sd0DMBL2_8hI"
      }
    },
    {
      "cell_type": "code",
      "source": [
        "X, l, W, n = rand_blobs(10000, d=28*28, k=5, std=5, standard=False, display=False)\n",
        "W = pairwise_distances(X,X, metric='cosine')\n",
        "trial = 3\n",
        "\n",
        "avg_time_of(CSN_LEGACY, W, \"CSN Legacy\", trial)\n",
        "avg_time_of(CSN_CPU, W, \"CSN CPU\", trial)\n",
        "avg_time_of(CSN_CPU_2, W, \"CSN CPU 2\", trial)\n",
        "#avg_time_of(CSN_CUPY, W, \"CSN CUPY\", trial) # too slow\n",
        "\n",
        "print(\"\")"
      ],
      "metadata": {
        "id": "lNprhLdHh8XN"
      },
      "execution_count": null,
      "outputs": []
    },
    {
      "cell_type": "markdown",
      "source": [
        "RESULTS on Tesla T4\n",
        "\n",
        "rounds=21\n",
        "Average time of CSN Legacy: \t\t 8.325038 seconds.\n",
        "\n",
        "rounds=21\n",
        "Average time of CSN CPU: \t\t 6.899417 seconds.\n",
        "\n",
        "rounds=21\n",
        "Average time of CSN CPU 2: \t\t 6.752142 seconds.\n",
        "\n",
        "rounds=21\n",
        "Average time of CSN CUPY: \t\t 109.777244 seconds.\n",
        "\n",
        "rounds=21\n",
        "Average time of CSN CUPY 2: \t\t 112.692553 seconds.\n",
        "\n",
        "\n",
        "\n",
        "\n",
        "\n",
        "\n",
        "\n",
        "\n",
        "\n",
        "\n",
        "\n"
      ],
      "metadata": {
        "id": "LQAd6u63Aor8"
      }
    },
    {
      "cell_type": "markdown",
      "source": [
        "### Between single fuctions"
      ],
      "metadata": {
        "id": "pCafxg9iEe-a"
      }
    },
    {
      "cell_type": "markdown",
      "source": [
        "#### cuRand - numpy"
      ],
      "metadata": {
        "id": "HjZ-DWEOYcJj"
      }
    },
    {
      "cell_type": "code",
      "source": [
        "%%writefile cuRand_test.py\n",
        "\n",
        "import numpy\n",
        "import pycuda.driver as cuda\n",
        "import pycuda.autoinit\n",
        "from pycuda.compiler import SourceModule\n",
        "import math\n",
        "\n",
        "cuRand = \"\"\" \n",
        "#include <curand_kernel.h>\n",
        "\n",
        " extern \"C\" { \n",
        "  __global__ void initCurand(curandState* states, unsigned int n)\n",
        "  {\n",
        "      unsigned int tid = threadIdx.x + blockDim.x * blockIdx.x;\n",
        "      \n",
        "      if (tid < n)\n",
        "      {\n",
        "        curand_init(1234, tid, 0, &states[tid]);\n",
        "      }\n",
        "    }\n",
        "\n",
        "  __global__ void genVector(curandState* states, float *result, unsigned int n, float a)\n",
        "  {\n",
        "    unsigned int tid = threadIdx.x + blockIdx.x * blockDim.x;\n",
        "    \n",
        "    if (tid < n)\n",
        "    {\n",
        "      result[tid] = a * curand_uniform(&states[tid]);\n",
        "    }\n",
        "  }\n",
        "}\n",
        "\n",
        "\"\"\"\n",
        "\n",
        "def loadKernels():\n",
        "  mod = SourceModule(cuRand, keep=False, no_extern_c=True)\n",
        "  init_curand = mod.get_function(\"initCurand\")\n",
        "  gen_vector = mod.get_function(\"genVector\")\n",
        "  return init_curand, gen_vector\n",
        "\n",
        "def init(n, h_n, grid, block):\n",
        "  # Curand States generation\n",
        "  states = cuda.mem_alloc(n * pycuda.characterize.sizeof('curandStateXORWOW', '#include <curand_kernel.h>'))\n",
        "  init_curand(states, h_n, grid=grid, block=block)\n",
        "  return states\n",
        "\n",
        "def generate_vector(states, n, h_n, h_pi2, grid, block):\n",
        "  # Curand vector generation\n",
        "  h_theta = numpy.zeros(n, dtype=numpy.float32)\n",
        "  d_theta = cuda.mem_alloc(h_theta.nbytes)\n",
        "  gen_vector(states, d_theta, h_n, h_pi2, grid=grid, block=block)\n",
        "\n",
        "  # get result\n",
        "  cuda.memcpy_dtoh(h_theta, d_theta)\n",
        "\n",
        "  return h_theta\n",
        "\n",
        "init_curand, gen_vector = loadKernels()\n",
        "\n",
        "#vector size\n",
        "n = 1000000\n",
        "#threads per block\n",
        "threadsperblock = 128\n",
        "pi2 = numpy.pi*2\n",
        "\n",
        "#host costant\n",
        "h_n = numpy.uint32(n)\n",
        "h_pi2 = numpy.float32(pi2)\n",
        "\n",
        "#grid size definition\n",
        "grid = (math.floor((n + threadsperblock - 1) / threadsperblock), 1, 1)\n",
        "block = (threadsperblock,1,1)\n",
        "\n",
        "states = init(n, h_n, grid, block)\n",
        "generate_vector(states, n, h_n, h_pi2, grid, block)"
      ],
      "metadata": {
        "id": "9KS1n28nyyU5"
      },
      "execution_count": null,
      "outputs": []
    },
    {
      "cell_type": "code",
      "source": [
        "!rm cuRand_test.nvvp\n",
        "!nvprof -s -o cuRand_test.nvvp python cuRand_test.py"
      ],
      "metadata": {
        "id": "FGNk0UpOf4Ex"
      },
      "execution_count": null,
      "outputs": []
    },
    {
      "cell_type": "code",
      "source": [
        "#### REMOVE FROM PREVIUS CELL <<%%writefile ...>> AND ADD THIS CELL AT THE BOTTOM\n",
        "#### TO TEST CURAND AND NUMPY\n",
        "\n",
        "print(\"curand\")\n",
        "tic()\n",
        "theta_gpu = generate_vector(n, h_n, h_pi2, grid, block)\n",
        "toc()\n",
        "\n",
        "print(\"numpy.random.rand\")\n",
        "tic()\n",
        "numpy.random.seed(0)\n",
        "theta_cpu = numpy.pi*2*numpy.random.rand(n)\n",
        "toc()\n",
        "\n",
        "#print(\"theta gpu shape\"+str(theta_gpu.shape))\n",
        "#print(\"theta cpu shape\"+str(theta_cpu.shape))"
      ],
      "metadata": {
        "id": "Rn6DyoAyezHt"
      },
      "execution_count": null,
      "outputs": []
    },
    {
      "cell_type": "markdown",
      "source": [
        "#### numpy - cupy"
      ],
      "metadata": {
        "id": "sHYtG-_t4P6o"
      }
    },
    {
      "cell_type": "code",
      "source": [
        "def np(n):\n",
        "  W = numpy.random.rand(n, n)\n",
        "  PI = numpy.pi\n",
        "\n",
        "  W = W / numpy.linalg.norm(W)\n",
        "\n",
        "  numpy.random.seed(0)\n",
        "  theta = 2*PI*numpy.random.rand(n)\n",
        "\n",
        "  sin_t = numpy.sin(theta)\n",
        "  cos_t = numpy.cos(theta)\n",
        "  A = numpy.dot(W, cos_t)\n",
        "  B = numpy.dot(W, sin_t)\n",
        "\n",
        "def cp(n):\n",
        "  W_ = numpy.random.rand(n, n)\n",
        "  W = cupy.array(W_)\n",
        "  PI = cupy.pi\n",
        "\n",
        "  W = W / cupy.linalg.norm(W)\n",
        "\n",
        "  cupy.random.seed(0)\n",
        "  theta = 2*PI*cupy.random.rand(n)\n",
        "\n",
        "  old = cupy.copy(theta)\n",
        "  sin_t = cupy.sin(theta)\n",
        "  cos_t = cupy.cos(theta)\n",
        "  A = cupy.dot(W, cos_t)\n",
        "  B = cupy.dot(W, sin_t)\n",
        "\n",
        "  return cupy.asnumpy(theta)"
      ],
      "metadata": {
        "id": "DXM0ZuUK6JXw"
      },
      "execution_count": null,
      "outputs": []
    },
    {
      "cell_type": "code",
      "source": [
        "import numpy\n",
        "import cupy\n",
        "\n",
        "n = 20\n",
        "\n",
        "np(n)\n",
        "cp(n)\n",
        "\n",
        "k=1000\n",
        "n = 10*k # 10k\n",
        "\n",
        "tic()\n",
        "np(n)\n",
        "t0 = toc()\n",
        "\n",
        "tic()\n",
        "cp(n)\n",
        "t1 = toc()\n",
        "print(\"numpy speed-up \"+str(t0/t1))"
      ],
      "metadata": {
        "id": "ZYf6ZcBE4VFC"
      },
      "execution_count": null,
      "outputs": []
    },
    {
      "cell_type": "code",
      "source": [
        "!rm test.nvvp\n",
        "!nvprof -s -o test.nvvp python test.py"
      ],
      "metadata": {
        "id": "qqiksaB8eSae"
      },
      "execution_count": null,
      "outputs": []
    },
    {
      "cell_type": "markdown",
      "source": [
        "## ✔ Correctness Tests"
      ],
      "metadata": {
        "id": "pCOJzNVcE5al"
      }
    },
    {
      "cell_type": "code",
      "source": [
        "X, l, W, n = rand_blobs(100, d=28*28, k=5, std=5, standard=False, display=False)\n",
        "W = pairwise_distances(X,X, metric='cosine')"
      ],
      "metadata": {
        "id": "jKc7rUTuFIdE"
      },
      "execution_count": null,
      "outputs": []
    },
    {
      "cell_type": "code",
      "source": [
        "#%%capture\n",
        "eps = 0.00001\n",
        "\n",
        "t0 = CSN_LEGACY(W)\n",
        "t1 = CSN_CPU(W)\n",
        "t2 = CSN_CPU_2(W)\n",
        "t3 = CSN_CUPY(W_CUPY)\n"
      ],
      "metadata": {
        "id": "PAEUE-iGFT3L"
      },
      "execution_count": null,
      "outputs": []
    },
    {
      "cell_type": "code",
      "source": [
        "print(\" CSN_CPU is %s\" % numpy.allclose(t0, t1, atol=eps))\n",
        "print(\" CSN_CPU_2 is %s\" % numpy.allclose(t0, t2, atol=eps))\n",
        "print(\" CSN_CPU_CUPY is %s\" % numpy.allclose(t0, t3, atol=eps))"
      ],
      "metadata": {
        "id": "HFcWMe80V6QT"
      },
      "execution_count": null,
      "outputs": []
    },
    {
      "cell_type": "markdown",
      "source": [
        "# 🏞 SHOW RESULT"
      ],
      "metadata": {
        "id": "VpLoo15PrK66"
      }
    },
    {
      "cell_type": "code",
      "source": [
        "X, l, W, n = rand_blobs(10, d=28*28, k=5, std=5, standard=False)\n",
        "W = pairwise_distances(X,X, metric='cosine')"
      ],
      "metadata": {
        "id": "jJ99xpeQmTa1"
      },
      "execution_count": null,
      "outputs": []
    },
    {
      "cell_type": "code",
      "source": [
        "theta = CSN_CPU(W)"
      ],
      "metadata": {
        "id": "0PDM_wZJhpZ6"
      },
      "execution_count": null,
      "outputs": []
    },
    {
      "cell_type": "code",
      "source": [
        "hist, bins = histogram(theta, nbins=256)\n",
        "plot_circle(theta,l)\n",
        "plot_hist(hist, bins, mode=0)"
      ],
      "metadata": {
        "id": "zRIjWe7AxWZ1"
      },
      "execution_count": null,
      "outputs": []
    }
  ]
}