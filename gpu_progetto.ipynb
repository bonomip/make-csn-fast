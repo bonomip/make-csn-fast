{
  "nbformat": 4,
  "nbformat_minor": 0,
  "metadata": {
    "colab": {
      "name": "gpu_progetto.ipynb",
      "private_outputs": true,
      "provenance": [],
      "collapsed_sections": [
        "fZYqN0UwVLC_",
        "WoJbB3T5Vkw-",
        "_cGSqZovVkxK",
        "cReFlD-VRfZe",
        "EekCnoMemnZx",
        "Lk5Ub7-4jEAI",
        "DxTsQDwtCO_F",
        "pCafxg9iEe-a",
        "HjZ-DWEOYcJj",
        "sHYtG-_t4P6o",
        "VpLoo15PrK66"
      ],
      "include_colab_link": true
    },
    "kernelspec": {
      "name": "python3",
      "display_name": "Python 3"
    },
    "accelerator": "GPU",
    "gpuClass": "standard"
  },
  "cells": [
    {
      "cell_type": "markdown",
      "metadata": {
        "id": "view-in-github",
        "colab_type": "text"
      },
      "source": [
        "<a href=\"https://colab.research.google.com/github/bonomip/GPU/blob/master/gpu_progetto.ipynb\" target=\"_parent\"><img src=\"https://colab.research.google.com/assets/colab-badge.svg\" alt=\"Open In Colab\"/></a>"
      ]
    },
    {
      "cell_type": "markdown",
      "source": [
        "---\n",
        "# PROGETTO CLUSTER\n",
        "---"
      ],
      "metadata": {
        "id": "fZYqN0UwVLC_"
      }
    },
    {
      "cell_type": "markdown",
      "metadata": {
        "id": "WoJbB3T5Vkw-"
      },
      "source": [
        "# 🎬 CUDA setup"
      ]
    },
    {
      "cell_type": "code",
      "metadata": {
        "id": "Fht2Wy8wVkxJ"
      },
      "source": [
        "!nvcc --version"
      ],
      "execution_count": null,
      "outputs": []
    },
    {
      "cell_type": "code",
      "metadata": {
        "id": "0jP2H_YJVkxJ"
      },
      "source": [
        "!nvidia-smi"
      ],
      "execution_count": null,
      "outputs": []
    },
    {
      "cell_type": "markdown",
      "source": [
        "INSTALL AND COMPILE BLAS"
      ],
      "metadata": {
        "id": "mYsUQp_TRQN0"
      }
    },
    {
      "cell_type": "code",
      "source": [
        "!git clone https://github.com/xianyi/OpenBLAS.git\n",
        "%cd OpenBLAS\n",
        "!make\n",
        "!make install PREFIX=~/blas\n",
        "%cd .."
      ],
      "metadata": {
        "id": "4Bls3JqZRPSq"
      },
      "execution_count": null,
      "outputs": []
    },
    {
      "cell_type": "markdown",
      "source": [
        "PYCUDA"
      ],
      "metadata": {
        "id": "KU6zUSxqUDuI"
      }
    },
    {
      "cell_type": "code",
      "source": [
        "#!pip install pycuda"
      ],
      "metadata": {
        "id": "M-XcPIXiUDXK"
      },
      "execution_count": null,
      "outputs": []
    },
    {
      "cell_type": "markdown",
      "source": [
        "## [GPU Compute Capability](https://developer.nvidia.com/cuda-gpus)"
      ],
      "metadata": {
        "id": "VKbaxH9wWosO"
      }
    },
    {
      "cell_type": "markdown",
      "metadata": {
        "id": "_cGSqZovVkxK"
      },
      "source": [
        "## NVCC Plugin for Jupyter notebook\n",
        "\n",
        "*Usage*:\n",
        "\n",
        "\n",
        "*   Load Extension `%load_ext nvcc_plugin`\n",
        "*   Mark a cell to be treated as cuda cell\n",
        "`%%cuda --name example.cu --compile false`\n",
        "\n",
        "**NOTE**: The cell must contain either code or comments to be run successfully. It accepts 2 arguments. `-n | --name` - which is the name of either CUDA source or Header. The name parameter must have extension `.cu` or `.h`. Second argument -c | --compile; default value is false. The argument is a flag to specify if the cell will be compiled and run right away or not. It might be usefull if you're playing in the main function\n",
        "\n",
        "*  We are ready to run CUDA C/C++ code right in your Notebook. For this we need explicitly say to the interpreter, that we want to use the extension by adding `%%cu` at the beginning of each cell with CUDA code. \n",
        "\n",
        "\n"
      ]
    },
    {
      "cell_type": "code",
      "metadata": {
        "id": "RCVhMkqYVkxK"
      },
      "source": [
        "!pip install git+https://github.com/andreinechaev/nvcc4jupyter.git"
      ],
      "execution_count": null,
      "outputs": []
    },
    {
      "cell_type": "code",
      "metadata": {
        "id": "e6PDOytTVkxK"
      },
      "source": [
        "%load_ext nvcc_plugin"
      ],
      "execution_count": null,
      "outputs": []
    },
    {
      "cell_type": "code",
      "source": [
        "#%pip install --target=$nb_path pycuda"
      ],
      "metadata": {
        "id": "WFlCquMbAjxi"
      },
      "execution_count": null,
      "outputs": []
    },
    {
      "cell_type": "code",
      "source": [
        "!mkdir -p src"
      ],
      "metadata": {
        "id": "niSfHiMqKEmW"
      },
      "execution_count": null,
      "outputs": []
    },
    {
      "cell_type": "code",
      "source": [
        "#@title Bash setup\n",
        "%%writefile /root/.bashrc\n",
        "\n",
        "# If not running interactively, don't do anything\n",
        "[ -z \"$PS1\" ] && return\n",
        "\n",
        "# don't put duplicate lines in the history. See bash(1) for more options\n",
        "# ... or force ignoredups and ignorespace\n",
        "HISTCONTROL=ignoredups:ignorespace\n",
        "\n",
        "# append to the history file, don't overwrite it\n",
        "shopt -s histappend\n",
        "\n",
        "# for setting history length see HISTSIZE and HISTFILESIZE in bash(1)\n",
        "HISTSIZE=10000\n",
        "HISTFILESIZE=20000\n",
        "\n",
        "# check the window size after each command and, if necessary,\n",
        "# update the values of LINES and COLUMNS.\n",
        "shopt -s checkwinsize\n",
        "\n",
        "# make less more friendly for non-text input files, see lesspipe(1)\n",
        "[ -x /usr/bin/lesspipe ] && eval \"$(SHELL=/bin/sh lesspipe)\"\n",
        "\n",
        "PS1='\\[\\033[01;34m\\]\\w\\[\\033[00m\\]\\$ '\n",
        "\n",
        "# enable color support of ls and also add handy aliases\n",
        "if [ -x /usr/bin/dircolors ]; then\n",
        "    test -r ~/.dircolors && eval \"$(dircolors -b ~/.dircolors)\" || eval \"$(dircolors -b)\"\n",
        "    alias ls='ls --color=auto'\n",
        "    #alias dir='dir --color=auto'\n",
        "    #alias vdir='vdir --color=auto'\n",
        "\n",
        "    alias grep='grep --color=auto'\n",
        "    alias fgrep='fgrep --color=auto'\n",
        "    alias egrep='egrep --color=auto'\n",
        "fi\n",
        "\n",
        "# some more ls aliases\n",
        "alias ll='ls -lF'\n",
        "alias la='ls -A'\n",
        "alias l='ls -CF'\n",
        "\n",
        "# path setup\n",
        "export PATH=\"./:/usr/local/cuda/bin:$PATH\""
      ],
      "metadata": {
        "id": "-t2fL8_jTfb_"
      },
      "execution_count": null,
      "outputs": []
    },
    {
      "cell_type": "markdown",
      "source": [
        "## 📦 Packages"
      ],
      "metadata": {
        "id": "EekCnoMemnZx"
      }
    },
    {
      "cell_type": "markdown",
      "source": [
        "C pkgs"
      ],
      "metadata": {
        "id": "7tesb4R7KhaG"
      }
    },
    {
      "cell_type": "code",
      "source": [
        "%%writefile src/common.h\n",
        "\n",
        "#include <sys/time.h>\n",
        "#include <stdio.h>\n",
        "\n",
        "#ifndef _COMMON_H\n",
        "#define _COMMON_H\n",
        "\n",
        "#define CHECK(call)                                                            \\\n",
        "{                                                                              \\\n",
        "    const cudaError_t error = call;                                            \\\n",
        "    if (error != cudaSuccess)                                                  \\\n",
        "    {                                                                          \\\n",
        "        fprintf(stderr, \"Error: %s:%d, \", __FILE__, __LINE__);                 \\\n",
        "        fprintf(stderr, \"code: %d, reason: %s\\n\", error,                       \\\n",
        "                cudaGetErrorString(error));                                    \\\n",
        "    }                                                                          \\\n",
        "}\n",
        "\n",
        "#define CHECK_CUBLAS(call)                                                     \\\n",
        "{                                                                              \\\n",
        "    cublasStatus_t err;                                                        \\\n",
        "    if ((err = (call)) != CUBLAS_STATUS_SUCCESS)                               \\\n",
        "    {                                                                          \\\n",
        "        fprintf(stderr, \"Got CUBLAS error %d at %s:%d\\n\", err, __FILE__,       \\\n",
        "                __LINE__);                                                     \\\n",
        "        exit(1);                                                               \\\n",
        "    }                                                                          \\\n",
        "}\n",
        "\n",
        "#define CHECK_CURAND(call)                                                     \\\n",
        "{                                                                              \\\n",
        "    curandStatus_t err;                                                        \\\n",
        "    if ((err = (call)) != CURAND_STATUS_SUCCESS)                               \\\n",
        "    {                                                                          \\\n",
        "        fprintf(stderr, \"Got CURAND error %d at %s:%d\\n\", err, __FILE__,       \\\n",
        "                __LINE__);                                                     \\\n",
        "        exit(1);                                                               \\\n",
        "    }                                                                          \\\n",
        "}\n",
        "\n",
        "#define CHECK_CUFFT(call)                                                      \\\n",
        "{                                                                              \\\n",
        "    cufftResult err;                                                           \\\n",
        "    if ( (err = (call)) != CUFFT_SUCCESS)                                      \\\n",
        "    {                                                                          \\\n",
        "        fprintf(stderr, \"Got CUFFT error %d at %s:%d\\n\", err, __FILE__,        \\\n",
        "                __LINE__);                                                     \\\n",
        "        exit(1);                                                               \\\n",
        "    }                                                                          \\\n",
        "}\n",
        "\n",
        "#define CHECK_CUSPARSE(call)                                                   \\\n",
        "{                                                                              \\\n",
        "    cusparseStatus_t err;                                                      \\\n",
        "    if ((err = (call)) != CUSPARSE_STATUS_SUCCESS)                             \\\n",
        "    {                                                                          \\\n",
        "        fprintf(stderr, \"Got error %d at %s:%d\\n\", err, __FILE__, __LINE__);   \\\n",
        "        cudaError_t cuda_err = cudaGetLastError();                             \\\n",
        "        if (cuda_err != cudaSuccess)                                           \\\n",
        "        {                                                                      \\\n",
        "            fprintf(stderr, \"  CUDA error \\\"%s\\\" also detected\\n\",             \\\n",
        "                    cudaGetErrorString(cuda_err));                             \\\n",
        "        }                                                                      \\\n",
        "        exit(1);                                                               \\\n",
        "    }                                                                          \\\n",
        "}\n",
        "\n",
        "cudaEvent_t start, stop;\n",
        "\n",
        "inline void tic(){\n",
        "  cudaEventCreate(&start);\n",
        "\tcudaEventCreate(&stop);\n",
        "  CHECK(cudaEventRecord(start));\n",
        "}\n",
        "\n",
        "inline void toc(){\n",
        "  CHECK(cudaEventRecord(stop));\n",
        "  CHECK(cudaEventSynchronize(stop));\n",
        "  \n",
        "  float milliseconds;\n",
        "  CHECK(cudaEventElapsedTime(&milliseconds, start, stop));\n",
        "  printf(\"    elapsed time: %.5f (sec)\\n\", milliseconds / 1000.0);\n",
        "}\n",
        "\n",
        "inline double seconds() {\n",
        "    struct timeval tp;\n",
        "    struct timezone tzp;\n",
        "    int i = gettimeofday(&tp, &tzp);\n",
        "    return ((double)tp.tv_sec + (double)tp.tv_usec * 1.e-6);\n",
        "}\n",
        "\n",
        "inline void device_name() {\n",
        "    // set up device\n",
        "    int dev = 0;\n",
        "    cudaDeviceProp deviceProp;\n",
        "    CHECK(cudaGetDeviceProperties(&deviceProp, dev));\n",
        "    printf(\"device %d: %s\\n\", dev, deviceProp.name);\n",
        "    CHECK(cudaSetDevice(dev));\n",
        "}\n",
        "\n",
        "typedef unsigned long ulong;\n",
        "typedef unsigned int uint;\n",
        "\n",
        "#endif // _COMMON_H"
      ],
      "metadata": {
        "id": "x9bynJCXKkqU"
      },
      "execution_count": null,
      "outputs": []
    },
    {
      "cell_type": "code",
      "source": [
        "from sklearn.metrics.pairwise import euclidean_distances\n",
        "from sklearn.preprocessing import StandardScaler\n",
        "from sklearn.metrics import pairwise_distances\n",
        "from sklearn.datasets import make_blobs\n",
        "from sklearn.decomposition import PCA\n",
        "import plotly.graph_objects as go\n",
        "import plotly.express as px\n",
        "import numpy\n",
        "import numba\n",
        "import time\n",
        "import os\n",
        "\n",
        "## ARGS\n",
        "# 0 = name of function\n",
        "# 1 .. n, positional arguments for function\n",
        "\n",
        "def dispatcher(f, args):\n",
        "  if len(args) == 1 :\n",
        "    return f();\n",
        "  if len(args) == 2 :\n",
        "    return f(args[1]);\n",
        "  if len(args) == 3 :\n",
        "    return f(args[1], args[2]);\n",
        "  if len(args) == 4 :\n",
        "    return f(args[1], args[2], args[3]);\n",
        "  if len(args) == 5 :\n",
        "    return f(args[1], args[2], args[3], args[4]);\n",
        "\n",
        "def avg_time_of(f, args, r=3):\n",
        "\n",
        "  t = 0\n",
        "  for i in range(0, int(r-1)):\n",
        "    tic()\n",
        "    dispatcher(f, args)\n",
        "    t += toc(False)\n",
        "  \n",
        "  tic()\n",
        "  theta = dispatcher(f, args)\n",
        "  t += toc(False)\n",
        "\n",
        "  print( \"Average time of %s: \\t\\t %f seconds.\\n\" %(args[0], (t/r)) )\n",
        "  \n",
        "  return theta\n",
        "\n",
        "\n",
        "def get_chunks_of_size_until_empty(size, n):\n",
        "  #function that return n as an array of chunks\n",
        "  n_chunks = math.ceil(n/size)\n",
        "\n",
        "  chunks = [0] * (n_chunks)\n",
        "\n",
        "  for i in range(0, n_chunks-1):\n",
        "      chunks[i] = size\n",
        "\n",
        "  if(n_chunks == n/size):\n",
        "      chunks[n_chunks-1] = size\n",
        "  else:\n",
        "      chunks[n_chunks-1] = int(n-numpy.sum(chunks))\n",
        "\n",
        "  return chunks\n",
        "\n",
        "def TicTocGenerator():\n",
        "  # Generator that returns time differences\n",
        "  ti = 0           # initial time\n",
        "  tf = time.time() # final time\n",
        "  while True:\n",
        "    ti = tf\n",
        "    tf = time.time()\n",
        "    yield tf-ti # returns the time difference\n",
        "\n",
        "TicToc = TicTocGenerator() \n",
        "\n",
        "def toc(tempBool=True):\n",
        "  # Prints the time difference yielded by generator instance TicToc\n",
        "  tempTimeInterval = next(TicToc)\n",
        "  if tempBool:\n",
        "    print( \"Elapsed time: %f seconds.\" %tempTimeInterval )\n",
        "  return tempTimeInterval\n",
        "\n",
        "def tic():\n",
        "  # Records a time in TicToc, marks the beginning of a time interval\n",
        "  toc(False)\n",
        "\n",
        "# instance creation\n",
        "def rand_blobs(n, d, k=3, std=1, rstate=None, standard=True, display=True, threeD=False): \n",
        "  X, l = make_blobs(n_samples=n, centers=k, n_features=d, cluster_std=std, random_state=rstate)\n",
        "  if standard:\n",
        "    scaler = StandardScaler()\n",
        "    X = scaler.fit_transform(X)\n",
        "  W = euclidean_distances(X, X)\n",
        "\n",
        "  # plot\n",
        "  if display:\n",
        "    plot_blobs(X,l,threeD)\n",
        "  return X, l, W, n\n",
        "\n",
        "def histogram(theta, nbins=None, verb=True):\n",
        "  if nbins is None:\n",
        "    nbins = len(theta)\n",
        "  binsLIM = numpy.linspace(0,2*numpy.pi,nbins)\n",
        "  hist, bins = numpy.histogram(theta, binsLIM)\n",
        "\n",
        "  if verb:\n",
        "    print('Data size : %d' %len(theta))\n",
        "    print('Num bins  : %d' %nbins)\n",
        "\n",
        "  return hist, bins \n",
        "\n",
        "def plot_circle(theta, l=None, radius=500):\n",
        "  \"\"\"\n",
        "    Produce a plot with the locations of all poles and zeros\n",
        "  \"\"\"\n",
        "\n",
        "  x = numpy.cos(theta)\n",
        "  y = numpy.sin(theta)\n",
        "\n",
        "  fig = go.Figure()\n",
        "  fig.add_shape(type=\"circle\", xref=\"x\", yref=\"y\", x0=-1, y0=-1, x1=1, y1=1, line=dict(color=\"black\", width=1))\n",
        "  \n",
        "  if l is None:\n",
        "    fig.add_trace(go.Scatter(x=x, y=y,\n",
        "          mode='markers',\n",
        "          marker_symbol='circle',\n",
        "          marker_size=10))\n",
        "  else:\n",
        "    ul = numpy.unique(l)\n",
        "    cols = list(range(len(ul)))\n",
        "    for c,u in zip(cols,ul):\n",
        "      idx = numpy.where(u == l)\n",
        "      fig.add_trace(go.Scatter(x=x[idx], y=y[idx],\n",
        "          mode='markers',\n",
        "          marker_symbol='circle',\n",
        "          marker_color=cols[c], \n",
        "          marker_line_color=cols[c],\n",
        "          marker_line_width=0, \n",
        "          marker_size=10))\n",
        "  \n",
        "  M = 1.05\n",
        "  fig.update_xaxes(title='', range=[-M, M])\n",
        "  fig.update_yaxes(title='', range=[-M, M])\n",
        "  fig.update_layout(title='clusters', width=radius, height=radius)\n",
        "  fig.show()\n",
        "\n",
        "def plot_hist(hist, bins, mode=0, smooth_wlen=None):\n",
        "\n",
        "  if mode==0:\n",
        "    mode_line = 'lines'\n",
        "  elif mode == 1:\n",
        "    mode_line = 'markers'\n",
        "  else:\n",
        "    mode_line = 'lines+markers'\n",
        "  \n",
        "  if smooth_wlen is not None:\n",
        "    hist = smooth(hist, window_len=smooth_wlen, window='hanning')\n",
        "\n",
        "  figh = go.Figure(data=go.Scatter(x=bins, y=hist, mode=mode_line))\n",
        "  figh.show()\n",
        "\n",
        "def plot_blobs(X, labels=None, threeD=False, doPCA=True, sizex=1):\n",
        "\n",
        "  if threeD:\n",
        "    if PCA:\n",
        "      pca = PCA(n_components=3)\n",
        "      components = pca.fit_transform(X)\n",
        "    else:\n",
        "      components = X[:,0:3]  \n",
        "    if labels is None:\n",
        "      fig = px.scatter_3d(components, x=0, y=1, z=2, title='Blobs 3D',\n",
        "                          labels={'0': 'PC 1', '1': 'PC 2', '2': 'PC 3'})\n",
        "    else:\n",
        "      fig = px.scatter_3d(components, x=0, y=1, z=2, color=labels, title='Blobs 3D',\n",
        "                          labels={'0': 'PC 1', '1': 'PC 2', '2': 'PC 3'})\n",
        "  else:\n",
        "    if doPCA:\n",
        "      pca = PCA(n_components=2)\n",
        "      components = pca.fit_transform(X)\n",
        "    else:\n",
        "      components = X[:,0:2]  \n",
        "    if labels is None:\n",
        "      fig = px.scatter(components, x=0, y=1, title='Blobs 2D', labels={'0': 'PC 1', '1': 'PC 2'})\n",
        "    else:\n",
        "      fig = px.scatter(components, x=0, y=1, title='Blobs 2D', color=labels, labels={'0': 'PC 1', '1': 'PC 2'})\n",
        "  \n",
        "  fig.update_layout(\n",
        "    width = 800*sizex,\n",
        "    height = 800*sizex,\n",
        "    title = \"fixed-ratio axes\")\n",
        "  fig.update_yaxes(\n",
        "    scaleanchor = \"x\",\n",
        "    scaleratio = 1)\n",
        "  fig.show()\n",
        "\n",
        "\n",
        "def kmeans(X, k, niter=300, rstate=0, n_init=10):\n",
        "  kmeans = KMeans(n_clusters=k, n_init=n_init, max_iter=niter, random_state=rstate)\n",
        "  kmeans.fit(X)\n",
        "\n",
        "  return kmeans.labels_, kmeans.n_iter_, kmeans.inertia_ "
      ],
      "metadata": {
        "id": "Wup0k6_Xm_Su"
      },
      "execution_count": null,
      "outputs": []
    },
    {
      "cell_type": "markdown",
      "source": [
        "# 🪣 CSN Algorithms"
      ],
      "metadata": {
        "id": "EBR69K526Jeb"
      }
    },
    {
      "cell_type": "code",
      "source": [
        "ROUNDS = 32\n",
        "\n",
        "X, l, W_2, n = rand_blobs(10, d=28*28, k=5, std=5, standard=False, display=False)\n",
        "W_2 = pairwise_distances(X,X, metric='cosine')\n",
        "\n",
        "X, l, W, n = rand_blobs(10000, d=28*28, k=5, std=5, standard=False, display=False)\n",
        "W = pairwise_distances(X,X, metric='cosine')"
      ],
      "metadata": {
        "id": "zklAPu1rmpr1"
      },
      "execution_count": null,
      "outputs": []
    },
    {
      "cell_type": "markdown",
      "source": [
        "## CPU - Legacy"
      ],
      "metadata": {
        "id": "gCTzGb4dR4up"
      }
    },
    {
      "cell_type": "code",
      "source": [
        "@numba.jit\n",
        "def CSN_LEGACY(W, eps=0.01, theta0=None, normalize=True, seed=1):\n",
        "  \n",
        "  # general vars\n",
        "  PI = numpy.pi #numpy.pi\n",
        "  n = W.shape[0]\n",
        "\n",
        "  # param check\n",
        "  if normalize:\n",
        "    W = W / numpy.linalg.norm(W) #linear algebra norm\n",
        "  if theta0 is None: # if theta is not defined\n",
        "    numpy.random.seed(seed)\n",
        "    theta = 2*PI*numpy.random.rand(n)  # init. values in [0, 2*PI] # cudarandom\n",
        "  else:\n",
        "    theta = theta0\n",
        "\n",
        "  # preliminar computations \n",
        "  sin_t = numpy.sin(theta)\n",
        "  cos_t = numpy.cos(theta)\n",
        "  A = numpy.dot(W, cos_t)\n",
        "  B = numpy.dot(W, sin_t)\n",
        "\n",
        "  # main loop\n",
        "  ok = True\n",
        "  rounds = 0\n",
        "  global ROUNDS\n",
        "  while rounds < ROUNDS: #replace it with <<ok>>\n",
        "    ok = False\n",
        "    rounds += 1\n",
        "    nchanges = 0\n",
        "    # loop on angles\n",
        "    for i in range(n):\n",
        "      old = theta[i]\n",
        "\n",
        "      # change i-th theta\n",
        "      theta[i] = numpy.arctan(B[i]/A[i])    # within [-PI/2, PI/2]\n",
        "\n",
        "      if A[i] >= 0:\n",
        "        theta[i] += PI\n",
        "      elif B[i] > 0:\n",
        "        theta[i] += 2*PI\n",
        "\n",
        "      # update Ak & Bk by elementwise product and diff\n",
        "      A += numpy.multiply(W[i,:], numpy.repeat(numpy.cos(theta[i]) - numpy.cos(old), n))\n",
        "      B += numpy.multiply(W[i,:], numpy.repeat(numpy.sin(theta[i]) - numpy.sin(old), n)) \n",
        "\n",
        "      if min(abs(old-theta[i]),abs(2*PI-old+theta[i])) > eps:\n",
        "        ok = True\n",
        "        nchanges += 1\n",
        "\n",
        "  print(\"rounds=\"+str(rounds))\n",
        "\n",
        "  return theta"
      ],
      "metadata": {
        "id": "_LIsbM_EkCLm"
      },
      "execution_count": null,
      "outputs": []
    },
    {
      "cell_type": "code",
      "source": [
        "%%capture\n",
        "avg_time_of(CSN_LEGACY, [\"CSN Legacy\", W_2])"
      ],
      "metadata": {
        "id": "aeHKL_SqPgHu"
      },
      "execution_count": null,
      "outputs": []
    },
    {
      "cell_type": "code",
      "source": [
        "avg_time_of(CSN_LEGACY, [\"CSN Legacy\", W])"
      ],
      "metadata": {
        "id": "tSLzEm-HPho_"
      },
      "execution_count": null,
      "outputs": []
    },
    {
      "cell_type": "markdown",
      "source": [
        "## CPU - Optimized"
      ],
      "metadata": {
        "id": "QiXPVSaV60Vf"
      }
    },
    {
      "cell_type": "code",
      "source": [
        "import numpy\n",
        "\n",
        "@numba.jit\n",
        "def CSN_CPU(W, eps=0.01, seed=1):\n",
        "  n = W.shape[0]\n",
        "  PI = numpy.pi\n",
        "  \n",
        "  # W is reshaped in a vector using the column major order\n",
        "  # than the norm-2 (euclidean norm) is computed\n",
        "  # this is Frobenius norm\n",
        "  W = W / numpy.linalg.norm(W) # Frobenius_norm(W)\n",
        "  \n",
        "  numpy.random.seed(seed)\n",
        "  theta = 2*PI*numpy.random.rand(n)\n",
        "  \n",
        "  sin_t = numpy.sin(theta)\n",
        "  cos_t = numpy.cos(theta)\n",
        "  \n",
        "  A = numpy.dot(W, cos_t) # W @ cos_t\n",
        "  B = numpy.dot(W, sin_t) # W @ sin_t\n",
        "\n",
        "  ok = True\n",
        "  rounds = 0\n",
        "  global ROUNDS\n",
        "  while rounds < ROUNDS: #replace it with <<ok>>\n",
        "    ok = False\n",
        "    rounds += 1\n",
        "    nchanges = 0\n",
        "\n",
        "    # loop on angles\n",
        "    for i in range(n):\n",
        "      theta, A, B, ok, nchanges = loop_fun(i, theta, A, B, eps, W, n, nchanges, PI, ok)\n",
        "\n",
        "  print(\"rounds=\"+str(rounds))\n",
        "\n",
        "  return theta\n",
        "\n",
        "@numba.jit\n",
        "def loop_fun(i, theta, A, B, eps, W, n, nchanges, PI, ok):\n",
        "  old = theta[i]\n",
        "\n",
        "  # change i-th theta\n",
        "  theta[i] = numpy.arctan(B[i]/A[i])    # within [-PI/2, PI/2]\n",
        "  \n",
        "  if A[i] >= 0:\n",
        "    theta[i] += PI\n",
        "  elif B[i] > 0:\n",
        "    theta[i] += 2*PI\n",
        "\n",
        "  # update Ak & Bk by elementwise product and diff\n",
        "  A, B = updateAB(A, B, W, i, theta, old, n)\n",
        "\n",
        "  if min(abs(old-theta[i]),abs(2*PI-old+theta[i])) > eps:\n",
        "    ok = True\n",
        "    nchanges += 1\n",
        "\n",
        "  return theta, A, B, ok, nchanges\n",
        "\n",
        "@numba.jit\n",
        "def updateAB(A, B, W, i, theta, old, n):\n",
        "  # A += W[i,:] * numpy.cos(theta[i]) - numpy.cos(old)\n",
        "  A += numpy.multiply(W[i,:], numpy.cos(theta[i]) - numpy.cos(old))\n",
        "  B += numpy.multiply(W[i,:], numpy.sin(theta[i]) - numpy.sin(old)) \n",
        "  return A, B\n"
      ],
      "metadata": {
        "id": "3mw9jdWxhfpg"
      },
      "execution_count": null,
      "outputs": []
    },
    {
      "cell_type": "code",
      "source": [
        "%%capture\n",
        "avg_time_of(CSN_CPU, [\"CSN CPU\", W_2])"
      ],
      "metadata": {
        "id": "ycQ5_5ubN2Hc"
      },
      "execution_count": null,
      "outputs": []
    },
    {
      "cell_type": "code",
      "source": [
        "avg_time_of(CSN_CPU, [\"CSN CPU\", W])"
      ],
      "metadata": {
        "id": "qrPbtwP1QJXF"
      },
      "execution_count": null,
      "outputs": []
    },
    {
      "cell_type": "markdown",
      "source": [
        "## GPU - CUDA C V_1"
      ],
      "metadata": {
        "id": "O2wZsIex-jW1"
      }
    },
    {
      "cell_type": "code",
      "source": [
        "%%writefile src/const_v1.h\n",
        "\n",
        "#ifndef VARIABLES\n",
        "#define VARIABLES\n",
        "\n",
        "#define N 10000\n",
        "#define TOW_TIMES_PI 2*M_PI\n",
        "#define BLOCK_SIZE 128\n",
        "#define EPS 0.1\n",
        "#define ROUNDS 32\n",
        "\n",
        "#endif"
      ],
      "metadata": {
        "id": "SM9lRqnl-m2A"
      },
      "execution_count": null,
      "outputs": []
    },
    {
      "cell_type": "code",
      "source": [
        "%%writefile src/structs_v1.h\n",
        "\n",
        "#ifndef STRUCTS\n",
        "#define STRUCTS\n",
        "\n",
        "struct gtv { //gpu theta values\n",
        "    float *theta, *sin_theta, *cos_theta;\n",
        "};\n",
        "\n",
        "struct abv { //gpu A B values\n",
        "    float *A, *B;\n",
        "};\n",
        "\n",
        "#endif"
      ],
      "metadata": {
        "id": "SQ0b8TgJ-mxj"
      },
      "execution_count": null,
      "outputs": []
    },
    {
      "cell_type": "code",
      "source": [
        "%%writefile src/thetaModule_v1.cu\n",
        "\n",
        "#include <stdio.h>\n",
        "#include <stdlib.h>\n",
        "#include \"../src/common.h\"\n",
        "#include \"../src/structs_v1.h\"\n",
        "#include \"../src/const_v1.h\"\n",
        "#include <cuda.h>\n",
        "#include <curand.h>\n",
        "\n",
        "\n",
        "__global__ void Kernel_1(float *theta, float* cosTheta, float* sinTheta)\n",
        "{\n",
        "  unsigned int tid = threadIdx.x + blockIdx.x * blockDim.x;\n",
        "  \n",
        "  if (tid < N)\n",
        "  {\n",
        "    float x = TOW_TIMES_PI* theta[tid];\n",
        "    theta[tid] = x;\n",
        "    cosTheta[tid] = cos(x);\n",
        "    sinTheta[tid] = sin(x);\n",
        "  }\n",
        "}\n",
        "\n",
        "gtv theta_sin_cos()\n",
        "{\n",
        "  //# curand\n",
        "  curandGenerator_t gen;\n",
        "  \n",
        "  float *dTheta, *dSinTheta, *dCosTheta;\n",
        "\n",
        "  /* # CREATE RANDOM VECTOR # */\n",
        "\n",
        "  /* Allocate n floats on device */\n",
        "  CHECK(cudaMalloc((void **) & dTheta, N*sizeof ( float )));\n",
        "  \n",
        "  /* Create pseudo - random number generator */\n",
        "  CHECK_CURAND(curandCreateGenerator (&gen, CURAND_RNG_PSEUDO_DEFAULT));\n",
        "  \n",
        "  /* Set seed */\n",
        "  CHECK_CURAND(curandSetPseudoRandomGeneratorSeed(gen, 1234ULL));\n",
        "  \n",
        "  /* Generate N floats on device */\n",
        "  CHECK_CURAND(curandGenerateUniform (gen , dTheta, N));\n",
        "  \n",
        "  /* # CALL KERNEL 1 # */\n",
        "\n",
        "  /* Allocate n floats on device */\n",
        "  CHECK(cudaMalloc((void **) & dCosTheta, N*sizeof ( float )));\n",
        "  /* Allocate n floats on device */\n",
        "  CHECK(cudaMalloc((void **) & dSinTheta, N*sizeof ( float )));\n",
        "\n",
        "  dim3 block(BLOCK_SIZE, 1, 1);\n",
        "\tdim3 grid((N + block.x - 1) / block.x, 1, 1);\n",
        "\n",
        "  //printf(\"Strating Kernel 1 -- N: %d, GRID_SIZE: %d, BLOCK_SIZE: %d\\n\", N, grid.x, BLOCK_SIZE);\n",
        "  Kernel_1<<<block, grid>>>(dTheta, dCosTheta, dSinTheta);\n",
        "\n",
        "  struct gtv s;\n",
        "  s.theta = dTheta;\n",
        "  s.sin_theta = dSinTheta;\n",
        "  s.cos_theta = dCosTheta;\n",
        "\n",
        "  CHECK_CURAND(curandDestroyGenerator(gen));\n",
        "\n",
        "  return s;\n",
        "}"
      ],
      "metadata": {
        "id": "bJiVKHd0-mtj"
      },
      "execution_count": null,
      "outputs": []
    },
    {
      "cell_type": "code",
      "source": [
        "%%writefile src/matrixModule_v1.cu\n",
        "\n",
        "#include <stdio.h>\n",
        "#include <stdlib.h>\n",
        "#include \"../src/common.h\"\n",
        "#include <cuda.h>\n",
        "#include \"cublas_v2.h\"\n",
        "#include \"../src/const_v1.h\"\n",
        "\n",
        "float *matrix_norm(cublasHandle_t handle, float *matrix)\n",
        "{\n",
        "  float *d_matrix;\n",
        "  float norm;\n",
        "  int n = N*N;\n",
        "  \n",
        "  CHECK(cudaMalloc(&d_matrix, N*N*sizeof(float)));\n",
        "  CHECK_CUBLAS(cublasSetVector(N*N, sizeof(float), matrix, 1, d_matrix, 1));\n",
        "\n",
        "  CHECK_CUBLAS(cublasSnrm2(handle, n, d_matrix, 1, &norm));\n",
        "  \n",
        "  norm = 1/norm;\n",
        "  CHECK_CUBLAS(cublasSscal(handle, n, &norm, d_matrix, 1));\n",
        "\n",
        "  return d_matrix;\n",
        "}"
      ],
      "metadata": {
        "id": "IX-kqkg9-mpm"
      },
      "execution_count": null,
      "outputs": []
    },
    {
      "cell_type": "code",
      "source": [
        "%%writefile src/abModule_v1.cu\n",
        "\n",
        "#include <stdio.h>\n",
        "#include <stdlib.h>\n",
        "#include \"../src/common.h\"\n",
        "#include \"../src/structs_v1.h\"\n",
        "#include <cuda.h>\n",
        "#include \"cublas_v2.h\"\n",
        "#include \"../src/const_v1.h\"\n",
        "\n",
        "  // only works on nvcc 11.2, here is 11.1\n",
        "  //cudaMallocAsync(&d_A, N*sizeof(float), a_stream);\n",
        "\n",
        "abv ab_compute(cublasHandle_t a_handle, cublasHandle_t b_handle, float *d_W, float *d_cTheta, float *d_sTheta)\n",
        "{\n",
        "  float *d_A, *d_B;\n",
        "  float alpha = 1.0f;\n",
        "  float beta = 0.0f;\n",
        "\n",
        "  CHECK(cudaMalloc((void **)&d_A, N*sizeof(float)));\n",
        "\n",
        "  CHECK_CUBLAS(cublasSgemv(a_handle, CUBLAS_OP_N,\n",
        "     N, N, &alpha, d_W, N, d_cTheta, 1,\n",
        "    &beta, d_A, 1));\n",
        "\n",
        "  //compute B\n",
        "\n",
        "  CHECK(cudaMalloc((void **)&d_B, N*sizeof(float)));\n",
        "\n",
        "  CHECK_CUBLAS(cublasSgemv(b_handle, CUBLAS_OP_N,\n",
        "     N, N, &alpha, d_W, N, d_sTheta, 1,\n",
        "    &beta, d_B, 1));\n",
        "\n",
        "  CHECK(cudaDeviceSynchronize());\n",
        "\n",
        "  struct abv s;\n",
        "\n",
        "  s.A = d_A;\n",
        "  s.B = d_B;\n",
        "\n",
        "  return s;\n",
        "}"
      ],
      "metadata": {
        "id": "rP52UUjR-mlP"
      },
      "execution_count": null,
      "outputs": []
    },
    {
      "cell_type": "code",
      "source": [
        "%%writefile src/abUpdateModule_v1.cu\n",
        "\n",
        "#include <stdio.h>\n",
        "#include <stdlib.h>\n",
        "#include <math.h>\n",
        "#include \"../src/common.h\"\n",
        "#include <cuda.h>\n",
        "#include \"cublas_v2.h\"\n",
        "#include \"../src/const_v1.h\"\n",
        "\n",
        "void ab_update(cublasHandle_t a_handle, cublasHandle_t b_handle, float *d_W, int offset, float *d_A, float *d_B, float theta, float old)\n",
        "{\n",
        "  float s_alpha, c_alpha;\n",
        "\n",
        "  s_alpha = sin(theta) - sin(old);\n",
        "  c_alpha = cos(theta) - cos(old);\n",
        "\n",
        "  CHECK_CUBLAS(cublasSaxpy(a_handle, N, &c_alpha, d_W+(N*offset), 1, d_A, 1));\n",
        "  CHECK_CUBLAS(cublasSaxpy(b_handle, N, &s_alpha, d_W+(N*offset), 1, d_B, 1));\n",
        "\n",
        "  return;\n",
        "}"
      ],
      "metadata": {
        "id": "LswJKs3s-mga"
      },
      "execution_count": null,
      "outputs": []
    },
    {
      "cell_type": "code",
      "source": [
        "%%writefile src/cudaMain_v1.cu\n",
        "\n",
        "#include <stdio.h>\n",
        "#include <stdlib.h>\n",
        "#include <math.h>\n",
        "#include \"../src/matrixModule_v1.cu\"\n",
        "#include \"../src/thetaModule_v1.cu\"\n",
        "#include \"../src/abModule_v1.cu\"\n",
        "#include \"../src/abUpdateModule_v1.cu\"\n",
        "#include \"../src/structs_v1.h\"\n",
        "#include \"../src/const_v1.h\"\n",
        "\n",
        "/*\n",
        "* MAIN\n",
        "*/\n",
        "\n",
        "int main()\n",
        "{\n",
        "  float *d_theta, *d_sTheta, *d_cTheta, *d_W, *d_A, *d_B;\n",
        "  cublasHandle_t a_handle, b_handle;\n",
        "  float *matrix;\n",
        "  struct gtv t;\n",
        "  struct abv ab;\n",
        "\n",
        "  CHECK_CUBLAS(cublasCreate(&a_handle));\n",
        "  CHECK_CUBLAS(cublasCreate(&b_handle));\n",
        "\n",
        "  //compute theta, sin, cos\n",
        "  t = theta_sin_cos();\n",
        "  d_theta = t.theta;\n",
        "  d_cTheta = t.cos_theta; \n",
        "  d_sTheta = t.sin_theta;\n",
        "\n",
        "  //create matrix\n",
        "  matrix = (float *) malloc(sizeof(float) * N*N);\n",
        "  for(long i=0;i<N*N;i++)\n",
        "    matrix[i]=rand()%100;\n",
        "\n",
        "  //normalize matrix\n",
        "  d_W = matrix_norm(a_handle, matrix);\n",
        "\n",
        "  CHECK(cudaDeviceSynchronize());\n",
        "\n",
        "  free(matrix);\n",
        "\n",
        "  //compute A B\n",
        "  ab = ab_compute(a_handle, b_handle, d_W, d_cTheta, d_sTheta);\n",
        "  d_A = ab.A;\n",
        "  d_B = ab.B;\n",
        "\n",
        "  //loop function\n",
        "  int ok = 1;\n",
        "  int rounds = 0;\n",
        "  float theta, old, a, b, x, y, min;\n",
        "\n",
        "  while(ok)\n",
        "  {\n",
        "    ok=0;\n",
        "    rounds++;\n",
        "    \n",
        "    for(int i=0; i < N; i++)\n",
        "    {  \n",
        "        CHECK(cudaMemcpy(&old, d_theta+i, sizeof(float), cudaMemcpyDeviceToHost));\n",
        "        CHECK(cudaMemcpy(&a, d_A+i, sizeof(float), cudaMemcpyDeviceToHost));\n",
        "        CHECK(cudaMemcpy(&b, d_B+i, sizeof(float), cudaMemcpyDeviceToHost));\n",
        "\n",
        "        theta = atan(b/a);\n",
        "\n",
        "        if(a >= 0) theta += M_PI; else if (b > 0) theta += 2*M_PI;\n",
        "\n",
        "        CHECK(cudaMemcpy(d_theta+i, &theta, sizeof(float), cudaMemcpyHostToDevice));\n",
        "\n",
        "        x = abs(old-theta);\n",
        "        y = abs(2*M_PI-old+theta);\n",
        "        min = x < y ? x : y; \n",
        "\n",
        "        if ( min > EPS )\n",
        "          ok = 1;\n",
        "\n",
        "        ab_update(a_handle, b_handle, d_W, i, d_A, d_B, theta, old); \n",
        "    }\n",
        "\n",
        "    if(rounds >= ROUNDS) ok = 0; else ok = 1;\n",
        "  }\n",
        "}"
      ],
      "metadata": {
        "id": "HEthK84i-maw"
      },
      "execution_count": null,
      "outputs": []
    },
    {
      "cell_type": "code",
      "source": [
        "!nvcc -o /content/main_v1 /content/src/cudaMain_v1.cu -lcurand -lcublas\n",
        "#!!nvprof ./main_v1\n",
        "#!nvprof --analysis-metrics -o main.nvprof ./main_v1"
      ],
      "metadata": {
        "id": "nW991ZbD-1dc"
      },
      "execution_count": null,
      "outputs": []
    },
    {
      "cell_type": "code",
      "source": [
        "%%capture\n",
        "avg_time_of(os.system, [\"Cuda V1\", \"./main_v1\"])"
      ],
      "metadata": {
        "id": "xdDs_1ulMIa4"
      },
      "execution_count": null,
      "outputs": []
    },
    {
      "cell_type": "code",
      "source": [
        "avg_time_of(os.system, [\"Cuda V1\", \"./main_v1\"])"
      ],
      "metadata": {
        "id": "UZCIU4zSMrma"
      },
      "execution_count": null,
      "outputs": []
    },
    {
      "cell_type": "markdown",
      "source": [
        "## GPU - CUDA C V_2"
      ],
      "metadata": {
        "id": "JqF9-j1HJv5O"
      }
    },
    {
      "cell_type": "code",
      "source": [
        "%%writefile src/cudaMain_v2.cu\n",
        "\n",
        "#include <stdio.h>\n",
        "#include <stdlib.h>\n",
        "#include <math.h>\n",
        "#include <curand.h>\n",
        "#include \"cublas_v2.h\"\n",
        "#include <cuda.h>\n",
        "#include \"../src/common.h\"\n",
        "\n",
        "#define N 10000\n",
        "#define TOW_TIMES_PI 2*M_PI\n",
        "#define BLOCK_SIZE 128\n",
        "#define EPS 0.1\n",
        "#define ROUNDS 32\n",
        "\n",
        "\n",
        "__global__ void Kernel_1(float *thetas)\n",
        "{\n",
        "  unsigned int tid = threadIdx.x + blockIdx.x * blockDim.x;\n",
        "  \n",
        "  if (tid < N)\n",
        "  {\n",
        "    float x = TOW_TIMES_PI* thetas[tid];\n",
        "    thetas[tid] = x;\n",
        "    thetas[tid+N] = cos(x);\n",
        "    thetas[tid+(N*2)] = sin(x);\n",
        "  }\n",
        "}\n",
        "\n",
        "/*\n",
        "* MAIN\n",
        "*/\n",
        "\n",
        "int main()\n",
        "{\n",
        "  float *d_thetas, *d_W, *d_AB, *theta, norm, *matrix, *ab;\n",
        "  cublasHandle_t a_handle, b_handle;\n",
        "  cudaStream_t stream0, stream1, stream2;\n",
        "  curandGenerator_t gen;\n",
        "  int n = N*N;\n",
        "  float alpha = 1.0f;\n",
        "  float beta = 0.0f;\n",
        "\n",
        "  //define grid and block for kernel 1\n",
        "  dim3 block(BLOCK_SIZE, 1, 1);\n",
        "\tdim3 grid((N + block.x - 1) / block.x, 1, 1);\n",
        "\n",
        "  //allocate host memory\n",
        "  theta = (float*) malloc(sizeof(float)*N);\n",
        "  matrix = (float *) malloc(sizeof(float) * N*N);\n",
        "  ab = (float*) malloc(sizeof(float)*2);\n",
        "\n",
        "  //create matrix on host // JUST FOR DEBUG\n",
        "  for(long i=0;i<N*N;i++)\n",
        "    matrix[i]=rand()%100;\n",
        "\n",
        "  //Allocate pinned memeory\n",
        "  // pack this in only one malloc\n",
        "  CHECK(cudaMalloc((void **) &d_thetas, 3*N*sizeof(float))); \n",
        "  CHECK(cudaMalloc((void **) &d_W, N*N*sizeof(float)));\n",
        "  CHECK(cudaMalloc((void **)&d_AB, 2*N*sizeof(float)));\n",
        "  \n",
        "  //Create API Handlers\n",
        "  CHECK_CURAND(curandCreateGenerator (&gen, CURAND_RNG_PSEUDO_DEFAULT));\n",
        "  CHECK_CUBLAS(cublasCreate(&a_handle));\n",
        "  CHECK_CUBLAS(cublasCreate(&b_handle));\n",
        "\n",
        "  //Create Streams\n",
        "  CHECK(cudaStreamCreate(&stream0));\n",
        "  CHECK(cudaStreamCreate(&stream1));\n",
        "  CHECK(cudaStreamCreate(&stream2));\n",
        "\n",
        "  //bind streams to CUDA API handlers\n",
        "  CHECK_CURAND(curandSetStream(gen, stream2));\n",
        "  CHECK_CUBLAS(cublasSetStream(a_handle, stream1));\n",
        "  CHECK_CUBLAS(cublasSetStream(b_handle, stream0));\n",
        "\n",
        "  //set up curand gen seed\n",
        "  CHECK_CURAND(curandSetPseudoRandomGeneratorSeed(gen, 1234ULL));\n",
        "\n",
        "  //load matrix on GPU\n",
        "  CHECK_CUBLAS(cublasSetMatrixAsync(N, N, sizeof(float), matrix, N, d_W, N, stream1));\n",
        "  \n",
        "  //compute theta, sin, cos\n",
        "  //try to create uniform inside kernel\n",
        "  CHECK_CURAND(curandGenerateUniform(gen , d_thetas, N));\n",
        "  Kernel_1<<<block, grid, 0, stream2>>>(d_thetas);\n",
        "\n",
        "  //normalize matrix\n",
        "  CHECK_CUBLAS(cublasSnrm2(a_handle, n, d_W, 1, &norm));\n",
        "  norm = 1/norm;\n",
        "  CHECK_CUBLAS(cublasSscal(a_handle, n, &norm, d_W, 1));\n",
        "\n",
        "  CHECK(cudaDeviceSynchronize());\n",
        "\n",
        "  //copy data back to HOST\n",
        "  CHECK(cudaMemcpyAsync(theta, d_thetas, sizeof(float)*N, cudaMemcpyDeviceToHost, stream2));\n",
        "\n",
        "  //compute A and B\n",
        "  CHECK_CUBLAS(cublasSgemv(a_handle, CUBLAS_OP_N,\n",
        "     N, N, &alpha, d_W, N, d_thetas+N, 1,\n",
        "    &beta, d_AB, 2));\n",
        "  CHECK_CUBLAS(cublasSgemv(b_handle, CUBLAS_OP_N,\n",
        "     N, N, &alpha, d_W, N, d_thetas+(N*2), 1,\n",
        "    &beta, d_AB+1, 2));\n",
        "\n",
        "  int ok = 1;\n",
        "  int rounds = 0;\n",
        "  float old, x, y, min;\n",
        "\n",
        "  while(ok)\n",
        "  {\n",
        "    ok=0;\n",
        "    rounds++;\n",
        "\n",
        "    for(int i=0; i < N; i++)\n",
        "    {  \n",
        "      //only one memcopy of 2*sizeof(float)\n",
        "        CHECK(cudaMemcpy(ab, d_AB+(i*2), 2*sizeof(float), cudaMemcpyDeviceToHost));\n",
        "      \n",
        "        old = theta[i];\n",
        "        theta[i] = atan(ab[1]/ab[0]);\n",
        "\n",
        "        if(ab[0] >= 0) theta[i] += M_PI; else if (ab[1] > 0) theta[i] += TOW_TIMES_PI;\n",
        "\n",
        "        x = abs(old-theta[i]);\n",
        "        y = abs(TOW_TIMES_PI-old+theta[i]);\n",
        "        min = x < y ? x : y; \n",
        "\n",
        "        if(min > EPS) ok = 1;\n",
        "\n",
        "        float s_alpha = sin(theta[i]) - sin(old);\n",
        "        float c_alpha = cos(theta[i]) - cos(old);\n",
        "\n",
        "        int off = N*i;\n",
        "        CHECK_CUBLAS(cublasSaxpy(a_handle, N, &c_alpha, d_W+off, 1, d_AB, 2));\n",
        "        CHECK_CUBLAS(cublasSaxpy(b_handle, N, &s_alpha, d_W+off, 1, d_AB+1, 2));\n",
        "    }\n",
        "\n",
        "    if(rounds >= ROUNDS) ok = 0; else ok = 1;\n",
        "  }\n",
        "\n",
        "  free(ab);\n",
        "  free(matrix);\n",
        "  free(theta);\n",
        "  CHECK(cudaFree(d_thetas));\n",
        "  CHECK(cudaFree(d_W));\n",
        "  CHECK(cudaFree(d_AB));\n",
        "  CHECK_CURAND(curandDestroyGenerator(gen));\n",
        "  CHECK(cudaDeviceReset());\n",
        "  return 0;\n",
        "}"
      ],
      "metadata": {
        "id": "Vc1YRYzF_ArY"
      },
      "execution_count": null,
      "outputs": []
    },
    {
      "cell_type": "code",
      "source": [
        "%%writefile src/matrix_v2.cu\n",
        "\n",
        "#define N 10000\n",
        "\n",
        "int main()\n",
        "{\n",
        "  //create matrix\n",
        "  float *matrix;\n",
        "  matrix = (float *) malloc(sizeof(float) * N*N);\n",
        "  for(long i=0;i<N*N;i++)\n",
        "    matrix[i]=rand()%100;\n",
        "}"
      ],
      "metadata": {
        "id": "ZqoR7CBraCAu"
      },
      "execution_count": null,
      "outputs": []
    },
    {
      "cell_type": "code",
      "source": [
        "!nvcc -o /content/matrix_v2 /content/src/matrix_v2.cu\n",
        "!nvcc -o /content/main_v2 /content/src/cudaMain_v2.cu -lcurand -lcublas\n",
        "#!nvprof ./main_v2\n",
        "#!nvprof --export-profile main.nvprof ./main_v2"
      ],
      "metadata": {
        "id": "PZW1ibr6a6qW"
      },
      "execution_count": null,
      "outputs": []
    },
    {
      "cell_type": "code",
      "source": [
        "%%capture\n",
        "avg_time_of(os.system, [\"Matrix\", \"./matrix_v2\"])\n",
        "avg_time_of(os.system, [\"Cuda V2\", \"./main_v2\"])"
      ],
      "metadata": {
        "id": "4Wc04KFmL98M"
      },
      "execution_count": null,
      "outputs": []
    },
    {
      "cell_type": "code",
      "source": [
        "avg_time_of(os.system, [\"Matrix\", \"./matrix_v2\"])\n",
        "avg_time_of(os.system, [\"Cuda V2\", \"./main_v2\"])"
      ],
      "metadata": {
        "id": "veCSe_MFbGUA"
      },
      "execution_count": null,
      "outputs": []
    },
    {
      "cell_type": "markdown",
      "source": [
        "## GPU - CUDA C + BLAS"
      ],
      "metadata": {
        "id": "YD5S-tzbRcm4"
      }
    },
    {
      "cell_type": "code",
      "source": [
        "%%writefile src/cudaHybrid.cu\n",
        "\n",
        "#include <cblas.h>\n",
        "#include <stdio.h>\n",
        "#include <stdlib.h>\n",
        "#include <math.h>\n",
        "#include <curand.h>\n",
        "#include \"cublas_v2.h\"\n",
        "#include <cuda.h>\n",
        "#include \"../src/common.h\"\n",
        "\n",
        "#define N 10000\n",
        "#define TOW_TIMES_PI 2*M_PI\n",
        "#define BLOCK_SIZE 128\n",
        "#define EPS 0.1\n",
        "#define ROUNDS 32\n",
        "\n",
        "\n",
        "__global__ void Kernel_1(float *thetas)\n",
        "{\n",
        "  unsigned int tid = threadIdx.x + blockIdx.x * blockDim.x;\n",
        "  \n",
        "  if (tid < N)\n",
        "  {\n",
        "    float x = TOW_TIMES_PI* thetas[tid];\n",
        "    thetas[tid] = x;\n",
        "    thetas[tid+N] = cos(x);\n",
        "    thetas[tid+(N*2)] = sin(x);\n",
        "  }\n",
        "}\n",
        "\n",
        "/*\n",
        "* MAIN\n",
        "*/\n",
        "\n",
        "int main()\n",
        "{\n",
        "  float *d_thetas, *d_W, *d_AB, *theta, norm, *matrix, *ab;\n",
        "  cublasHandle_t a_handle, b_handle;\n",
        "  cudaStream_t stream0, stream1, stream2;\n",
        "  curandGenerator_t gen;\n",
        "  int n = N*N;\n",
        "  float alpha = 1.0f;\n",
        "  float beta = 0.0f;\n",
        "\n",
        "  //define grid and block for kernel 1\n",
        "  dim3 block(BLOCK_SIZE, 1, 1);\n",
        "\tdim3 grid((N + block.x - 1) / block.x, 1, 1);\n",
        "\n",
        "  //allocate host memory\n",
        "  theta =  (float *) malloc( sizeof(float) *N   );\n",
        "  matrix = (float *) malloc( sizeof(float) *N*N );\n",
        "  ab =     (float *) malloc( sizeof(float) *2*N );\n",
        "\n",
        "  //create matrix on host // JUST FOR DEBUG\n",
        "  for(long i=0;i<N*N;i++)\n",
        "    matrix[i]=rand()%100;\n",
        "\n",
        "  //Allocate pinned memeory\n",
        "  // pack this in only one malloc\n",
        "  CHECK(cudaMalloc((void **) &d_thetas, 3*N*sizeof(float))); \n",
        "  CHECK(cudaMalloc((void **) &d_W, N*N*sizeof(float)));\n",
        "  CHECK(cudaMalloc((void **)&d_AB, 2*N*sizeof(float)));\n",
        "  \n",
        "  //Create API Handlers\n",
        "  CHECK_CURAND(curandCreateGenerator (&gen, CURAND_RNG_PSEUDO_DEFAULT));\n",
        "  CHECK_CUBLAS(cublasCreate(&a_handle));\n",
        "  CHECK_CUBLAS(cublasCreate(&b_handle));\n",
        "\n",
        "  //Create Streams\n",
        "  CHECK(cudaStreamCreate(&stream0));\n",
        "  CHECK(cudaStreamCreate(&stream1));\n",
        "  CHECK(cudaStreamCreate(&stream2));\n",
        "\n",
        "  //bind streams to CUDA API handlers\n",
        "  CHECK_CURAND(curandSetStream(gen, stream2));\n",
        "  CHECK_CUBLAS(cublasSetStream(a_handle, stream1));\n",
        "  CHECK_CUBLAS(cublasSetStream(b_handle, stream0));\n",
        "\n",
        "  //set up curand gen seed\n",
        "  CHECK_CURAND(curandSetPseudoRandomGeneratorSeed(gen, 1234ULL));\n",
        "\n",
        "  //load matrix on GPU\n",
        "  CHECK_CUBLAS(cublasSetMatrixAsync(N, N, sizeof(float), matrix, N, d_W, N, stream1));\n",
        "  \n",
        "  //compute theta, sin, cos\n",
        "  //try to create uniform inside kernel\n",
        "  CHECK_CURAND(curandGenerateUniform(gen , d_thetas, N));\n",
        "  Kernel_1<<<block, grid, 0, stream2>>>(d_thetas);\n",
        "\n",
        "  //normalize matrix\n",
        "  CHECK_CUBLAS(cublasSnrm2(a_handle, n, d_W, 1, &norm));\n",
        "  norm = 1/norm;\n",
        "  CHECK_CUBLAS(cublasSscal(a_handle, n, &norm, d_W, 1));\n",
        "\n",
        "  CHECK(cudaDeviceSynchronize());\n",
        "\n",
        "  //copy data back to HOST\n",
        "  CHECK(cudaMemcpyAsync(theta, d_thetas, sizeof(float)*N, cudaMemcpyDeviceToHost, stream2));\n",
        "\n",
        "  //compute A and B\n",
        "  CHECK_CUBLAS(cublasSgemv(a_handle, CUBLAS_OP_N,\n",
        "     N, N, &alpha, d_W, N, d_thetas+N, 1,\n",
        "    &beta, d_AB, 2));\n",
        "  CHECK_CUBLAS(cublasSgemv(b_handle, CUBLAS_OP_N,\n",
        "     N, N, &alpha, d_W, N, d_thetas+(N*2), 1,\n",
        "    &beta, d_AB+1, 2));\n",
        "\n",
        "  CHECK(cudaMemcpy(ab    , d_AB, sizeof(float) *2*N, cudaMemcpyDeviceToHost) );\n",
        "  CHECK(cudaMemcpy(matrix, d_W , sizeof(float) *N*N, cudaMemcpyDeviceToHost) );\n",
        "\n",
        "  int ok = 1;\n",
        "  int rounds = 0;\n",
        "  float old, x, y, min, a, b;\n",
        "\n",
        "  while(ok)\n",
        "  {\n",
        "    ok=0;\n",
        "    rounds++;\n",
        "\n",
        "    for(int i=0; i < N; i++)\n",
        "    {  \n",
        "        a = ab[ i*2 ];\n",
        "        b = ab[ (i*2)+1 ];\n",
        "        old = theta[i];\n",
        "        theta[i] = atan(ab[1]/ab[0]);\n",
        "\n",
        "        if( a >= 0 ) theta[i] += M_PI; else if ( b > 0 ) theta[i] += TOW_TIMES_PI;\n",
        "\n",
        "        x = abs(old-theta[i]);\n",
        "        y = abs(TOW_TIMES_PI-old+theta[i]);\n",
        "        min = x < y ? x : y; \n",
        "\n",
        "        if(min > EPS) ok = 1;\n",
        "\n",
        "        float s_alpha = sin(theta[i]) - sin(old);\n",
        "        float c_alpha = cos(theta[i]) - cos(old);\n",
        "\n",
        "        int off = N*i;\n",
        "\n",
        "        cblas_saxpy(N, c_alpha, matrix+off, 1, ab, 2);\n",
        "        cblas_saxpy(N, s_alpha, matrix+off, 1, ab+1, 2);\n",
        "    }\n",
        "\n",
        "    if(rounds >= ROUNDS) ok = 0; else ok = 1;\n",
        "  }\n",
        "\n",
        "  free(ab);\n",
        "  free(matrix);\n",
        "  free(theta);\n",
        "  CHECK(cudaFree(d_thetas));\n",
        "  CHECK(cudaFree(d_W));\n",
        "  CHECK(cudaFree(d_AB));\n",
        "  CHECK_CURAND(curandDestroyGenerator(gen));\n",
        "  CHECK(cudaDeviceReset());\n",
        "  return 0;\n",
        "}"
      ],
      "metadata": {
        "id": "JFQiKGLWRk1B"
      },
      "execution_count": null,
      "outputs": []
    },
    {
      "cell_type": "code",
      "source": [
        "!nvcc -o /content/mainHybrid /content/src/cudaHybrid.cu -lcurand -lcublas -lblas\n",
        "#!nvprof ./mainHybrid\n",
        "#!nvprof --export-profile main.nvprof ./mainHybrid"
      ],
      "metadata": {
        "id": "w2YYNtnZRuUm"
      },
      "execution_count": null,
      "outputs": []
    },
    {
      "cell_type": "code",
      "source": [
        "%%capture\n",
        "avg_time_of(os.system, [\"Cuda Hybrid\", \"./mainHybrid\"])"
      ],
      "metadata": {
        "id": "GzT_D0_CRyWY"
      },
      "execution_count": null,
      "outputs": []
    },
    {
      "cell_type": "code",
      "source": [
        "avg_time_of(os.system, [\"Cuda Hybrid\", \"./mainHybrid\"])"
      ],
      "metadata": {
        "id": "72jo0UU7R1J7"
      },
      "execution_count": null,
      "outputs": []
    },
    {
      "cell_type": "markdown",
      "source": [
        "## GPU - CUPY"
      ],
      "metadata": {
        "id": "JhOhWaDnCaNa"
      }
    },
    {
      "cell_type": "code",
      "source": [
        "import cupy\n",
        "\n",
        "@numba.jit\n",
        "def CSN_CUPY(W_, eps=0.01, seed=1, same_random=True):\n",
        "  \n",
        "  n = W_.shape[0]\n",
        "  PI = cupy.pi\n",
        "  \n",
        "  W = cupy.array(W_)\n",
        "\n",
        "  W = W / cupy.linalg.norm(W)\n",
        "\n",
        "  if same_random: ## only to check corectness\n",
        "    numpy.random.seed(seed)\n",
        "    theta = (2*PI)*numpy.random.rand(n)\n",
        "    theta = cupy.asarray(theta)\n",
        "  else:\n",
        "    cupy.random.seed(seed)\n",
        "    theta = (2*PI)*cupy.random.rand(n)\n",
        "\n",
        "  old = cupy.copy(theta)\n",
        "  sin_t = cupy.sin(theta)\n",
        "  cos_t = cupy.cos(theta)\n",
        "\n",
        "  A = cupy.dot(W, cos_t)\n",
        "  B = cupy.dot(W, sin_t)\n",
        "\n",
        "  #main loop\n",
        "  ok = True\n",
        "  rounds = 0\n",
        "  global ROUNDS\n",
        "  while rounds < ROUNDS: #replace it with <<ok>>\n",
        "    ok = False\n",
        "    rounds += 1\n",
        "    nchanges = 0\n",
        "\n",
        "    if rounds > 1:\n",
        "      old = cupy.copy(theta)\n",
        "      sin_t = numpy.sin(theta)\n",
        "      cos_t = numpy.cos(theta)\n",
        "\n",
        "    #loop on angles\n",
        "    for i in range(n):\n",
        "      theta[i] = cupy.arctan(B[i]/A[i])    # within [-PI/2, PI/2]\n",
        "\n",
        "      if A[i] >= 0:\n",
        "        theta[i] += PI\n",
        "      elif B[i] > 0:\n",
        "        theta[i] += 2*PI\n",
        "\n",
        "      if min(abs(old[i]-theta[i]),abs(2*PI-old[i]+theta[i])) > eps:\n",
        "        ok = True\n",
        "        nchanges += 1\n",
        "\n",
        "      A += cupy.multiply(W[i,:], cupy.cos(theta[i]) - cos_t[i])\n",
        "      B += cupy.multiply(W[i,:], cupy.sin(theta[i]) - sin_t[i])\n",
        "\n",
        "  print(\"rounds=\"+str(rounds))\n",
        "\n",
        "  return cupy.asnumpy(theta)"
      ],
      "metadata": {
        "id": "lLhUHTskFGP4"
      },
      "execution_count": null,
      "outputs": []
    },
    {
      "cell_type": "markdown",
      "source": [
        " # 🏎 Speed Tests"
      ],
      "metadata": {
        "id": "XoT2SfGHh3sS"
      }
    },
    {
      "cell_type": "markdown",
      "source": [
        "### Between Whole Functions"
      ],
      "metadata": {
        "id": "MyctdrX5EVDg"
      }
    },
    {
      "cell_type": "markdown",
      "source": [
        "ROUNDS=32, N=10.000\n",
        "\n",
        "CPU LEGACY:        8.312211 seconds.\n",
        "\n",
        "CPU OPTIMIZED: \t\t 4.810815 seconds.\n",
        "\n",
        "GPU CUDA C V1: \t\t16.087364 seconds.\n",
        "\n",
        "GPU CUDA C V2: \t\t 8.498071 seconds.\n",
        "\n",
        "GPU CUDA C Hybrid: 5.775237 seconds.\n",
        "\n",
        "GPU CUPY:          >100 seconds.\n",
        "\n",
        "\n",
        "\n",
        "---\n",
        "\n",
        "\n",
        "\n",
        "---\n",
        "\n",
        "\n",
        "---\n",
        "\n",
        "ROUNDS=64, N=10.000\n",
        "\n",
        "CPU LEGACY:        14.301987 seconds.\n",
        "\n",
        "CPU OPTIMIZED: \t\t  8.574781 seconds.\n",
        "\n",
        "GPU CUDA C V1: \t\t 30.281807 seconds.\n",
        "\n",
        "GPU CUDA C V2: \t\t 15.906118 seconds.\n",
        "\n",
        "GPU CUDA C Hybrid: 9.487890 seconds.\n",
        "\n",
        "GPU CUPY:          >100 seconds."
      ],
      "metadata": {
        "id": "8iM2Yf9KOG3H"
      }
    },
    {
      "cell_type": "markdown",
      "source": [
        "### Between single fuctions"
      ],
      "metadata": {
        "id": "pCafxg9iEe-a"
      }
    },
    {
      "cell_type": "markdown",
      "source": [
        "#### numpy - cupy (Thetas generation)"
      ],
      "metadata": {
        "id": "sHYtG-_t4P6o"
      }
    },
    {
      "cell_type": "code",
      "source": [
        "import numpy\n",
        "import cupy\n",
        "\n",
        "def np(n):\n",
        "  numpy.random.seed(0)\n",
        "\n",
        "  theta = 2*numpy.pi*numpy.random.rand(n)\n",
        "  sin_t = numpy.sin(theta)\n",
        "  cos_t = numpy.cos(theta)\n",
        "\n",
        "def cp(n):\n",
        "  cupy.random.seed(0)\n",
        "\n",
        "  theta = 2*cupy.pi*cupy.random.rand(n)\n",
        "  sin_t = cupy.sin(theta)\n",
        "  cos_t = cupy.cos(theta)\n",
        "\n",
        "  cupy.asnumpy(theta)\n",
        "  cupy.asnumpy(sin_t)\n",
        "  cupy.asnumpy(cos_t)"
      ],
      "metadata": {
        "id": "DXM0ZuUK6JXw"
      },
      "execution_count": null,
      "outputs": []
    },
    {
      "cell_type": "code",
      "source": [
        "%%capture\n",
        "n = 20\n",
        "\n",
        "avg_time_of(np, [\"Numpy\", n])\n",
        "avg_time_of(cp, [\"Cupy\", n])"
      ],
      "metadata": {
        "id": "9-XY6XP1IuB6"
      },
      "execution_count": null,
      "outputs": []
    },
    {
      "cell_type": "code",
      "source": [
        "n = 10000\n",
        "\n",
        "avg_time_of(np, [\"Numpy\", n])\n",
        "avg_time_of(cp, [\"Cupy\", n])"
      ],
      "metadata": {
        "id": "qsU9J3LuGauo"
      },
      "execution_count": null,
      "outputs": []
    }
  ]
}